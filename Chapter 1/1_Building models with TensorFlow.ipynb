{
  "nbformat": 4,
  "nbformat_minor": 0,
  "metadata": {
    "colab": {
      "name": "1_Building models with TensorFlow.ipynb",
      "version": "0.3.2",
      "provenance": [],
      "collapsed_sections": []
    },
    "kernelspec": {
      "name": "python3",
      "display_name": "Python 3"
    },
    "accelerator": "GPU"
  },
  "cells": [
    {
      "metadata": {
        "id": "bWTvr1rjFNzZ",
        "colab_type": "text"
      },
      "cell_type": "markdown",
      "source": [
        "**Importing TensorFlow library**"
      ]
    },
    {
      "metadata": {
        "id": "qnsrsEMyvdd1",
        "colab_type": "code",
        "colab": {}
      },
      "cell_type": "code",
      "source": [
        "import tensorflow as tf"
      ],
      "execution_count": 0,
      "outputs": []
    },
    {
      "metadata": {
        "id": "x20MZ9chFZ6P",
        "colab_type": "text"
      },
      "cell_type": "markdown",
      "source": [
        "**To provide a dummy dataset, we'll use numpy and the following code:**"
      ]
    },
    {
      "metadata": {
        "id": "s37FSoM1CXRO",
        "colab_type": "code",
        "colab": {}
      },
      "cell_type": "code",
      "source": [
        "import numpy as np\n",
        "\n",
        "x_input = np.array([[1, 2, 3, 4, 5]])\n",
        "y_input = np.array([[10]])"
      ],
      "execution_count": 0,
      "outputs": []
    },
    {
      "metadata": {
        "id": "ZpPYIrvWFijO",
        "colab_type": "text"
      },
      "cell_type": "markdown",
      "source": [
        "**When defining a TensorFlow model, we can't feed the data directly to the model.\n",
        "We have to create a placeholder that acts like an entry point for the data feed**"
      ]
    },
    {
      "metadata": {
        "id": "E06vnlXaCs_D",
        "colab_type": "code",
        "colab": {}
      },
      "cell_type": "code",
      "source": [
        "x = tf.placeholder(tf.float32, [None, 5])\n",
        "\n",
        "y = tf.placeholder(tf.float32, [None, 1])"
      ],
      "execution_count": 0,
      "outputs": []
    },
    {
      "metadata": {
        "id": "2yMHsBLqF4Ed",
        "colab_type": "text"
      },
      "cell_type": "markdown",
      "source": [
        "**Afterwards, we apply some operations to the placeholder with some variables**"
      ]
    },
    {
      "metadata": {
        "id": "tp83wMzdDfM7",
        "colab_type": "code",
        "outputId": "667d05a4-f151-4096-a36e-77ccb9436d15",
        "colab": {
          "base_uri": "https://localhost:8080/",
          "height": 91
        }
      },
      "cell_type": "code",
      "source": [
        "W = tf.Variable(tf.zeros([5, 1]))\n",
        "\n",
        "b = tf.Variable(tf.zeros([1]))\n",
        "\n",
        "y_pred = tf.matmul(x, W) + b"
      ],
      "execution_count": 0,
      "outputs": [
        {
          "output_type": "stream",
          "text": [
            "WARNING:tensorflow:From /usr/local/lib/python3.6/dist-packages/tensorflow/python/framework/op_def_library.py:263: colocate_with (from tensorflow.python.framework.ops) is deprecated and will be removed in a future version.\n",
            "Instructions for updating:\n",
            "Colocations handled automatically by placer.\n"
          ],
          "name": "stdout"
        }
      ]
    },
    {
      "metadata": {
        "id": "TYLYTSUtGCEE",
        "colab_type": "text"
      },
      "cell_type": "markdown",
      "source": [
        "**Define a loss function, as follows**"
      ]
    },
    {
      "metadata": {
        "id": "4m8OcoKMDr64",
        "colab_type": "code",
        "colab": {}
      },
      "cell_type": "code",
      "source": [
        "loss = tf.reduce_sum(tf.pow((y - y_pred), 2))"
      ],
      "execution_count": 0,
      "outputs": []
    },
    {
      "metadata": {
        "id": "Az4ilssFGFR_",
        "colab_type": "text"
      },
      "cell_type": "markdown",
      "source": [
        "**Specifying the optimizer and the variable we want to minimize**"
      ]
    },
    {
      "metadata": {
        "id": "hVHOyrg0EIrS",
        "colab_type": "code",
        "colab": {}
      },
      "cell_type": "code",
      "source": [
        "train = tf.train.GradientDescentOptimizer(0.0001).minimize(loss)"
      ],
      "execution_count": 0,
      "outputs": []
    },
    {
      "metadata": {
        "id": "Q2QNz8taGLKm",
        "colab_type": "text"
      },
      "cell_type": "markdown",
      "source": [
        "**In TF, it's important that we initialize all variables. Thus, we create a variable 'init'**"
      ]
    },
    {
      "metadata": {
        "id": "eqR8kHQWERmT",
        "colab_type": "code",
        "colab": {}
      },
      "cell_type": "code",
      "source": [
        "init = tf.global_variables_initializer()"
      ],
      "execution_count": 0,
      "outputs": []
    },
    {
      "metadata": {
        "id": "8fnI0msNGUek",
        "colab_type": "text"
      },
      "cell_type": "markdown",
      "source": [
        "**Creating a session and running the training for 10 epochs**"
      ]
    },
    {
      "metadata": {
        "id": "VaHchjvFEaqL",
        "colab_type": "code",
        "colab": {}
      },
      "cell_type": "code",
      "source": [
        "sess = tf.Session()\n",
        "\n",
        "sess.run(init)\n",
        "for i in range(10):\n",
        "  feed_dict = {x: x_input, y: y_input}\n",
        "  sess.run(train, feed_dict = feed_dict)"
      ],
      "execution_count": 0,
      "outputs": []
    },
    {
      "metadata": {
        "id": "Q2ZsLqfcGzvn",
        "colab_type": "text"
      },
      "cell_type": "markdown",
      "source": [
        "**The costs can be extracted too, by adding code as follows**"
      ]
    },
    {
      "metadata": {
        "id": "Bj8HhJgLE-9b",
        "colab_type": "code",
        "outputId": "8b460fbe-6e09-4fcc-ae8c-e0f6ccc4f0a0",
        "colab": {
          "base_uri": "https://localhost:8080/",
          "height": 196
        }
      },
      "cell_type": "code",
      "source": [
        "sess = tf.Session()\n",
        "sess.run(init)\n",
        "\n",
        "for i in range(10):\n",
        "  feed_dict = {x: x_input, y: y_input}\n",
        "  _, loss_value = sess.run([train, loss], feed_dict = feed_dict)\n",
        "  print(loss_value)"
      ],
      "execution_count": 0,
      "outputs": [
        {
          "output_type": "stream",
          "text": [
            "100.0\n",
            "97.77255\n",
            "95.594696\n",
            "93.46538\n",
            "91.38347\n",
            "89.34794\n",
            "87.357765\n",
            "85.41191\n",
            "83.5094\n",
            "81.64925\n"
          ],
          "name": "stdout"
        }
      ]
    },
    {
      "metadata": {
        "id": "57X9exccOQzD",
        "colab_type": "code",
        "outputId": "99e9463c-6400-4cb6-9d63-f1e735bb9c01",
        "colab": {
          "base_uri": "https://localhost:8080/",
          "height": 394
        }
      },
      "cell_type": "code",
      "source": [
        "!pip install tensorflow-gpu"
      ],
      "execution_count": 0,
      "outputs": [
        {
          "output_type": "stream",
          "text": [
            "Requirement already satisfied: tensorflow-gpu in /usr/local/lib/python3.6/dist-packages (1.13.1)\n",
            "Requirement already satisfied: protobuf>=3.6.1 in /usr/local/lib/python3.6/dist-packages (from tensorflow-gpu) (3.6.1)\n",
            "Requirement already satisfied: keras-applications>=1.0.6 in /usr/local/lib/python3.6/dist-packages (from tensorflow-gpu) (1.0.7)\n",
            "Requirement already satisfied: astor>=0.6.0 in /usr/local/lib/python3.6/dist-packages (from tensorflow-gpu) (0.7.1)\n",
            "Requirement already satisfied: absl-py>=0.1.6 in /usr/local/lib/python3.6/dist-packages (from tensorflow-gpu) (0.7.0)\n",
            "Requirement already satisfied: termcolor>=1.1.0 in /usr/local/lib/python3.6/dist-packages (from tensorflow-gpu) (1.1.0)\n",
            "Requirement already satisfied: wheel>=0.26 in /usr/local/lib/python3.6/dist-packages (from tensorflow-gpu) (0.33.1)\n",
            "Requirement already satisfied: tensorflow-estimator<1.14.0rc0,>=1.13.0 in /usr/local/lib/python3.6/dist-packages (from tensorflow-gpu) (1.13.0)\n",
            "Requirement already satisfied: six>=1.10.0 in /usr/local/lib/python3.6/dist-packages (from tensorflow-gpu) (1.11.0)\n",
            "Requirement already satisfied: numpy>=1.13.3 in /usr/local/lib/python3.6/dist-packages (from tensorflow-gpu) (1.14.6)\n",
            "Requirement already satisfied: grpcio>=1.8.6 in /usr/local/lib/python3.6/dist-packages (from tensorflow-gpu) (1.15.0)\n",
            "Requirement already satisfied: keras-preprocessing>=1.0.5 in /usr/local/lib/python3.6/dist-packages (from tensorflow-gpu) (1.0.9)\n",
            "Requirement already satisfied: tensorboard<1.14.0,>=1.13.0 in /usr/local/lib/python3.6/dist-packages (from tensorflow-gpu) (1.13.0)\n",
            "Requirement already satisfied: gast>=0.2.0 in /usr/local/lib/python3.6/dist-packages (from tensorflow-gpu) (0.2.2)\n",
            "Requirement already satisfied: setuptools in /usr/local/lib/python3.6/dist-packages (from protobuf>=3.6.1->tensorflow-gpu) (40.8.0)\n",
            "Requirement already satisfied: h5py in /usr/local/lib/python3.6/dist-packages (from keras-applications>=1.0.6->tensorflow-gpu) (2.8.0)\n",
            "Requirement already satisfied: mock>=2.0.0 in /usr/local/lib/python3.6/dist-packages (from tensorflow-estimator<1.14.0rc0,>=1.13.0->tensorflow-gpu) (2.0.0)\n",
            "Requirement already satisfied: werkzeug>=0.11.15 in /usr/local/lib/python3.6/dist-packages (from tensorboard<1.14.0,>=1.13.0->tensorflow-gpu) (0.14.1)\n",
            "Requirement already satisfied: markdown>=2.6.8 in /usr/local/lib/python3.6/dist-packages (from tensorboard<1.14.0,>=1.13.0->tensorflow-gpu) (3.0.1)\n",
            "Requirement already satisfied: pbr>=0.11 in /usr/local/lib/python3.6/dist-packages (from mock>=2.0.0->tensorflow-estimator<1.14.0rc0,>=1.13.0->tensorflow-gpu) (5.1.3)\n"
          ],
          "name": "stdout"
        }
      ]
    },
    {
      "metadata": {
        "id": "ckJ53XQSPtCk",
        "colab_type": "text"
      },
      "cell_type": "markdown",
      "source": [
        "**Using GPU to run a code**"
      ]
    },
    {
      "metadata": {
        "id": "11zKHBzxHGvV",
        "colab_type": "code",
        "outputId": "42f994f7-1736-4549-e514-7b57804ab515",
        "colab": {
          "base_uri": "https://localhost:8080/",
          "height": 53
        }
      },
      "cell_type": "code",
      "source": [
        "# Creates a graph\n",
        "c = []\n",
        "\n",
        "for d in ['/job:localhost/replica:0/task:0/device:GPU:0']:\n",
        "  with tf.device(d):\n",
        "    a = tf.constant([1.0, 2.0, 3.0, 4.0, 5.0, 6.0], shape = [2, 3])\n",
        "    b = tf.constant([1.0, 2.0, 3.0, 4.0, 5.0, 6.0], shape = [3, 2])\n",
        "    c.append(tf.matmul(a, b))\n",
        "\n",
        "with tf.device('/job:localhost/replica:0/task:0/device:CPU:0'):\n",
        "  sum = tf.add_n(c)\n",
        "\n",
        "# Creates a session with log_device_placement = True\n",
        "sess = tf.Session(config = tf.ConfigProto(log_device_placement = True))\n",
        "\n",
        "# Runs the op.\n",
        "print(sess.run(sum))"
      ],
      "execution_count": 0,
      "outputs": [
        {
          "output_type": "stream",
          "text": [
            "[[22. 28.]\n",
            " [49. 64.]]\n"
          ],
          "name": "stdout"
        }
      ]
    }
  ]
}