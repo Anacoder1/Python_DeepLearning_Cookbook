{
  "nbformat": 4,
  "nbformat_minor": 0,
  "metadata": {
    "colab": {
      "name": "2_Building networks using Keras.ipynb",
      "version": "0.3.2",
      "provenance": [],
      "collapsed_sections": []
    },
    "kernelspec": {
      "name": "python3",
      "display_name": "Python 3"
    },
    "accelerator": "GPU"
  },
  "cells": [
    {
      "metadata": {
        "id": "DzUyx5WC3Jx2",
        "colab_type": "text"
      },
      "cell_type": "markdown",
      "source": [
        "**Importing keras library into the environment.**"
      ]
    },
    {
      "metadata": {
        "id": "WYMqznSOQlBt",
        "colab_type": "code",
        "outputId": "4f523bea-287d-4211-8030-7c89e092fb5e",
        "colab": {
          "base_uri": "https://localhost:8080/",
          "height": 35
        }
      },
      "cell_type": "code",
      "source": [
        "from keras.models import Sequential\n",
        "from keras.layers import Dense"
      ],
      "execution_count": 0,
      "outputs": [
        {
          "output_type": "stream",
          "text": [
            "Using TensorFlow backend.\n"
          ],
          "name": "stderr"
        }
      ]
    },
    {
      "metadata": {
        "id": "Gf9dsvib3SDS",
        "colab_type": "text"
      },
      "cell_type": "markdown",
      "source": [
        "**To provide a dummy dataset, we'll use numpy and the following code.**"
      ]
    },
    {
      "metadata": {
        "id": "Hq1TVX7WQ3Sy",
        "colab_type": "code",
        "colab": {}
      },
      "cell_type": "code",
      "source": [
        "import numpy as np\n",
        "\n",
        "x_input = np.array([[1, 2, 3, 4, 5]])\n",
        "y_input = np.array([[10]])"
      ],
      "execution_count": 0,
      "outputs": []
    },
    {
      "metadata": {
        "id": "iuYb1idz3aPj",
        "colab_type": "text"
      },
      "cell_type": "markdown",
      "source": [
        "**It's easy to stack multiple layers in Keras, when using the sequential mode. Here, we use 1 hidden layer with 32 units and an output layer with 1 unit.**"
      ]
    },
    {
      "metadata": {
        "id": "B5pjEzsGRKwu",
        "colab_type": "code",
        "outputId": "73d63b85-5c6a-473a-dbdc-4f76d68030d1",
        "colab": {
          "base_uri": "https://localhost:8080/",
          "height": 91
        }
      },
      "cell_type": "code",
      "source": [
        "model = Sequential()\n",
        "\n",
        "model.add(Dense(units = 32, input_dim = x_input.shape[1]))\n",
        "model.add(Dense(units = 1))"
      ],
      "execution_count": 0,
      "outputs": [
        {
          "output_type": "stream",
          "text": [
            "WARNING:tensorflow:From /usr/local/lib/python3.6/dist-packages/tensorflow/python/framework/op_def_library.py:263: colocate_with (from tensorflow.python.framework.ops) is deprecated and will be removed in a future version.\n",
            "Instructions for updating:\n",
            "Colocations handled automatically by placer.\n"
          ],
          "name": "stdout"
        }
      ]
    },
    {
      "metadata": {
        "id": "MBmtz7gT3ugo",
        "colab_type": "text"
      },
      "cell_type": "markdown",
      "source": [
        "**Now, we need to compile the model. Here, we can set different settings such as loss function, optimizer and metrics:**"
      ]
    },
    {
      "metadata": {
        "id": "7kBMPKIlRwrZ",
        "colab_type": "code",
        "colab": {}
      },
      "cell_type": "code",
      "source": [
        "model.compile(loss = 'mse',\n",
        "              optimizer = 'sgd',\n",
        "              metrics = ['accuracy'])"
      ],
      "execution_count": 0,
      "outputs": []
    },
    {
      "metadata": {
        "id": "ZjA6DHNg37NL",
        "colab_type": "text"
      },
      "cell_type": "markdown",
      "source": [
        "**Printing a summary of the model. It will also show the no. of parameters within the defined model.**"
      ]
    },
    {
      "metadata": {
        "id": "VYNQaOXFSVhd",
        "colab_type": "code",
        "outputId": "798f355e-826e-4f82-8752-71cd3f66a84a",
        "colab": {
          "base_uri": "https://localhost:8080/",
          "height": 214
        }
      },
      "cell_type": "code",
      "source": [
        "model.summary()"
      ],
      "execution_count": 0,
      "outputs": [
        {
          "output_type": "stream",
          "text": [
            "_________________________________________________________________\n",
            "Layer (type)                 Output Shape              Param #   \n",
            "=================================================================\n",
            "dense_1 (Dense)              (None, 32)                192       \n",
            "_________________________________________________________________\n",
            "dense_2 (Dense)              (None, 1)                 33        \n",
            "=================================================================\n",
            "Total params: 225\n",
            "Trainable params: 225\n",
            "Non-trainable params: 0\n",
            "_________________________________________________________________\n"
          ],
          "name": "stdout"
        }
      ]
    },
    {
      "metadata": {
        "id": "ch1jN9Yl4GY9",
        "colab_type": "text"
      },
      "cell_type": "markdown",
      "source": [
        "**'history' is a variable which stores the results of training the model.**"
      ]
    },
    {
      "metadata": {
        "id": "dokoP8STSuVq",
        "colab_type": "code",
        "outputId": "680cfe82-9877-49a5-ffe0-6ad0e1648376",
        "colab": {
          "base_uri": "https://localhost:8080/",
          "height": 448
        }
      },
      "cell_type": "code",
      "source": [
        "history = model.fit(x_input, y_input, epochs = 10, batch_size = 32)"
      ],
      "execution_count": 0,
      "outputs": [
        {
          "output_type": "stream",
          "text": [
            "WARNING:tensorflow:From /usr/local/lib/python3.6/dist-packages/tensorflow/python/ops/math_ops.py:3066: to_int32 (from tensorflow.python.ops.math_ops) is deprecated and will be removed in a future version.\n",
            "Instructions for updating:\n",
            "Use tf.cast instead.\n",
            "Epoch 1/10\n",
            "1/1 [==============================] - 3s 3s/step - loss: 67.5827 - acc: 0.0000e+00\n",
            "Epoch 2/10\n",
            "1/1 [==============================] - 0s 8ms/step - loss: 1072.3744 - acc: 0.0000e+00\n",
            "Epoch 3/10\n",
            "1/1 [==============================] - 0s 6ms/step - loss: 397454.0625 - acc: 0.0000e+00\n",
            "Epoch 4/10\n",
            "1/1 [==============================] - 0s 4ms/step - loss: 31148319178752.0000 - acc: 0.0000e+00\n",
            "Epoch 5/10\n",
            "1/1 [==============================] - 0s 3ms/step - loss: 15163562956195266863398276933921800192.0000 - acc: 0.0000e+00\n",
            "Epoch 6/10\n",
            "1/1 [==============================] - 0s 3ms/step - loss: nan - acc: 0.0000e+00\n",
            "Epoch 7/10\n",
            "1/1 [==============================] - 0s 3ms/step - loss: nan - acc: 0.0000e+00\n",
            "Epoch 8/10\n",
            "1/1 [==============================] - 0s 3ms/step - loss: nan - acc: 0.0000e+00\n",
            "Epoch 9/10\n",
            "1/1 [==============================] - 0s 2ms/step - loss: nan - acc: 0.0000e+00\n",
            "Epoch 10/10\n",
            "1/1 [==============================] - 0s 4ms/step - loss: nan - acc: 0.0000e+00\n"
          ],
          "name": "stdout"
        }
      ]
    },
    {
      "metadata": {
        "id": "bnE1CZA44YrA",
        "colab_type": "text"
      },
      "cell_type": "markdown",
      "source": [
        "**For testing, the prediction function can be used after training:**"
      ]
    },
    {
      "metadata": {
        "id": "OS7rZmXuTV87",
        "colab_type": "code",
        "outputId": "f0fb3650-ce47-48d6-e54d-315035039633",
        "colab": {
          "base_uri": "https://localhost:8080/",
          "height": 35
        }
      },
      "cell_type": "code",
      "source": [
        "pred = model.predict(x_input, batch_size = 128)\n",
        "\n",
        "pred"
      ],
      "execution_count": 0,
      "outputs": [
        {
          "output_type": "execute_result",
          "data": {
            "text/plain": [
              "array([[nan]], dtype=float32)"
            ]
          },
          "metadata": {
            "tags": []
          },
          "execution_count": 7
        }
      ]
    }
  ]
}