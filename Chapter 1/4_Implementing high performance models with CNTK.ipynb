{
  "nbformat": 4,
  "nbformat_minor": 0,
  "metadata": {
    "colab": {
      "name": "4_Implementing high performance models with CNTK.ipynb",
      "version": "0.3.2",
      "provenance": [],
      "collapsed_sections": []
    },
    "kernelspec": {
      "name": "python3",
      "display_name": "Python 3"
    },
    "accelerator": "GPU"
  },
  "cells": [
    {
      "metadata": {
        "id": "yRuv0AgTaz37",
        "colab_type": "text"
      },
      "cell_type": "markdown",
      "source": [
        "**Installing CNTK and then importing it**"
      ]
    },
    {
      "metadata": {
        "id": "PIhD_S0bXFlN",
        "colab_type": "code",
        "outputId": "86536715-8f5d-4cd8-8a59-9bcbe15c7cb7",
        "colab": {
          "base_uri": "https://localhost:8080/",
          "height": 680
        }
      },
      "cell_type": "code",
      "source": [
        "!apt-get install --no-install-recommends openmpi-bin libopenmpi-dev libopencv-dev python3-opencv python-opencv && ln -sf /usr/lib/x86_64-linux-gnu/libmpi_cxx.so /usr/lib/x86_64-linux-gnu/libmpi_cxx.so.1 && ln -sf /usr/lib/x86_64-linux-gnu/openmpi/lib/libmpi.so /usr/lib/x86_64-linux-gnu/openmpi/lib/libmpi.so.12 && ln -sf /usr/lib/x86_64-linux-gnu/libmpi.so /usr/lib/x86_64-linux-gnu/libmpi.so.12 && pip install cntk\n",
        "\n",
        "import cntk"
      ],
      "execution_count": 0,
      "outputs": [
        {
          "output_type": "stream",
          "text": [
            "Reading package lists... Done\n",
            "Building dependency tree       \n",
            "Reading state information... Done\n",
            "libopenmpi-dev is already the newest version (2.1.1-8).\n",
            "openmpi-bin is already the newest version (2.1.1-8).\n",
            "openmpi-bin set to manually installed.\n",
            "libopencv-dev is already the newest version (3.2.0+dfsg-4ubuntu0.1).\n",
            "The following package was automatically installed and is no longer required:\n",
            "  libnvidia-common-410\n",
            "Use 'apt autoremove' to remove it.\n",
            "The following NEW packages will be installed:\n",
            "  python-opencv python3-opencv\n",
            "0 upgraded, 2 newly installed, 0 to remove and 10 not upgraded.\n",
            "Need to get 1,069 kB of archives.\n",
            "After this operation, 5,885 kB of additional disk space will be used.\n",
            "Get:1 http://archive.ubuntu.com/ubuntu bionic-updates/universe amd64 python-opencv amd64 3.2.0+dfsg-4ubuntu0.1 [535 kB]\n",
            "Get:2 http://archive.ubuntu.com/ubuntu bionic-updates/universe amd64 python3-opencv amd64 3.2.0+dfsg-4ubuntu0.1 [534 kB]\n",
            "Fetched 1,069 kB in 5s (197 kB/s)\n",
            "Selecting previously unselected package python-opencv.\n",
            "(Reading database ... 131323 files and directories currently installed.)\n",
            "Preparing to unpack .../python-opencv_3.2.0+dfsg-4ubuntu0.1_amd64.deb ...\n",
            "Unpacking python-opencv (3.2.0+dfsg-4ubuntu0.1) ...\n",
            "Selecting previously unselected package python3-opencv.\n",
            "Preparing to unpack .../python3-opencv_3.2.0+dfsg-4ubuntu0.1_amd64.deb ...\n",
            "Unpacking python3-opencv (3.2.0+dfsg-4ubuntu0.1) ...\n",
            "Setting up python3-opencv (3.2.0+dfsg-4ubuntu0.1) ...\n",
            "Setting up python-opencv (3.2.0+dfsg-4ubuntu0.1) ...\n",
            "Collecting cntk\n",
            "\u001b[?25l  Downloading https://files.pythonhosted.org/packages/58/42/38e37601611bd10f2cb6efffceb35bc5dc44e9aef5a10471ec914b02ef89/cntk-2.6-cp36-cp36m-manylinux1_x86_64.whl (74.8MB)\n",
            "\u001b[K    100% |████████████████████████████████| 74.8MB 495kB/s \n",
            "\u001b[?25hRequirement already satisfied: scipy>=0.17 in /usr/local/lib/python3.6/dist-packages (from cntk) (1.1.0)\n",
            "Requirement already satisfied: numpy>=1.11 in /usr/local/lib/python3.6/dist-packages (from cntk) (1.14.6)\n",
            "Installing collected packages: cntk\n",
            "Successfully installed cntk-2.6\n"
          ],
          "name": "stdout"
        },
        {
          "output_type": "stream",
          "text": [
            "/usr/local/lib/python3.6/dist-packages/cntk/cntk_py_init.py:56: UserWarning: Unsupported Linux distribution (ubuntu-18.04). CNTK supports Ubuntu 16.04 and above, only.\n",
            "  warnings.warn('Unsupported Linux distribution (%s-%s). CNTK supports Ubuntu 16.04 and above, only.' % (__my_distro__, __my_distro_ver__))\n"
          ],
          "name": "stderr"
        }
      ]
    },
    {
      "metadata": {
        "id": "4Lkk5muia5e0",
        "colab_type": "text"
      },
      "cell_type": "markdown",
      "source": [
        "**Creating dummy data to be used for training**"
      ]
    },
    {
      "metadata": {
        "id": "OsS-7YMKYevo",
        "colab_type": "code",
        "colab": {}
      },
      "cell_type": "code",
      "source": [
        "import numpy as np\n",
        "\n",
        "x_input = np.array([[1, 2, 3, 4, 5]], np.float32)\n",
        "y_input = np.array([[10]], np.float32)"
      ],
      "execution_count": 0,
      "outputs": []
    },
    {
      "metadata": {
        "id": "UTItINZma-B-",
        "colab_type": "text"
      },
      "cell_type": "markdown",
      "source": [
        "**Defining placeholders for the input data**"
      ]
    },
    {
      "metadata": {
        "id": "bRiX0_3TZUxy",
        "colab_type": "code",
        "colab": {}
      },
      "cell_type": "code",
      "source": [
        "X = cntk.input_variable(5, np.float32)\n",
        "\n",
        "y = cntk.input_variable(1, np.float32)"
      ],
      "execution_count": 0,
      "outputs": []
    },
    {
      "metadata": {
        "id": "L5_mJhcubC_i",
        "colab_type": "text"
      },
      "cell_type": "markdown",
      "source": [
        "**It's straightforward to stack multiple layers with CNTK. Here, we stack a dense layer with 32 inputs on top of an output layer with 1 output**"
      ]
    },
    {
      "metadata": {
        "id": "eW93N1FNZcl3",
        "colab_type": "code",
        "colab": {}
      },
      "cell_type": "code",
      "source": [
        "from cntk.layers import Dense, Sequential\n",
        "\n",
        "model = Sequential([Dense(32), Dense(1)])(X)"
      ],
      "execution_count": 0,
      "outputs": []
    },
    {
      "metadata": {
        "id": "X1RWy_ilbNDQ",
        "colab_type": "text"
      },
      "cell_type": "markdown",
      "source": [
        "**Defining the loss function**"
      ]
    },
    {
      "metadata": {
        "id": "6aA7xkcxZsWm",
        "colab_type": "code",
        "colab": {}
      },
      "cell_type": "code",
      "source": [
        "loss = cntk.squared_error(model, y)"
      ],
      "execution_count": 0,
      "outputs": []
    },
    {
      "metadata": {
        "id": "9laxkOOWbRLn",
        "colab_type": "text"
      },
      "cell_type": "markdown",
      "source": [
        "**Now, we are ready to finalize our model with an optimizer**"
      ]
    },
    {
      "metadata": {
        "id": "Zq9WsjneZzbq",
        "colab_type": "code",
        "colab": {}
      },
      "cell_type": "code",
      "source": [
        "learning_rate = 0.001\n",
        "\n",
        "trainer = cntk.Trainer(model, (loss),\n",
        "                       cntk.adagrad(model.parameters, learning_rate))"
      ],
      "execution_count": 0,
      "outputs": []
    },
    {
      "metadata": {
        "id": "Rhhi_XZIbYK0",
        "colab_type": "text"
      },
      "cell_type": "markdown",
      "source": [
        "**Training the model:**"
      ]
    },
    {
      "metadata": {
        "id": "CzGX1PphaNbQ",
        "colab_type": "code",
        "colab": {}
      },
      "cell_type": "code",
      "source": [
        "for epoch in range(10):\n",
        "  trainer.train_minibatch({X: x_input, y: y_input})"
      ],
      "execution_count": 0,
      "outputs": []
    }
  ]
}