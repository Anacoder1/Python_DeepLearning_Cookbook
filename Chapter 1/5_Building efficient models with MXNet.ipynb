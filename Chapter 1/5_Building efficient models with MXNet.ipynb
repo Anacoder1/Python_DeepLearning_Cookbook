{
  "nbformat": 4,
  "nbformat_minor": 0,
  "metadata": {
    "colab": {
      "name": "5_Building efficient models with MXNet.ipynb",
      "version": "0.3.2",
      "provenance": [],
      "collapsed_sections": []
    },
    "kernelspec": {
      "name": "python3",
      "display_name": "Python 3"
    },
    "accelerator": "GPU"
  },
  "cells": [
    {
      "metadata": {
        "id": "Rwq8g-CTl_z0",
        "colab_type": "code",
        "colab": {}
      },
      "cell_type": "code",
      "source": [
        "import mxnet as mx"
      ],
      "execution_count": 0,
      "outputs": []
    },
    {
      "metadata": {
        "id": "3rXpSs8Den1i",
        "colab_type": "code",
        "outputId": "e5e8747f-e267-4ec3-90b8-81cf4bf94f1a",
        "colab": {
          "base_uri": "https://localhost:8080/",
          "height": 180
        }
      },
      "cell_type": "code",
      "source": [
        "!pip install mxnet-cu80"
      ],
      "execution_count": 0,
      "outputs": [
        {
          "output_type": "stream",
          "text": [
            "Requirement already satisfied: mxnet-cu80 in /usr/local/lib/python3.6/dist-packages (1.4.0.post0)\n",
            "Requirement already satisfied: numpy<1.15.0,>=1.8.2 in /usr/local/lib/python3.6/dist-packages (from mxnet-cu80) (1.14.6)\n",
            "Requirement already satisfied: requests>=2.20.0 in /usr/local/lib/python3.6/dist-packages (from mxnet-cu80) (2.21.0)\n",
            "Requirement already satisfied: graphviz<0.9.0,>=0.8.1 in /usr/local/lib/python3.6/dist-packages (from mxnet-cu80) (0.8.4)\n",
            "Requirement already satisfied: chardet<3.1.0,>=3.0.2 in /usr/local/lib/python3.6/dist-packages (from requests>=2.20.0->mxnet-cu80) (3.0.4)\n",
            "Requirement already satisfied: urllib3<1.25,>=1.21.1 in /usr/local/lib/python3.6/dist-packages (from requests>=2.20.0->mxnet-cu80) (1.22)\n",
            "Requirement already satisfied: idna<2.9,>=2.5 in /usr/local/lib/python3.6/dist-packages (from requests>=2.20.0->mxnet-cu80) (2.6)\n",
            "Requirement already satisfied: certifi>=2017.4.17 in /usr/local/lib/python3.6/dist-packages (from requests>=2.20.0->mxnet-cu80) (2018.11.29)\n"
          ],
          "name": "stdout"
        }
      ]
    },
    {
      "metadata": {
        "id": "UGmnvKCldJEa",
        "colab_type": "code",
        "colab": {}
      },
      "cell_type": "code",
      "source": [
        "import numpy as np\n",
        "\n",
        "x_input = mx.nd.empty((1, 5), mx.cpu())\n",
        "x_input[:] = np.array([[1, 2, 3, 4, 5]], np.float32)\n",
        "\n",
        "y_input = mx.nd.empty((1, 5), mx.cpu())\n",
        "y_input[:] = np.array([[10, 15, 20, 22.5, 25]], np.float32)"
      ],
      "execution_count": 0,
      "outputs": []
    },
    {
      "metadata": {
        "id": "80lFO21JeX4I",
        "colab_type": "code",
        "colab": {}
      },
      "cell_type": "code",
      "source": [
        "x_input\n",
        "\n",
        "w_input = x_input\n",
        "z_input = x_input.copyto(mx.cpu())\n",
        "\n",
        "x_input += 1\n",
        "w_input /= 2\n",
        "z_input *= 2"
      ],
      "execution_count": 0,
      "outputs": []
    },
    {
      "metadata": {
        "id": "gBwV6S14gFr-",
        "colab_type": "code",
        "outputId": "6062b578-1b6c-4312-c126-db3000c16f31",
        "colab": {
          "base_uri": "https://localhost:8080/",
          "height": 71
        }
      },
      "cell_type": "code",
      "source": [
        "print(\"x_input: \", x_input.asnumpy())\n",
        "\n",
        "print(\"w_input: \", w_input.asnumpy())\n",
        "\n",
        "print(\"z_input: \", z_input.asnumpy())"
      ],
      "execution_count": 0,
      "outputs": [
        {
          "output_type": "stream",
          "text": [
            "x_input:  [[1.  1.5 2.  2.5 3. ]]\n",
            "w_input:  [[1.  1.5 2.  2.5 3. ]]\n",
            "z_input:  [[ 2.  4.  6.  8. 10.]]\n"
          ],
          "name": "stdout"
        }
      ]
    },
    {
      "metadata": {
        "id": "B1ewMnI8gZSj",
        "colab_type": "code",
        "colab": {}
      },
      "cell_type": "code",
      "source": [
        "batch_size = 1\n",
        "\n",
        "train_iter = mx.io.NDArrayIter(x_input, y_input, batch_size,\n",
        "                               shuffle = True, data_name = 'input',\n",
        "                               label_name = 'target')"
      ],
      "execution_count": 0,
      "outputs": []
    },
    {
      "metadata": {
        "id": "QTqw251Sg3aZ",
        "colab_type": "code",
        "colab": {}
      },
      "cell_type": "code",
      "source": [
        "X = mx.sym.Variable('input')\n",
        "Y = mx.symbol.Variable('target')\n",
        "\n",
        "fc1 = mx.sym.FullyConnected(data = X, name = 'fc1', num_hidden = 5)\n",
        "\n",
        "lin_reg = mx.sym.LinearRegressionOutput(data = fc1, label = Y, \n",
        "                                        name = \"lin_reg\")"
      ],
      "execution_count": 0,
      "outputs": []
    },
    {
      "metadata": {
        "id": "4QkuWyt-hUVP",
        "colab_type": "code",
        "colab": {}
      },
      "cell_type": "code",
      "source": [
        "model = mx.mod.Module(\n",
        "  symbol = lin_reg,\n",
        "  data_names = ['input'],\n",
        "  label_names = ['target']\n",
        ")"
      ],
      "execution_count": 0,
      "outputs": []
    },
    {
      "metadata": {
        "id": "Ch5szLFzhd4y",
        "colab_type": "code",
        "colab": {}
      },
      "cell_type": "code",
      "source": [
        "model.fit(train_iter,\n",
        "          optimizer_params = {'learning_rate': 0.01, 'momentum': 0.9},\n",
        "          num_epoch = 100,\n",
        "          batch_end_callback = mx.callback.Speedometer(batch_size, 2))"
      ],
      "execution_count": 0,
      "outputs": []
    },
    {
      "metadata": {
        "id": "IBJoB-iIh5xp",
        "colab_type": "code",
        "outputId": "d66a241d-66de-4bd7-b24a-91bc6c771239",
        "colab": {
          "base_uri": "https://localhost:8080/",
          "height": 53
        }
      },
      "cell_type": "code",
      "source": [
        "model.predict(train_iter).asnumpy()"
      ],
      "execution_count": 0,
      "outputs": [
        {
          "output_type": "execute_result",
          "data": {
            "text/plain": [
              "array([[10.046575, 15.069991, 20.093437, 22.605223, 25.116766]],\n",
              "      dtype=float32)"
            ]
          },
          "metadata": {
            "tags": []
          },
          "execution_count": 10
        }
      ]
    }
  ]
}