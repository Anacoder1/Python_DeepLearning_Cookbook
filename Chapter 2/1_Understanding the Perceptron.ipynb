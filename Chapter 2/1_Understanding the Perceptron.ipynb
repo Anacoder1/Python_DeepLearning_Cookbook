{
  "nbformat": 4,
  "nbformat_minor": 0,
  "metadata": {
    "colab": {
      "name": "1_Understanding the Perceptron.ipynb",
      "version": "0.3.2",
      "provenance": [],
      "collapsed_sections": []
    },
    "kernelspec": {
      "name": "python3",
      "display_name": "Python 3"
    },
    "accelerator": "GPU"
  },
  "cells": [
    {
      "metadata": {
        "id": "9HD339zBAQuZ",
        "colab_type": "text"
      },
      "cell_type": "markdown",
      "source": [
        "**Import the libraries and dataset as follows:**"
      ]
    },
    {
      "metadata": {
        "id": "_Gqp-XSpsB7v",
        "colab_type": "code",
        "colab": {}
      },
      "cell_type": "code",
      "source": [
        "import numpy as np\n",
        "import matplotlib.pyplot as plt\n",
        "from sklearn.model_selection import train_test_split\n",
        "\n",
        "# We'll be using the Iris Plants database\n",
        "from sklearn.datasets import load_iris\n",
        "\n",
        "SEED = 2017"
      ],
      "execution_count": 0,
      "outputs": []
    },
    {
      "metadata": {
        "id": "n4pGP42dAVNP",
        "colab_type": "text"
      },
      "cell_type": "markdown",
      "source": [
        "**First, subset the imported data as shown:**"
      ]
    },
    {
      "metadata": {
        "id": "BqyF4CvksfcV",
        "colab_type": "code",
        "colab": {}
      },
      "cell_type": "code",
      "source": [
        "# The first 2 classes Iris-Setosa and Iris-Versicolour are\n",
        "# linearly separable\n",
        "\n",
        "iris = load_iris()\n",
        "idxs = np.where(iris.target < 2)\n",
        "\n",
        "X = iris.data[idxs]\n",
        "y = iris.target[idxs]"
      ],
      "execution_count": 0,
      "outputs": []
    },
    {
      "metadata": {
        "id": "6aJE1i_uAZgx",
        "colab_type": "text"
      },
      "cell_type": "markdown",
      "source": [
        "**Plotting the data for two of the four variables with the following code snippet:**"
      ]
    },
    {
      "metadata": {
        "id": "RcNnBHycszWk",
        "colab_type": "code",
        "outputId": "e44bb6c7-43af-4817-d613-8025545e23ec",
        "colab": {
          "base_uri": "https://localhost:8080/",
          "height": 376
        }
      },
      "cell_type": "code",
      "source": [
        "plt.scatter(X[y==0][:, 0], X[y==0][:, 2], color = 'green',\n",
        "            label = 'Iris-Setosa')\n",
        "plt.scatter(X[y==1][:, 0], X[y==1][:, 2], color = 'red',\n",
        "            label = 'Iris-Versicolour')\n",
        "\n",
        "plt.title('Iris Plants Database')\n",
        "plt.xlabel('sepal length in cm')\n",
        "plt.ylabel('sepal width in cm')\n",
        "plt.legend()\n",
        "plt.show()"
      ],
      "execution_count": 3,
      "outputs": [
        {
          "output_type": "display_data",
          "data": {
            "image/png": "[encoded data removed]",
            "text/plain": [
              "<Figure size 576x396 with 1 Axes>"
            ]
          },
          "metadata": {
            "tags": []
          }
        }
      ]
    },
    {
      "metadata": {
        "id": "XQ2CO86GAsXV",
        "colab_type": "text"
      },
      "cell_type": "markdown",
      "source": [
        "**To validate our results, we split the data into training & validation sets as follows:**"
      ]
    },
    {
      "metadata": {
        "id": "evxAHohht1T5",
        "colab_type": "code",
        "colab": {}
      },
      "cell_type": "code",
      "source": [
        "X_train, X_val, y_train, y_val = train_test_split(X, y,\n",
        "                                                  test_size = 0.2,\n",
        "                                                  random_state = SEED)"
      ],
      "execution_count": 0,
      "outputs": []
    },
    {
      "metadata": {
        "id": "qqm2t-nKAyZe",
        "colab_type": "text"
      },
      "cell_type": "markdown",
      "source": [
        "**Initializing the weights and the bias for the perceptron:**"
      ]
    },
    {
      "metadata": {
        "id": "IB9To9e00kzg",
        "colab_type": "code",
        "colab": {}
      },
      "cell_type": "code",
      "source": [
        "weights = np.random.normal(size = X_train.shape[1])\n",
        "\n",
        "bias = 1"
      ],
      "execution_count": 0,
      "outputs": []
    },
    {
      "metadata": {
        "id": "Nj5FuVINA430",
        "colab_type": "text"
      },
      "cell_type": "markdown",
      "source": [
        "**Before training, we need to define the hyperparameters:**"
      ]
    },
    {
      "metadata": {
        "id": "kDkLA12v0HtU",
        "colab_type": "code",
        "colab": {}
      },
      "cell_type": "code",
      "source": [
        "learning_rate = 0.1\n",
        "\n",
        "n_epochs = 15"
      ],
      "execution_count": 0,
      "outputs": []
    },
    {
      "metadata": {
        "id": "Er6GuoNpBCCD",
        "colab_type": "text"
      },
      "cell_type": "markdown",
      "source": [
        "**Now, we can start training our perceptron with a for loop:**"
      ]
    },
    {
      "metadata": {
        "id": "1Kllca6e0NHT",
        "colab_type": "code",
        "colab": {}
      },
      "cell_type": "code",
      "source": [
        "del_w = np.zeros(weights.shape)\n",
        "hist_loss = []\n",
        "hist_accuracy = []\n",
        "\n",
        "for i in range(n_epochs):\n",
        "  # We apply a simple step function, if the output is > 0.5, we\n",
        "  # predict 1 and 0 otherwise\n",
        "  output = np.where((X_train.dot(weights) + bias) > 0.5, 1, 0)\n",
        "  \n",
        "  # Compute MSE\n",
        "  error = np.mean((y_train - output) ** 2)\n",
        "  \n",
        "  # Update weights and bias\n",
        "  weights -= learning_rate * np.dot((output - y_train), X_train)\n",
        "  bias += learning_rate * np.sum(np.dot((output - y_train), X_train))\n",
        "  \n",
        "  # Calculate MSE\n",
        "  loss = np.mean((output - y_train) ** 2)\n",
        "  hist_loss.append(loss)\n",
        "  \n",
        "  # Determine validation accuracy\n",
        "  output_val = np.where(X_val.dot(weights) > 0.5, 1, 0)\n",
        "  accuracy = np.mean(np.where(y_val == output_val, 1, 0))\n",
        "  hist_accuracy.append(accuracy)"
      ],
      "execution_count": 0,
      "outputs": []
    },
    {
      "metadata": {
        "id": "NR2hZA3-BKAF",
        "colab_type": "text"
      },
      "cell_type": "markdown",
      "source": [
        "**Plotting the saved training loss and validation accuracy:**"
      ]
    },
    {
      "metadata": {
        "id": "xj-LaSH89QQP",
        "colab_type": "code",
        "outputId": "cb9b1735-1f21-4618-dddd-c93489fd012a",
        "colab": {
          "base_uri": "https://localhost:8080/",
          "height": 294
        }
      },
      "cell_type": "code",
      "source": [
        "fig = plt.figure(figsize = (8, 4))\n",
        "a = fig.add_subplot(1, 2, 1)\n",
        "imgplot = plt.plot(hist_loss)\n",
        "plt.xlabel('epochs')\n",
        "a.set_title('Training loss')\n",
        "\n",
        "a = fig.add_subplot(1, 2, 2)\n",
        "imgplot = plt.plot(hist_accuracy)\n",
        "plt.xlabel('epochs')\n",
        "a.set_title('Validation Accuracy')\n",
        "plt.show()"
      ],
      "execution_count": 8,
      "outputs": [
        {
          "output_type": "display_data",
          "data": {
            "image/png": "[encoded data removed]",
            "text/plain": [
              "<Figure size 576x288 with 2 Axes>"
            ]
          },
          "metadata": {
            "tags": []
          }
        }
      ]
    }
  ]
}