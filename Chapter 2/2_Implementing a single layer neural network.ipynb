{
  "nbformat": 4,
  "nbformat_minor": 0,
  "metadata": {
    "colab": {
      "name": "2_Implementing a single-layer neural network.ipynb",
      "version": "0.3.2",
      "provenance": [],
      "collapsed_sections": []
    },
    "kernelspec": {
      "name": "python3",
      "display_name": "Python 3"
    },
    "accelerator": "GPU"
  },
  "cells": [
    {
      "metadata": {
        "id": "haai6JWXWRlL",
        "colab_type": "text"
      },
      "cell_type": "markdown",
      "source": [
        "**Importing libraries and dataset:**"
      ]
    },
    {
      "metadata": {
        "id": "JJUsJGSCBlAz",
        "colab_type": "code",
        "colab": {}
      },
      "cell_type": "code",
      "source": [
        "import numpy as np\n",
        "import matplotlib.pyplot as plt\n",
        "from sklearn.model_selection import train_test_split\n",
        "\n",
        "# We'll use make_circles dataset from scikit_learn\n",
        "from sklearn.datasets import make_circles\n",
        "\n",
        "SEED = 2017"
      ],
      "execution_count": 0,
      "outputs": []
    },
    {
      "metadata": {
        "id": "BQTCPyE2WVqQ",
        "colab_type": "text"
      },
      "cell_type": "markdown",
      "source": [
        "**First, we need to create the training data:**"
      ]
    },
    {
      "metadata": {
        "id": "zoo745pDDcio",
        "colab_type": "code",
        "colab": {}
      },
      "cell_type": "code",
      "source": [
        "# We create an inner and outer circle\n",
        "\n",
        "X, y = make_circles(n_samples = 400, factor = 0.3, noise = 0.05,\n",
        "                    random_state = 2017)\n",
        "\n",
        "outer = y == 0\n",
        "inner = y == 1"
      ],
      "execution_count": 0,
      "outputs": []
    },
    {
      "metadata": {
        "id": "wrWnRKtzWcNC",
        "colab_type": "text"
      },
      "cell_type": "markdown",
      "source": [
        "**Plotting the data to show the 2 classes:**"
      ]
    },
    {
      "metadata": {
        "id": "6MzuB6gxEHBP",
        "colab_type": "code",
        "colab": {
          "base_uri": "https://localhost:8080/",
          "height": 362
        },
        "outputId": "7195625a-8518-459c-91c0-a52c5844542b"
      },
      "cell_type": "code",
      "source": [
        "plt.title(\"Two Circles\")\n",
        "\n",
        "plt.plot(X[outer, 0], X[outer, 1], \"ro\")\n",
        "plt.plot(X[inner, 0], X[inner, 1], \"bo\")\n",
        "plt.show()\n",
        "\n",
        "# Example of non - linearly separable data"
      ],
      "execution_count": 10,
      "outputs": [
        {
          "output_type": "display_data",
          "data": {
            "image/png": "[encoded data removed]",
            "text/plain": [
              "<Figure size 576x396 with 1 Axes>"
            ]
          },
          "metadata": {
            "tags": []
          }
        }
      ]
    },
    {
      "metadata": {
        "id": "PvV55ViYWvuT",
        "colab_type": "text"
      },
      "cell_type": "markdown",
      "source": [
        "**We normalize the data to make sure the center of both circles is (1, 1):**"
      ]
    },
    {
      "metadata": {
        "id": "psfonfHMEZCQ",
        "colab_type": "code",
        "colab": {}
      },
      "cell_type": "code",
      "source": [
        "X = X + 1"
      ],
      "execution_count": 0,
      "outputs": []
    },
    {
      "metadata": {
        "id": "ZifkiJ9ZW1bq",
        "colab_type": "text"
      },
      "cell_type": "markdown",
      "source": [
        "**To determine the performance of our algorithm, we split our data:**"
      ]
    },
    {
      "metadata": {
        "id": "DvM2rqCHEwg7",
        "colab_type": "code",
        "colab": {}
      },
      "cell_type": "code",
      "source": [
        "X_train, X_val, y_train, y_val = train_test_split(X, y,\n",
        "                                                    test_size = 0.2,\n",
        "                                                    random_state = SEED)"
      ],
      "execution_count": 0,
      "outputs": []
    },
    {
      "metadata": {
        "id": "-J_hwN_8W7dY",
        "colab_type": "text"
      },
      "cell_type": "markdown",
      "source": [
        "**A linear activation function won't work in this case, so we'll use a sigmoid function:**"
      ]
    },
    {
      "metadata": {
        "id": "FNk-rLgLFCHQ",
        "colab_type": "code",
        "colab": {}
      },
      "cell_type": "code",
      "source": [
        "def sigmoid(x):\n",
        "  return 1 / (1 + np.exp(-x))"
      ],
      "execution_count": 0,
      "outputs": []
    },
    {
      "metadata": {
        "id": "DpzkdNdrXC4x",
        "colab_type": "text"
      },
      "cell_type": "markdown",
      "source": [
        "**Defining the hyperparameters:**"
      ]
    },
    {
      "metadata": {
        "id": "9OfyuUrmFVFI",
        "colab_type": "code",
        "colab": {}
      },
      "cell_type": "code",
      "source": [
        "n_hidden = 50  # number of hidden units\n",
        "n_epochs = 1000\n",
        "learning_rate = 1"
      ],
      "execution_count": 0,
      "outputs": []
    },
    {
      "metadata": {
        "id": "n73SxUoxXGpC",
        "colab_type": "text"
      },
      "cell_type": "markdown",
      "source": [
        "**Initialize the weights and other variables:**"
      ]
    },
    {
      "metadata": {
        "id": "oefiQv5NJMVn",
        "colab_type": "code",
        "colab": {}
      },
      "cell_type": "code",
      "source": [
        "# Initialize the weights\n",
        "\n",
        "weights_hidden = np.random.normal(0.0, size = (X_train.shape[1],\n",
        "                                               n_hidden))\n",
        "weights_output = np.random.normal(0.0, size = (n_hidden))\n",
        "\n",
        "hist_loss = []\n",
        "hist_accuracy = []"
      ],
      "execution_count": 0,
      "outputs": []
    },
    {
      "metadata": {
        "id": "MOM-3G5jXM1a",
        "colab_type": "text"
      },
      "cell_type": "markdown",
      "source": [
        "**Run the single - layer neural network and output the statistics:**"
      ]
    },
    {
      "metadata": {
        "id": "zLvqSl63J_m7",
        "colab_type": "code",
        "colab": {
          "base_uri": "https://localhost:8080/",
          "height": 196
        },
        "outputId": "bfaea655-557a-4b41-f167-41f606228042"
      },
      "cell_type": "code",
      "source": [
        "for e in range(n_epochs):\n",
        "  del_w_hidden = np.zeros(weights_hidden.shape)\n",
        "  del_w_output = np.zeros(weights_output.shape)\n",
        "  \n",
        "  # Loop through training data in batches of 1\n",
        "  for x_, y_ in zip(X_train, y_train):\n",
        "    \n",
        "    # Forward computations\n",
        "    hidden_input = np.dot(x_, weights_hidden)\n",
        "    hidden_output = sigmoid(hidden_input)\n",
        "    output = sigmoid(np.dot(hidden_output, weights_output))\n",
        "    \n",
        "    # Backward computations\n",
        "    error = y_ - output\n",
        "    output_error = error * output * (1 - output)\n",
        "    hidden_error = np.dot(output_error, weights_output) * hidden_output * (1 - hidden_output)\n",
        "    del_w_output += output_error * hidden_output\n",
        "    del_w_hidden += hidden_error * x_[:, None]\n",
        "    \n",
        "  # Update weights\n",
        "  weights_hidden += learning_rate * del_w_hidden / X_train.shape[0]\n",
        "  weights_output += learning_rate * del_w_output / X_train.shape[0]\n",
        "  \n",
        "  # Print stats (validation loss and accuracy)\n",
        "  if e % 100 == 0:\n",
        "    hidden_output = sigmoid(np.dot(X_val, weights_hidden))\n",
        "    out = sigmoid(np.dot(hidden_output, weights_output))\n",
        "    loss = np.mean((out - y_val) ** 2)\n",
        "    # Final prediction is based on a threshold of 0.5\n",
        "    predictions = out > 0.5\n",
        "    accuracy = np.mean(predictions == y_val)\n",
        "    print(\"Epoch: \", '{:>4}'.format(e),\n",
        "          \"; Validation loss: \", '{:>6}'.format(loss.round(4)),\n",
        "          \"; Validation accuracy: \", '{:>6}'.format(accuracy.round(4)))  "
      ],
      "execution_count": 9,
      "outputs": [
        {
          "output_type": "stream",
          "text": [
            "Epoch:     0 ; Validation loss:  0.2652 ; Validation accuracy:   0.375\n",
            "Epoch:   100 ; Validation loss:  0.2421 ; Validation accuracy:   0.675\n",
            "Epoch:   200 ; Validation loss:  0.2045 ; Validation accuracy:    0.75\n",
            "Epoch:   300 ; Validation loss:  0.1685 ; Validation accuracy:   0.825\n",
            "Epoch:   400 ; Validation loss:  0.1397 ; Validation accuracy:    0.85\n",
            "Epoch:   500 ; Validation loss:  0.1182 ; Validation accuracy:    0.85\n",
            "Epoch:   600 ; Validation loss:  0.1022 ; Validation accuracy:  0.8875\n",
            "Epoch:   700 ; Validation loss:    0.09 ; Validation accuracy:    0.95\n",
            "Epoch:   800 ; Validation loss:  0.0804 ; Validation accuracy:     1.0\n",
            "Epoch:   900 ; Validation loss:  0.0727 ; Validation accuracy:     1.0\n"
          ],
          "name": "stdout"
        }
      ]
    }
  ]
}