{
  "nbformat": 4,
  "nbformat_minor": 0,
  "metadata": {
    "colab": {
      "name": "2_Building a multi-layer neural network.ipynb",
      "version": "0.3.2",
      "provenance": [],
      "collapsed_sections": []
    },
    "kernelspec": {
      "name": "python3",
      "display_name": "Python 3"
    },
    "accelerator": "GPU"
  },
  "cells": [
    {
      "metadata": {
        "id": "OxVP76afdOAT",
        "colab_type": "text"
      },
      "cell_type": "markdown",
      "source": [
        "**Importing the libraries**"
      ]
    },
    {
      "metadata": {
        "id": "A4jesnWLYEQi",
        "colab_type": "code",
        "colab": {
          "base_uri": "https://localhost:8080/",
          "height": 35
        },
        "outputId": "4170ad00-d133-4892-a1c7-e555e0981e7e"
      },
      "cell_type": "code",
      "source": [
        "import pandas as pd\n",
        "import numpy as np\n",
        "\n",
        "from sklearn.model_selection import train_test_split\n",
        "from sklearn.preprocessing import StandardScaler\n",
        "\n",
        "from keras.models import Sequential\n",
        "from keras.layers import Dense\n",
        "from keras.callbacks import EarlyStopping, ModelCheckpoint\n",
        "from keras.optimizers import Adam\n",
        "\n",
        "SEED = 2017"
      ],
      "execution_count": 1,
      "outputs": [
        {
          "output_type": "stream",
          "text": [
            "Using TensorFlow backend.\n"
          ],
          "name": "stderr"
        }
      ]
    },
    {
      "metadata": {
        "id": "L0BjnuzjdSB3",
        "colab_type": "text"
      },
      "cell_type": "markdown",
      "source": [
        "**Loading the dataset, and defining the variables:**"
      ]
    },
    {
      "metadata": {
        "id": "VBxshtLgiBdl",
        "colab_type": "code",
        "colab": {}
      },
      "cell_type": "code",
      "source": [
        "data = pd.read_csv(\"https://archive.ics.uci.edu/ml/machine-learning-databases/wine-quality/winequality-red.csv\", sep = ';')\n",
        "\n",
        "y = data['quality']\n",
        "X = data.drop(['quality'], axis = 1)"
      ],
      "execution_count": 0,
      "outputs": []
    },
    {
      "metadata": {
        "id": "PiGEktandXlb",
        "colab_type": "text"
      },
      "cell_type": "markdown",
      "source": [
        "**Inspecting the dataset:**"
      ]
    },
    {
      "metadata": {
        "id": "go5x-4_Giu3a",
        "colab_type": "code",
        "colab": {
          "base_uri": "https://localhost:8080/",
          "height": 124
        },
        "outputId": "01d19731-65d5-4cb2-b2b8-1a4b37de1f48"
      },
      "cell_type": "code",
      "source": [
        "y.head()"
      ],
      "execution_count": 3,
      "outputs": [
        {
          "output_type": "execute_result",
          "data": {
            "text/plain": [
              "0    5\n",
              "1    5\n",
              "2    5\n",
              "3    6\n",
              "4    5\n",
              "Name: quality, dtype: int64"
            ]
          },
          "metadata": {
            "tags": []
          },
          "execution_count": 3
        }
      ]
    },
    {
      "metadata": {
        "id": "k5iaUzoZizxn",
        "colab_type": "code",
        "colab": {
          "base_uri": "https://localhost:8080/",
          "height": 261
        },
        "outputId": "a3da38c3-5ccc-47b6-c6c8-5f62f535b693"
      },
      "cell_type": "code",
      "source": [
        "X.head()"
      ],
      "execution_count": 4,
      "outputs": [
        {
          "output_type": "execute_result",
          "data": {
            "text/html": [
              "<div>\n",
              "<style scoped>\n",
              "    .dataframe tbody tr th:only-of-type {\n",
              "        vertical-align: middle;\n",
              "    }\n",
              "\n",
              "    .dataframe tbody tr th {\n",
              "        vertical-align: top;\n",
              "    }\n",
              "\n",
              "    .dataframe thead th {\n",
              "        text-align: right;\n",
              "    }\n",
              "</style>\n",
              "<table border=\"1\" class=\"dataframe\">\n",
              "  <thead>\n",
              "    <tr style=\"text-align: right;\">\n",
              "      <th></th>\n",
              "      <th>fixed acidity</th>\n",
              "      <th>volatile acidity</th>\n",
              "      <th>citric acid</th>\n",
              "      <th>residual sugar</th>\n",
              "      <th>chlorides</th>\n",
              "      <th>free sulfur dioxide</th>\n",
              "      <th>total sulfur dioxide</th>\n",
              "      <th>density</th>\n",
              "      <th>pH</th>\n",
              "      <th>sulphates</th>\n",
              "      <th>alcohol</th>\n",
              "    </tr>\n",
              "  </thead>\n",
              "  <tbody>\n",
              "    <tr>\n",
              "      <th>0</th>\n",
              "      <td>7.4</td>\n",
              "      <td>0.70</td>\n",
              "      <td>0.00</td>\n",
              "      <td>1.9</td>\n",
              "      <td>0.076</td>\n",
              "      <td>11.0</td>\n",
              "      <td>34.0</td>\n",
              "      <td>0.9978</td>\n",
              "      <td>3.51</td>\n",
              "      <td>0.56</td>\n",
              "      <td>9.4</td>\n",
              "    </tr>\n",
              "    <tr>\n",
              "      <th>1</th>\n",
              "      <td>7.8</td>\n",
              "      <td>0.88</td>\n",
              "      <td>0.00</td>\n",
              "      <td>2.6</td>\n",
              "      <td>0.098</td>\n",
              "      <td>25.0</td>\n",
              "      <td>67.0</td>\n",
              "      <td>0.9968</td>\n",
              "      <td>3.20</td>\n",
              "      <td>0.68</td>\n",
              "      <td>9.8</td>\n",
              "    </tr>\n",
              "    <tr>\n",
              "      <th>2</th>\n",
              "      <td>7.8</td>\n",
              "      <td>0.76</td>\n",
              "      <td>0.04</td>\n",
              "      <td>2.3</td>\n",
              "      <td>0.092</td>\n",
              "      <td>15.0</td>\n",
              "      <td>54.0</td>\n",
              "      <td>0.9970</td>\n",
              "      <td>3.26</td>\n",
              "      <td>0.65</td>\n",
              "      <td>9.8</td>\n",
              "    </tr>\n",
              "    <tr>\n",
              "      <th>3</th>\n",
              "      <td>11.2</td>\n",
              "      <td>0.28</td>\n",
              "      <td>0.56</td>\n",
              "      <td>1.9</td>\n",
              "      <td>0.075</td>\n",
              "      <td>17.0</td>\n",
              "      <td>60.0</td>\n",
              "      <td>0.9980</td>\n",
              "      <td>3.16</td>\n",
              "      <td>0.58</td>\n",
              "      <td>9.8</td>\n",
              "    </tr>\n",
              "    <tr>\n",
              "      <th>4</th>\n",
              "      <td>7.4</td>\n",
              "      <td>0.70</td>\n",
              "      <td>0.00</td>\n",
              "      <td>1.9</td>\n",
              "      <td>0.076</td>\n",
              "      <td>11.0</td>\n",
              "      <td>34.0</td>\n",
              "      <td>0.9978</td>\n",
              "      <td>3.51</td>\n",
              "      <td>0.56</td>\n",
              "      <td>9.4</td>\n",
              "    </tr>\n",
              "  </tbody>\n",
              "</table>\n",
              "</div>"
            ],
            "text/plain": [
              "   fixed acidity  volatile acidity  citric acid  residual sugar  chlorides  \\\n",
              "0            7.4              0.70         0.00             1.9      0.076   \n",
              "1            7.8              0.88         0.00             2.6      0.098   \n",
              "2            7.8              0.76         0.04             2.3      0.092   \n",
              "3           11.2              0.28         0.56             1.9      0.075   \n",
              "4            7.4              0.70         0.00             1.9      0.076   \n",
              "\n",
              "   free sulfur dioxide  total sulfur dioxide  density    pH  sulphates  \\\n",
              "0                 11.0                  34.0   0.9978  3.51       0.56   \n",
              "1                 25.0                  67.0   0.9968  3.20       0.68   \n",
              "2                 15.0                  54.0   0.9970  3.26       0.65   \n",
              "3                 17.0                  60.0   0.9980  3.16       0.58   \n",
              "4                 11.0                  34.0   0.9978  3.51       0.56   \n",
              "\n",
              "   alcohol  \n",
              "0      9.4  \n",
              "1      9.8  \n",
              "2      9.8  \n",
              "3      9.8  \n",
              "4      9.4  "
            ]
          },
          "metadata": {
            "tags": []
          },
          "execution_count": 4
        }
      ]
    },
    {
      "metadata": {
        "id": "A31eDwrjdbOa",
        "colab_type": "text"
      },
      "cell_type": "markdown",
      "source": [
        "**Splitting the data for training and testing:**"
      ]
    },
    {
      "metadata": {
        "id": "1GtR5MoPi14U",
        "colab_type": "code",
        "colab": {}
      },
      "cell_type": "code",
      "source": [
        "X_train, X_test, y_train, y_test = train_test_split(X, y, \n",
        "                                                    test_size = 0.2,\n",
        "                                                    random_state = SEED)"
      ],
      "execution_count": 0,
      "outputs": []
    },
    {
      "metadata": {
        "id": "EDD99EOCdgrd",
        "colab_type": "text"
      },
      "cell_type": "markdown",
      "source": [
        "**Print average quality and first rows of training set:**"
      ]
    },
    {
      "metadata": {
        "id": "lvPjv8EczTem",
        "colab_type": "code",
        "colab": {
          "base_uri": "https://localhost:8080/",
          "height": 279
        },
        "outputId": "12385145-333f-4b6f-fd98-49cb2d9f4091"
      },
      "cell_type": "code",
      "source": [
        "print('Average quality training set: {: .4f}'.format(y_train.mean()))\n",
        "\n",
        "X_train.head()"
      ],
      "execution_count": 6,
      "outputs": [
        {
          "output_type": "stream",
          "text": [
            "Average quality training set:  5.6231\n"
          ],
          "name": "stdout"
        },
        {
          "output_type": "execute_result",
          "data": {
            "text/html": [
              "<div>\n",
              "<style scoped>\n",
              "    .dataframe tbody tr th:only-of-type {\n",
              "        vertical-align: middle;\n",
              "    }\n",
              "\n",
              "    .dataframe tbody tr th {\n",
              "        vertical-align: top;\n",
              "    }\n",
              "\n",
              "    .dataframe thead th {\n",
              "        text-align: right;\n",
              "    }\n",
              "</style>\n",
              "<table border=\"1\" class=\"dataframe\">\n",
              "  <thead>\n",
              "    <tr style=\"text-align: right;\">\n",
              "      <th></th>\n",
              "      <th>fixed acidity</th>\n",
              "      <th>volatile acidity</th>\n",
              "      <th>citric acid</th>\n",
              "      <th>residual sugar</th>\n",
              "      <th>chlorides</th>\n",
              "      <th>free sulfur dioxide</th>\n",
              "      <th>total sulfur dioxide</th>\n",
              "      <th>density</th>\n",
              "      <th>pH</th>\n",
              "      <th>sulphates</th>\n",
              "      <th>alcohol</th>\n",
              "    </tr>\n",
              "  </thead>\n",
              "  <tbody>\n",
              "    <tr>\n",
              "      <th>1140</th>\n",
              "      <td>7.3</td>\n",
              "      <td>0.40</td>\n",
              "      <td>0.30</td>\n",
              "      <td>1.7</td>\n",
              "      <td>0.080</td>\n",
              "      <td>33.0</td>\n",
              "      <td>79.0</td>\n",
              "      <td>0.99690</td>\n",
              "      <td>3.41</td>\n",
              "      <td>0.65</td>\n",
              "      <td>9.5</td>\n",
              "    </tr>\n",
              "    <tr>\n",
              "      <th>920</th>\n",
              "      <td>9.6</td>\n",
              "      <td>0.41</td>\n",
              "      <td>0.37</td>\n",
              "      <td>2.3</td>\n",
              "      <td>0.091</td>\n",
              "      <td>10.0</td>\n",
              "      <td>23.0</td>\n",
              "      <td>0.99786</td>\n",
              "      <td>3.24</td>\n",
              "      <td>0.56</td>\n",
              "      <td>10.5</td>\n",
              "    </tr>\n",
              "    <tr>\n",
              "      <th>1198</th>\n",
              "      <td>7.7</td>\n",
              "      <td>0.26</td>\n",
              "      <td>0.26</td>\n",
              "      <td>2.0</td>\n",
              "      <td>0.052</td>\n",
              "      <td>19.0</td>\n",
              "      <td>77.0</td>\n",
              "      <td>0.99510</td>\n",
              "      <td>3.15</td>\n",
              "      <td>0.79</td>\n",
              "      <td>10.9</td>\n",
              "    </tr>\n",
              "    <tr>\n",
              "      <th>423</th>\n",
              "      <td>10.5</td>\n",
              "      <td>0.24</td>\n",
              "      <td>0.47</td>\n",
              "      <td>2.1</td>\n",
              "      <td>0.066</td>\n",
              "      <td>6.0</td>\n",
              "      <td>24.0</td>\n",
              "      <td>0.99780</td>\n",
              "      <td>3.15</td>\n",
              "      <td>0.90</td>\n",
              "      <td>11.0</td>\n",
              "    </tr>\n",
              "    <tr>\n",
              "      <th>601</th>\n",
              "      <td>13.2</td>\n",
              "      <td>0.46</td>\n",
              "      <td>0.52</td>\n",
              "      <td>2.2</td>\n",
              "      <td>0.071</td>\n",
              "      <td>12.0</td>\n",
              "      <td>35.0</td>\n",
              "      <td>1.00060</td>\n",
              "      <td>3.10</td>\n",
              "      <td>0.56</td>\n",
              "      <td>9.0</td>\n",
              "    </tr>\n",
              "  </tbody>\n",
              "</table>\n",
              "</div>"
            ],
            "text/plain": [
              "      fixed acidity  volatile acidity  citric acid  residual sugar  chlorides  \\\n",
              "1140            7.3              0.40         0.30             1.7      0.080   \n",
              "920             9.6              0.41         0.37             2.3      0.091   \n",
              "1198            7.7              0.26         0.26             2.0      0.052   \n",
              "423            10.5              0.24         0.47             2.1      0.066   \n",
              "601            13.2              0.46         0.52             2.2      0.071   \n",
              "\n",
              "      free sulfur dioxide  total sulfur dioxide  density    pH  sulphates  \\\n",
              "1140                 33.0                  79.0  0.99690  3.41       0.65   \n",
              "920                  10.0                  23.0  0.99786  3.24       0.56   \n",
              "1198                 19.0                  77.0  0.99510  3.15       0.79   \n",
              "423                   6.0                  24.0  0.99780  3.15       0.90   \n",
              "601                  12.0                  35.0  1.00060  3.10       0.56   \n",
              "\n",
              "      alcohol  \n",
              "1140      9.5  \n",
              "920      10.5  \n",
              "1198     10.9  \n",
              "423      11.0  \n",
              "601       9.0  "
            ]
          },
          "metadata": {
            "tags": []
          },
          "execution_count": 6
        }
      ]
    },
    {
      "metadata": {
        "id": "xGcmiMCZdnSU",
        "colab_type": "text"
      },
      "cell_type": "markdown",
      "source": [
        "**Normalizing the input data:**"
      ]
    },
    {
      "metadata": {
        "id": "B0GFCaqpzxK5",
        "colab_type": "code",
        "colab": {}
      },
      "cell_type": "code",
      "source": [
        "scaler = StandardScaler().fit(X_train)\n",
        "\n",
        "X_train = pd.DataFrame(scaler.transform(X_train))\n",
        "X_test = pd.DataFrame(scaler.transform(X_test))"
      ],
      "execution_count": 0,
      "outputs": []
    },
    {
      "metadata": {
        "id": "ZkNS8PkZdqYP",
        "colab_type": "text"
      },
      "cell_type": "markdown",
      "source": [
        "**Determine the baseline predictions:**"
      ]
    },
    {
      "metadata": {
        "id": "hHp8X8Wh1EzS",
        "colab_type": "code",
        "colab": {
          "base_uri": "https://localhost:8080/",
          "height": 35
        },
        "outputId": "d89171fc-3652-4041-e97e-44adade3a90c"
      },
      "cell_type": "code",
      "source": [
        "# Predict the mean quality of the training data for each validation input\n",
        "\n",
        "print('MSE: {:.4f}'.format(np.mean((y_test - ([y_train.mean()] * y_test.shape[0])) ** 2)))"
      ],
      "execution_count": 8,
      "outputs": [
        {
          "output_type": "stream",
          "text": [
            "MSE: 0.5940\n"
          ],
          "name": "stdout"
        }
      ]
    },
    {
      "metadata": {
        "id": "57xJ85QsdwVN",
        "colab_type": "text"
      },
      "cell_type": "markdown",
      "source": [
        "**Build the neural network by defining the network architecture:**"
      ]
    },
    {
      "metadata": {
        "id": "IhBQA-Sz2eQI",
        "colab_type": "code",
        "colab": {
          "base_uri": "https://localhost:8080/",
          "height": 91
        },
        "outputId": "2fe8cffb-1bfc-44a2-995c-809a814c920e"
      },
      "cell_type": "code",
      "source": [
        "model = Sequential()\n",
        "\n",
        "# First hidden layer\n",
        "model.add(Dense(200, input_dim = X_train.shape[1], \n",
        "                activation = 'relu'))\n",
        "\n",
        "# Second hidden layer\n",
        "model.add(Dense(25, activation = 'relu'))\n",
        "\n",
        "# Output layer\n",
        "model.add(Dense(1, activation = 'linear'))\n",
        "\n",
        "# Set optimizer\n",
        "opt = Adam()\n",
        "\n",
        "# Compile model\n",
        "model.compile(loss = 'mse', optimizer = opt, metrics = ['accuracy'])"
      ],
      "execution_count": 9,
      "outputs": [
        {
          "output_type": "stream",
          "text": [
            "WARNING:tensorflow:From /usr/local/lib/python3.6/dist-packages/tensorflow/python/framework/op_def_library.py:263: colocate_with (from tensorflow.python.framework.ops) is deprecated and will be removed in a future version.\n",
            "Instructions for updating:\n",
            "Colocations handled automatically by placer.\n"
          ],
          "name": "stdout"
        }
      ]
    },
    {
      "metadata": {
        "id": "iZyndyTvd7LJ",
        "colab_type": "text"
      },
      "cell_type": "markdown",
      "source": [
        "**Let's define the callback for early stopping and saving the best model:**"
      ]
    },
    {
      "metadata": {
        "id": "txuWvoiE9WVN",
        "colab_type": "code",
        "colab": {}
      },
      "cell_type": "code",
      "source": [
        "callbacks = [\n",
        "    EarlyStopping(monitor = 'val_acc', patience = 20, verbose = 2),\n",
        "    ModelCheckpoint('multi_layer_best_model.h5',\n",
        "                    monitor = 'val_acc',\n",
        "                    save_best_only = True,\n",
        "                    verbose = 0)\n",
        "]"
      ],
      "execution_count": 0,
      "outputs": []
    },
    {
      "metadata": {
        "id": "CRjVd1lIeG0Z",
        "colab_type": "text"
      },
      "cell_type": "markdown",
      "source": [
        "**Defining the batch size to be 64, and the number of epochs to be 5000:**"
      ]
    },
    {
      "metadata": {
        "id": "34_wLY-m-ES-",
        "colab_type": "code",
        "colab": {}
      },
      "cell_type": "code",
      "source": [
        "batch_size = 64\n",
        "n_epochs = 5000"
      ],
      "execution_count": 0,
      "outputs": []
    },
    {
      "metadata": {
        "id": "7pyyCZPgeNgD",
        "colab_type": "text"
      },
      "cell_type": "markdown",
      "source": [
        "**Running the model:**"
      ]
    },
    {
      "metadata": {
        "id": "Xm-eoD4i-MD1",
        "colab_type": "code",
        "colab": {
          "base_uri": "https://localhost:8080/",
          "height": 3253
        },
        "outputId": "57d1e791-d381-4760-b256-b9dd50b97f82"
      },
      "cell_type": "code",
      "source": [
        "model.fit(X_train.values, y_train, batch_size = 64, \n",
        "          epochs = n_epochs, validation_split = 0.2,\n",
        "          verbose = 2,\n",
        "          validation_data = (X_test.values, y_test),\n",
        "          callbacks = callbacks)"
      ],
      "execution_count": 12,
      "outputs": [
        {
          "output_type": "stream",
          "text": [
            "WARNING:tensorflow:From /usr/local/lib/python3.6/dist-packages/tensorflow/python/ops/math_ops.py:3066: to_int32 (from tensorflow.python.ops.math_ops) is deprecated and will be removed in a future version.\n",
            "Instructions for updating:\n",
            "Use tf.cast instead.\n",
            "Train on 1279 samples, validate on 320 samples\n",
            "Epoch 1/5000\n",
            " - 3s - loss: 20.4111 - acc: 0.0055 - val_loss: 12.5023 - val_acc: 0.0187\n",
            "Epoch 2/5000\n",
            " - 0s - loss: 6.3885 - acc: 0.0977 - val_loss: 3.8108 - val_acc: 0.1656\n",
            "Epoch 3/5000\n",
            " - 0s - loss: 3.1007 - acc: 0.2158 - val_loss: 2.6438 - val_acc: 0.2344\n",
            "Epoch 4/5000\n",
            " - 0s - loss: 2.1791 - acc: 0.2682 - val_loss: 2.2836 - val_acc: 0.2625\n",
            "Epoch 5/5000\n",
            " - 0s - loss: 1.8768 - acc: 0.2744 - val_loss: 1.9635 - val_acc: 0.2938\n",
            "Epoch 6/5000\n",
            " - 0s - loss: 1.6709 - acc: 0.2924 - val_loss: 1.8119 - val_acc: 0.3063\n",
            "Epoch 7/5000\n",
            " - 0s - loss: 1.5317 - acc: 0.3159 - val_loss: 1.6576 - val_acc: 0.2938\n",
            "Epoch 8/5000\n",
            " - 0s - loss: 1.3947 - acc: 0.3307 - val_loss: 1.5535 - val_acc: 0.3312\n",
            "Epoch 9/5000\n",
            " - 0s - loss: 1.2799 - acc: 0.3487 - val_loss: 1.4428 - val_acc: 0.3469\n",
            "Epoch 10/5000\n",
            " - 0s - loss: 1.1796 - acc: 0.3683 - val_loss: 1.3455 - val_acc: 0.3656\n",
            "Epoch 11/5000\n",
            " - 0s - loss: 1.0862 - acc: 0.3792 - val_loss: 1.2689 - val_acc: 0.3781\n",
            "Epoch 12/5000\n",
            " - 0s - loss: 1.0017 - acc: 0.3909 - val_loss: 1.1926 - val_acc: 0.4000\n",
            "Epoch 13/5000\n",
            " - 0s - loss: 0.9320 - acc: 0.4120 - val_loss: 1.1098 - val_acc: 0.4281\n",
            "Epoch 14/5000\n",
            " - 0s - loss: 0.8678 - acc: 0.4386 - val_loss: 1.0640 - val_acc: 0.4437\n",
            "Epoch 15/5000\n",
            " - 0s - loss: 0.8133 - acc: 0.4402 - val_loss: 0.9991 - val_acc: 0.4375\n",
            "Epoch 16/5000\n",
            " - 0s - loss: 0.7661 - acc: 0.4574 - val_loss: 0.9353 - val_acc: 0.4469\n",
            "Epoch 17/5000\n",
            " - 0s - loss: 0.7123 - acc: 0.4785 - val_loss: 0.9065 - val_acc: 0.4500\n",
            "Epoch 18/5000\n",
            " - 0s - loss: 0.6691 - acc: 0.4824 - val_loss: 0.8522 - val_acc: 0.4781\n",
            "Epoch 19/5000\n",
            " - 0s - loss: 0.6406 - acc: 0.4941 - val_loss: 0.8094 - val_acc: 0.4875\n",
            "Epoch 20/5000\n",
            " - 0s - loss: 0.5934 - acc: 0.5059 - val_loss: 0.7565 - val_acc: 0.5000\n",
            "Epoch 21/5000\n",
            " - 0s - loss: 0.5647 - acc: 0.5035 - val_loss: 0.7386 - val_acc: 0.4844\n",
            "Epoch 22/5000\n",
            " - 0s - loss: 0.5412 - acc: 0.5145 - val_loss: 0.7078 - val_acc: 0.5000\n",
            "Epoch 23/5000\n",
            " - 0s - loss: 0.5151 - acc: 0.5364 - val_loss: 0.6786 - val_acc: 0.5125\n",
            "Epoch 24/5000\n",
            " - 0s - loss: 0.4947 - acc: 0.5317 - val_loss: 0.6372 - val_acc: 0.5312\n",
            "Epoch 25/5000\n",
            " - 0s - loss: 0.4700 - acc: 0.5348 - val_loss: 0.6201 - val_acc: 0.5312\n",
            "Epoch 26/5000\n",
            " - 0s - loss: 0.4593 - acc: 0.5543 - val_loss: 0.6217 - val_acc: 0.5312\n",
            "Epoch 27/5000\n",
            " - 0s - loss: 0.4457 - acc: 0.5598 - val_loss: 0.5758 - val_acc: 0.5406\n",
            "Epoch 28/5000\n",
            " - 0s - loss: 0.4292 - acc: 0.5590 - val_loss: 0.5471 - val_acc: 0.5469\n",
            "Epoch 29/5000\n",
            " - 0s - loss: 0.4152 - acc: 0.5770 - val_loss: 0.5488 - val_acc: 0.5531\n",
            "Epoch 30/5000\n",
            " - 0s - loss: 0.4081 - acc: 0.5692 - val_loss: 0.5237 - val_acc: 0.5406\n",
            "Epoch 31/5000\n",
            " - 0s - loss: 0.4010 - acc: 0.5872 - val_loss: 0.5059 - val_acc: 0.5687\n",
            "Epoch 32/5000\n",
            " - 0s - loss: 0.3844 - acc: 0.6013 - val_loss: 0.4994 - val_acc: 0.5563\n",
            "Epoch 33/5000\n",
            " - 0s - loss: 0.3828 - acc: 0.5989 - val_loss: 0.4770 - val_acc: 0.5531\n",
            "Epoch 34/5000\n",
            " - 0s - loss: 0.3777 - acc: 0.5927 - val_loss: 0.4670 - val_acc: 0.5750\n",
            "Epoch 35/5000\n",
            " - 0s - loss: 0.3651 - acc: 0.6067 - val_loss: 0.4692 - val_acc: 0.5563\n",
            "Epoch 36/5000\n",
            " - 0s - loss: 0.3645 - acc: 0.5997 - val_loss: 0.4622 - val_acc: 0.5875\n",
            "Epoch 37/5000\n",
            " - 0s - loss: 0.3576 - acc: 0.6177 - val_loss: 0.4473 - val_acc: 0.5906\n",
            "Epoch 38/5000\n",
            " - 0s - loss: 0.3495 - acc: 0.6185 - val_loss: 0.4473 - val_acc: 0.5938\n",
            "Epoch 39/5000\n",
            " - 0s - loss: 0.3460 - acc: 0.6263 - val_loss: 0.4348 - val_acc: 0.5875\n",
            "Epoch 40/5000\n",
            " - 0s - loss: 0.3571 - acc: 0.6099 - val_loss: 0.4439 - val_acc: 0.5594\n",
            "Epoch 41/5000\n",
            " - 0s - loss: 0.3505 - acc: 0.6247 - val_loss: 0.4492 - val_acc: 0.5969\n",
            "Epoch 42/5000\n",
            " - 0s - loss: 0.3466 - acc: 0.6169 - val_loss: 0.4281 - val_acc: 0.5813\n",
            "Epoch 43/5000\n",
            " - 0s - loss: 0.3375 - acc: 0.6333 - val_loss: 0.4359 - val_acc: 0.5938\n",
            "Epoch 44/5000\n",
            " - 0s - loss: 0.3347 - acc: 0.6364 - val_loss: 0.4452 - val_acc: 0.6094\n",
            "Epoch 45/5000\n",
            " - 0s - loss: 0.3297 - acc: 0.6443 - val_loss: 0.4277 - val_acc: 0.6031\n",
            "Epoch 46/5000\n",
            " - 0s - loss: 0.3271 - acc: 0.6505 - val_loss: 0.4175 - val_acc: 0.6000\n",
            "Epoch 47/5000\n",
            " - 0s - loss: 0.3283 - acc: 0.6474 - val_loss: 0.4289 - val_acc: 0.6000\n",
            "Epoch 48/5000\n",
            " - 0s - loss: 0.3216 - acc: 0.6489 - val_loss: 0.4175 - val_acc: 0.6031\n",
            "Epoch 49/5000\n",
            " - 0s - loss: 0.3169 - acc: 0.6497 - val_loss: 0.4099 - val_acc: 0.6062\n",
            "Epoch 50/5000\n",
            " - 0s - loss: 0.3173 - acc: 0.6450 - val_loss: 0.4101 - val_acc: 0.6031\n",
            "Epoch 51/5000\n",
            " - 0s - loss: 0.3141 - acc: 0.6443 - val_loss: 0.4089 - val_acc: 0.6156\n",
            "Epoch 52/5000\n",
            " - 0s - loss: 0.3124 - acc: 0.6583 - val_loss: 0.3995 - val_acc: 0.6094\n",
            "Epoch 53/5000\n",
            " - 0s - loss: 0.3084 - acc: 0.6482 - val_loss: 0.4110 - val_acc: 0.5969\n",
            "Epoch 54/5000\n",
            " - 0s - loss: 0.3126 - acc: 0.6450 - val_loss: 0.4137 - val_acc: 0.5687\n",
            "Epoch 55/5000\n",
            " - 0s - loss: 0.3106 - acc: 0.6575 - val_loss: 0.4328 - val_acc: 0.6125\n",
            "Epoch 56/5000\n",
            " - 0s - loss: 0.3039 - acc: 0.6615 - val_loss: 0.3950 - val_acc: 0.6156\n",
            "Epoch 57/5000\n",
            " - 0s - loss: 0.3064 - acc: 0.6560 - val_loss: 0.3909 - val_acc: 0.6125\n",
            "Epoch 58/5000\n",
            " - 0s - loss: 0.3011 - acc: 0.6583 - val_loss: 0.3813 - val_acc: 0.6094\n",
            "Epoch 59/5000\n",
            " - 0s - loss: 0.2968 - acc: 0.6708 - val_loss: 0.4004 - val_acc: 0.6031\n",
            "Epoch 60/5000\n",
            " - 0s - loss: 0.3002 - acc: 0.6607 - val_loss: 0.3972 - val_acc: 0.6250\n",
            "Epoch 61/5000\n",
            " - 0s - loss: 0.2973 - acc: 0.6747 - val_loss: 0.3911 - val_acc: 0.6031\n",
            "Epoch 62/5000\n",
            " - 0s - loss: 0.2928 - acc: 0.6630 - val_loss: 0.3916 - val_acc: 0.6219\n",
            "Epoch 63/5000\n",
            " - 0s - loss: 0.2923 - acc: 0.6693 - val_loss: 0.3911 - val_acc: 0.6000\n",
            "Epoch 64/5000\n",
            " - 0s - loss: 0.2984 - acc: 0.6622 - val_loss: 0.3775 - val_acc: 0.6156\n",
            "Epoch 65/5000\n",
            " - 0s - loss: 0.2893 - acc: 0.6693 - val_loss: 0.3876 - val_acc: 0.6219\n",
            "Epoch 66/5000\n",
            " - 0s - loss: 0.2890 - acc: 0.6630 - val_loss: 0.3856 - val_acc: 0.6156\n",
            "Epoch 67/5000\n",
            " - 0s - loss: 0.2936 - acc: 0.6669 - val_loss: 0.3835 - val_acc: 0.6344\n",
            "Epoch 68/5000\n",
            " - 0s - loss: 0.2907 - acc: 0.6708 - val_loss: 0.3887 - val_acc: 0.5875\n",
            "Epoch 69/5000\n",
            " - 0s - loss: 0.2862 - acc: 0.6708 - val_loss: 0.3762 - val_acc: 0.6250\n",
            "Epoch 70/5000\n",
            " - 0s - loss: 0.2899 - acc: 0.6630 - val_loss: 0.3880 - val_acc: 0.6125\n",
            "Epoch 71/5000\n",
            " - 0s - loss: 0.2856 - acc: 0.6732 - val_loss: 0.4000 - val_acc: 0.6062\n",
            "Epoch 72/5000\n",
            " - 0s - loss: 0.2846 - acc: 0.6826 - val_loss: 0.3823 - val_acc: 0.6031\n",
            "Epoch 73/5000\n",
            " - 0s - loss: 0.2970 - acc: 0.6560 - val_loss: 0.3849 - val_acc: 0.6188\n",
            "Epoch 74/5000\n",
            " - 0s - loss: 0.2817 - acc: 0.6826 - val_loss: 0.3836 - val_acc: 0.5969\n",
            "Epoch 75/5000\n",
            " - 0s - loss: 0.2793 - acc: 0.6794 - val_loss: 0.3768 - val_acc: 0.6188\n",
            "Epoch 76/5000\n",
            " - 0s - loss: 0.2783 - acc: 0.6732 - val_loss: 0.3751 - val_acc: 0.6281\n",
            "Epoch 77/5000\n",
            " - 0s - loss: 0.2779 - acc: 0.6849 - val_loss: 0.3874 - val_acc: 0.5969\n",
            "Epoch 78/5000\n",
            " - 0s - loss: 0.2831 - acc: 0.6740 - val_loss: 0.4074 - val_acc: 0.5906\n",
            "Epoch 79/5000\n",
            " - 0s - loss: 0.2920 - acc: 0.6755 - val_loss: 0.3859 - val_acc: 0.6125\n",
            "Epoch 80/5000\n",
            " - 0s - loss: 0.2754 - acc: 0.6794 - val_loss: 0.3729 - val_acc: 0.6188\n",
            "Epoch 81/5000\n",
            " - 0s - loss: 0.2710 - acc: 0.6888 - val_loss: 0.3658 - val_acc: 0.6062\n",
            "Epoch 82/5000\n",
            " - 0s - loss: 0.2729 - acc: 0.6873 - val_loss: 0.3723 - val_acc: 0.6156\n",
            "Epoch 83/5000\n",
            " - 0s - loss: 0.2776 - acc: 0.6857 - val_loss: 0.3752 - val_acc: 0.5813\n",
            "Epoch 84/5000\n",
            " - 0s - loss: 0.2698 - acc: 0.6904 - val_loss: 0.3942 - val_acc: 0.6000\n",
            "Epoch 85/5000\n",
            " - 0s - loss: 0.2659 - acc: 0.6873 - val_loss: 0.3757 - val_acc: 0.6094\n",
            "Epoch 86/5000\n",
            " - 0s - loss: 0.2714 - acc: 0.6896 - val_loss: 0.3932 - val_acc: 0.5969\n",
            "Epoch 87/5000\n",
            " - 0s - loss: 0.2726 - acc: 0.6794 - val_loss: 0.3687 - val_acc: 0.6219\n",
            "Epoch 00087: early stopping\n"
          ],
          "name": "stdout"
        },
        {
          "output_type": "execute_result",
          "data": {
            "text/plain": [
              "<keras.callbacks.History at 0x7f0f29091668>"
            ]
          },
          "metadata": {
            "tags": []
          },
          "execution_count": 12
        }
      ]
    },
    {
      "metadata": {
        "id": "5xYxAb9XeRiP",
        "colab_type": "text"
      },
      "cell_type": "markdown",
      "source": [
        "**Printing the performance on the test set after loading the optimal weights:**"
      ]
    },
    {
      "metadata": {
        "id": "GebBkPIU-66v",
        "colab_type": "code",
        "colab": {
          "base_uri": "https://localhost:8080/",
          "height": 35
        },
        "outputId": "6289dfdb-cc0a-4ae9-abba-981af77fa3e8"
      },
      "cell_type": "code",
      "source": [
        "best_model = model\n",
        "\n",
        "best_model.load_weights('multi_layer_best_model.h5')\n",
        "best_model.compile(loss = 'mse', optimizer = 'adam',\n",
        "                   metrics = ['accuracy'])\n",
        "\n",
        "# Evaluate on test set\n",
        "score = best_model.evaluate(X_test.values, y_test, verbose = 0)\n",
        "\n",
        "print('Test accuracy: %.2f%%' % (score[1] * 100))"
      ],
      "execution_count": 13,
      "outputs": [
        {
          "output_type": "stream",
          "text": [
            "Test accuracy: 63.44%\n"
          ],
          "name": "stdout"
        }
      ]
    }
  ]
}