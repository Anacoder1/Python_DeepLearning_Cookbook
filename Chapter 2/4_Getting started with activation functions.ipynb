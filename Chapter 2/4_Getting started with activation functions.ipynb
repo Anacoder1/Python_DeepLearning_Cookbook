{
  "nbformat": 4,
  "nbformat_minor": 0,
  "metadata": {
    "colab": {
      "name": "4_Getting started with activation functions.ipynb",
      "version": "0.3.2",
      "provenance": [],
      "collapsed_sections": []
    },
    "kernelspec": {
      "name": "python3",
      "display_name": "Python 3"
    },
    "accelerator": "GPU"
  },
  "cells": [
    {
      "metadata": {
        "id": "OEmVg-iJtJXT",
        "colab_type": "text"
      },
      "cell_type": "markdown",
      "source": [
        "**Importing the libraries:**"
      ]
    },
    {
      "metadata": {
        "id": "Uhy0PaiBRNCs",
        "colab_type": "code",
        "colab": {
          "base_uri": "https://localhost:8080/",
          "height": 35
        },
        "outputId": "198ff2b1-39b7-441c-acb4-d8410a7a7c54"
      },
      "cell_type": "code",
      "source": [
        "import numpy as np\n",
        "import pandas as pd\n",
        "import matplotlib.pyplot as plt\n",
        "\n",
        "from sklearn.model_selection import train_test_split\n",
        "\n",
        "from keras.models import Sequential\n",
        "from keras.layers import Dense\n",
        "from keras.utils import to_categorical\n",
        "from keras.callbacks import Callback\n",
        "from keras.datasets import mnist\n",
        "\n",
        "SEED = 2017"
      ],
      "execution_count": 1,
      "outputs": [
        {
          "output_type": "stream",
          "text": [
            "Using TensorFlow backend.\n"
          ],
          "name": "stderr"
        }
      ]
    },
    {
      "metadata": {
        "id": "wHh0i9X4tM8h",
        "colab_type": "text"
      },
      "cell_type": "markdown",
      "source": [
        "**Loading the MNIST dataset:**"
      ]
    },
    {
      "metadata": {
        "id": "ZDZQRc00Y7Bl",
        "colab_type": "code",
        "colab": {}
      },
      "cell_type": "code",
      "source": [
        "(X_train, y_train), (X_val, y_val) = mnist.load_data()"
      ],
      "execution_count": 0,
      "outputs": []
    },
    {
      "metadata": {
        "id": "YOidDcAHtTzk",
        "colab_type": "text"
      },
      "cell_type": "markdown",
      "source": [
        "**Show an example of each label and print the count per label:**"
      ]
    },
    {
      "metadata": {
        "id": "LwheqEIwZdSt",
        "colab_type": "code",
        "colab": {
          "base_uri": "https://localhost:8080/",
          "height": 138
        },
        "outputId": "74d4c36b-b44b-405d-c70e-3c60f1b06202"
      },
      "cell_type": "code",
      "source": [
        "# Plot first image of each label\n",
        "\n",
        "unique_labels = set(y_train)\n",
        "plt.figure(figsize = (12, 12))\n",
        "\n",
        "i = 1\n",
        "for label in unique_labels:\n",
        "  image = X_train[y_train.tolist().index(label)]\n",
        "  plt.subplot(10, 10, i)\n",
        "  plt.axis('off')\n",
        "  plt.title(\"{0}: ({1})\".format(label, y_train.tolist().count(label)))\n",
        "  i += 1\n",
        "  _ = plt.imshow(image, cmap = 'gray')\n",
        "plt.show()  \n",
        "\n",
        "## Examples of labels (and count) in the MNIST dataset"
      ],
      "execution_count": 3,
      "outputs": [
        {
          "output_type": "display_data",
          "data": {
            "image/png": "[encoded data removed]",
            "text/plain": [
              "<Figure size 864x864 with 10 Axes>"
            ]
          },
          "metadata": {
            "tags": []
          }
        }
      ]
    },
    {
      "metadata": {
        "id": "MtcQtCVYthNU",
        "colab_type": "text"
      },
      "cell_type": "markdown",
      "source": [
        "**Preprocessing the data:**"
      ]
    },
    {
      "metadata": {
        "id": "Rk3AofCTbw4P",
        "colab_type": "code",
        "colab": {}
      },
      "cell_type": "code",
      "source": [
        "# Normalize data\n",
        "X_train = X_train.astype('float32') / 255.\n",
        "X_val = X_val.astype('float32') / 255.\n",
        "\n",
        "# One-Hot-Encode labels\n",
        "n_classes = 10\n",
        "y_train = to_categorical(y_train, n_classes)\n",
        "y_val = to_categorical(y_val, n_classes)\n",
        "\n",
        "# Flatten data - we treat the image as a sequential array of values\n",
        "X_train = np.reshape(X_train, (60000, 784))\n",
        "X_val = np.reshape(X_val, (10000, 784))"
      ],
      "execution_count": 0,
      "outputs": []
    },
    {
      "metadata": {
        "id": "OEHuJzZetkwI",
        "colab_type": "text"
      },
      "cell_type": "markdown",
      "source": [
        "**Define the model with the sigmoid activation function:**"
      ]
    },
    {
      "metadata": {
        "id": "-1N4ytmye8cD",
        "colab_type": "code",
        "colab": {
          "base_uri": "https://localhost:8080/",
          "height": 91
        },
        "outputId": "f3e8817a-b4b4-426d-8130-c49041d5522d"
      },
      "cell_type": "code",
      "source": [
        "model_sigmoid = Sequential()\n",
        "\n",
        "model_sigmoid.add(Dense(700, input_dim = 784, activation = 'sigmoid'))\n",
        "model_sigmoid.add(Dense(700, activation = 'sigmoid'))\n",
        "model_sigmoid.add(Dense(700, activation = 'sigmoid'))\n",
        "model_sigmoid.add(Dense(700, activation = 'sigmoid'))\n",
        "model_sigmoid.add(Dense(700, activation = 'sigmoid'))\n",
        "model_sigmoid.add(Dense(350, activation = 'sigmoid'))\n",
        "model_sigmoid.add(Dense(100, activation = 'sigmoid'))\n",
        "model_sigmoid.add(Dense(10, activation = 'softmax'))\n",
        "\n",
        "# Compile model with SGD\n",
        "model_sigmoid.compile(loss = 'categorical_crossentropy',\n",
        "                      optimizer = 'sgd', metrics = ['accuracy'])"
      ],
      "execution_count": 5,
      "outputs": [
        {
          "output_type": "stream",
          "text": [
            "WARNING:tensorflow:From /usr/local/lib/python3.6/dist-packages/tensorflow/python/framework/op_def_library.py:263: colocate_with (from tensorflow.python.framework.ops) is deprecated and will be removed in a future version.\n",
            "Instructions for updating:\n",
            "Colocations handled automatically by placer.\n"
          ],
          "name": "stdout"
        }
      ]
    },
    {
      "metadata": {
        "id": "VHrWZBrrtoxf",
        "colab_type": "text"
      },
      "cell_type": "markdown",
      "source": [
        "**Define the model with the ReLU activation function:**"
      ]
    },
    {
      "metadata": {
        "id": "APICf9cMgrku",
        "colab_type": "code",
        "colab": {}
      },
      "cell_type": "code",
      "source": [
        "model_relu = Sequential()\n",
        "\n",
        "model_relu.add(Dense(700, input_dim = 784, activation = 'relu'))\n",
        "model_relu.add(Dense(700, activation = 'relu'))\n",
        "model_relu.add(Dense(700, activation = 'relu'))\n",
        "model_relu.add(Dense(700, activation = 'relu'))\n",
        "model_relu.add(Dense(700, activation = 'relu'))\n",
        "model_relu.add(Dense(350, activation = 'relu'))\n",
        "model_relu.add(Dense(100, activation = 'relu'))\n",
        "model_relu.add(Dense(10, activation = 'softmax'))\n",
        "\n",
        "# Compile model with SGD\n",
        "model_relu.compile(loss = 'categorical_crossentropy',\n",
        "                   optimizer = 'sgd', metrics = ['accuracy'])"
      ],
      "execution_count": 0,
      "outputs": []
    },
    {
      "metadata": {
        "id": "IuofvxNtttQ3",
        "colab_type": "text"
      },
      "cell_type": "markdown",
      "source": [
        "**Create a callback function to store the loss values per batch:**"
      ]
    },
    {
      "metadata": {
        "id": "I7VoxQ1aiRTM",
        "colab_type": "code",
        "colab": {}
      },
      "cell_type": "code",
      "source": [
        "class history_loss(Callback):\n",
        "  \n",
        "  def on_train_begin(self, logs = {}):\n",
        "    self.losses = []\n",
        "    \n",
        "  def on_batch_end(self, batch, logs = {}):\n",
        "    batch_loss = logs.get('loss')\n",
        "    self.losses.append(batch_loss)"
      ],
      "execution_count": 0,
      "outputs": []
    },
    {
      "metadata": {
        "id": "PoaLeKsitzqG",
        "colab_type": "text"
      },
      "cell_type": "markdown",
      "source": [
        "**Running the models:**"
      ]
    },
    {
      "metadata": {
        "id": "G4PLnwYIjNsl",
        "colab_type": "code",
        "colab": {
          "base_uri": "https://localhost:8080/",
          "height": 859
        },
        "outputId": "cb21b113-a4a9-4d0e-e149-e897f5c68ff2"
      },
      "cell_type": "code",
      "source": [
        "n_epochs = 10\n",
        "batch_size = 256\n",
        "validation_split = 0.2\n",
        "\n",
        "history_sigmoid = history_loss()\n",
        "model_sigmoid.fit(X_train, y_train, epochs = n_epochs,\n",
        "                  batch_size = batch_size,\n",
        "                  callbacks = [history_sigmoid],\n",
        "                  validation_split = validation_split,\n",
        "                  verbose = 2)\n",
        "\n",
        "history_relu = history_loss()\n",
        "model_relu.fit(X_train, y_train, epochs = n_epochs,\n",
        "               batch_size = batch_size,\n",
        "               callbacks = [history_relu],\n",
        "               validation_split = validation_split,\n",
        "               verbose = 2)"
      ],
      "execution_count": 8,
      "outputs": [
        {
          "output_type": "stream",
          "text": [
            "WARNING:tensorflow:From /usr/local/lib/python3.6/dist-packages/tensorflow/python/ops/math_ops.py:3066: to_int32 (from tensorflow.python.ops.math_ops) is deprecated and will be removed in a future version.\n",
            "Instructions for updating:\n",
            "Use tf.cast instead.\n",
            "Train on 48000 samples, validate on 12000 samples\n",
            "Epoch 1/10\n",
            " - 3s - loss: 2.3235 - acc: 0.1089 - val_loss: 2.3023 - val_acc: 0.1060\n",
            "Epoch 2/10\n",
            " - 2s - loss: 2.3014 - acc: 0.1140 - val_loss: 2.3020 - val_acc: 0.1060\n",
            "Epoch 3/10\n",
            " - 2s - loss: 2.3014 - acc: 0.1140 - val_loss: 2.3020 - val_acc: 0.1060\n",
            "Epoch 4/10\n",
            " - 2s - loss: 2.3014 - acc: 0.1140 - val_loss: 2.3024 - val_acc: 0.1060\n",
            "Epoch 5/10\n",
            " - 2s - loss: 2.3014 - acc: 0.1140 - val_loss: 2.3019 - val_acc: 0.1060\n",
            "Epoch 6/10\n",
            " - 2s - loss: 2.3013 - acc: 0.1140 - val_loss: 2.3025 - val_acc: 0.1060\n",
            "Epoch 7/10\n",
            " - 2s - loss: 2.3014 - acc: 0.1140 - val_loss: 2.3025 - val_acc: 0.1060\n",
            "Epoch 8/10\n",
            " - 2s - loss: 2.3013 - acc: 0.1140 - val_loss: 2.3031 - val_acc: 0.1060\n",
            "Epoch 9/10\n",
            " - 2s - loss: 2.3014 - acc: 0.1138 - val_loss: 2.3022 - val_acc: 0.1060\n",
            "Epoch 10/10\n",
            " - 2s - loss: 2.3012 - acc: 0.1140 - val_loss: 2.3026 - val_acc: 0.1060\n",
            "Train on 48000 samples, validate on 12000 samples\n",
            "Epoch 1/10\n",
            " - 2s - loss: 2.1823 - acc: 0.3502 - val_loss: 1.8933 - val_acc: 0.6038\n",
            "Epoch 2/10\n",
            " - 2s - loss: 1.1795 - acc: 0.7254 - val_loss: 0.6482 - val_acc: 0.8482\n",
            "Epoch 3/10\n",
            " - 2s - loss: 0.5261 - acc: 0.8526 - val_loss: 0.3943 - val_acc: 0.8903\n",
            "Epoch 4/10\n",
            " - 2s - loss: 0.3813 - acc: 0.8901 - val_loss: 0.3458 - val_acc: 0.8978\n",
            "Epoch 5/10\n",
            " - 2s - loss: 0.3226 - acc: 0.9057 - val_loss: 0.2942 - val_acc: 0.9156\n",
            "Epoch 6/10\n",
            " - 2s - loss: 0.2830 - acc: 0.9174 - val_loss: 0.2507 - val_acc: 0.9293\n",
            "Epoch 7/10\n",
            " - 2s - loss: 0.2570 - acc: 0.9244 - val_loss: 0.2506 - val_acc: 0.9264\n",
            "Epoch 8/10\n",
            " - 2s - loss: 0.2353 - acc: 0.9316 - val_loss: 0.2104 - val_acc: 0.9405\n",
            "Epoch 9/10\n",
            " - 2s - loss: 0.2166 - acc: 0.9360 - val_loss: 0.2075 - val_acc: 0.9411\n",
            "Epoch 10/10\n",
            " - 2s - loss: 0.2011 - acc: 0.9410 - val_loss: 0.2054 - val_acc: 0.9410\n"
          ],
          "name": "stdout"
        },
        {
          "output_type": "execute_result",
          "data": {
            "text/plain": [
              "<keras.callbacks.History at 0x7fcb0ef42e48>"
            ]
          },
          "metadata": {
            "tags": []
          },
          "execution_count": 8
        }
      ]
    },
    {
      "metadata": {
        "id": "NEOIF28Yt4H7",
        "colab_type": "text"
      },
      "cell_type": "markdown",
      "source": [
        "**Plot losses:**"
      ]
    },
    {
      "metadata": {
        "id": "a0f9uvK2lb25",
        "colab_type": "code",
        "colab": {
          "base_uri": "https://localhost:8080/",
          "height": 376
        },
        "outputId": "884b2eb7-bd43-4ef9-f9cc-af5dfb96d53a"
      },
      "cell_type": "code",
      "source": [
        "plt.plot(np.arange(len(history_sigmoid.losses)), \n",
        "         history_sigmoid.losses, label = 'sigmoid')\n",
        "plt.plot(np.arange(len(history_relu.losses)),\n",
        "         history_relu.losses, label = 'relu')\n",
        "plt.title('Losses')\n",
        "plt.xlabel('number of batches')\n",
        "plt.ylabel('loss')\n",
        "plt.legend(loc = 1)\n",
        "plt.show()\n",
        "\n",
        "## Losses for sigmoid and ReLU model"
      ],
      "execution_count": 9,
      "outputs": [
        {
          "output_type": "display_data",
          "data": {
            "image/png": "[encoded data removed]",
            "text/plain": [
              "<Figure size 576x396 with 1 Axes>"
            ]
          },
          "metadata": {
            "tags": []
          }
        }
      ]
    },
    {
      "metadata": {
        "id": "LdaEHS3tuDse",
        "colab_type": "text"
      },
      "cell_type": "markdown",
      "source": [
        "**Extract the maximum weights of each model per layer:**"
      ]
    },
    {
      "metadata": {
        "id": "CCXHPb-yoPTW",
        "colab_type": "code",
        "colab": {}
      },
      "cell_type": "code",
      "source": [
        "w_sigmoid = []\n",
        "w_relu = []\n",
        "\n",
        "for i in range(len(model_sigmoid.layers)):\n",
        "  w_sigmoid.append(max(model_sigmoid.layers[i].get_weights()[1]))\n",
        "  w_relu.append(max(model_relu.layers[i].get_weights()[1]))"
      ],
      "execution_count": 0,
      "outputs": []
    },
    {
      "metadata": {
        "id": "J4-LiVcUuJzD",
        "colab_type": "text"
      },
      "cell_type": "markdown",
      "source": [
        "**Plot the weights of both models:**"
      ]
    },
    {
      "metadata": {
        "id": "TzROe_xloueg",
        "colab_type": "code",
        "colab": {
          "base_uri": "https://localhost:8080/",
          "height": 376
        },
        "outputId": "34ed1c13-526f-4907-bb3c-efdc5bd48105"
      },
      "cell_type": "code",
      "source": [
        "fig, ax = plt.subplots()\n",
        "\n",
        "index = np.arange(len(model_sigmoid.layers))\n",
        "bar_width = 0.35\n",
        "\n",
        "plt.bar(index, w_sigmoid, bar_width, label = 'sigmoid', \n",
        "        color = 'b', alpha = 0.4)\n",
        "plt.bar(index + bar_width, w_relu, bar_width, label = 'relu',\n",
        "        color = 'r', alpha = 0.4)\n",
        "plt.title('Weights across layers')\n",
        "plt.xlabel('layer number')\n",
        "plt.ylabel('maximum weight')\n",
        "plt.legend(loc = 0)\n",
        "\n",
        "plt.xticks(index + bar_width / 2, np.arange(8))\n",
        "plt.show()\n",
        "\n",
        "## Maximum weights across layers for sigmoid and ReLU activation\n",
        "## functions"
      ],
      "execution_count": 11,
      "outputs": [
        {
          "output_type": "display_data",
          "data": {
            "image/png": "[encoded data removed]",
            "text/plain": [
              "<Figure size 576x396 with 1 Axes>"
            ]
          },
          "metadata": {
            "tags": []
          }
        }
      ]
    }
  ]
}