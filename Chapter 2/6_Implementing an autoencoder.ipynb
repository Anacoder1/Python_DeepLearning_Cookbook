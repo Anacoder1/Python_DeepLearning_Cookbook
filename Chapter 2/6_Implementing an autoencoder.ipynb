{
  "nbformat": 4,
  "nbformat_minor": 0,
  "metadata": {
    "colab": {
      "name": "6_Implementing an autoencoder.ipynb",
      "version": "0.3.2",
      "provenance": [],
      "collapsed_sections": []
    },
    "kernelspec": {
      "name": "python3",
      "display_name": "Python 3"
    },
    "accelerator": "GPU"
  },
  "cells": [
    {
      "metadata": {
        "id": "oGxmydd-U4Le",
        "colab_type": "text"
      },
      "cell_type": "markdown",
      "source": [
        "**Importing the libraries:**"
      ]
    },
    {
      "metadata": {
        "id": "pJ6nMLqzA8dD",
        "colab_type": "code",
        "outputId": "d32e455b-7e2e-4cf1-f0f9-78b501b407f1",
        "colab": {
          "base_uri": "https://localhost:8080/",
          "height": 35
        }
      },
      "cell_type": "code",
      "source": [
        "import numpy as np\n",
        "import scipy.io\n",
        "from matplotlib import pyplot as plt\n",
        "\n",
        "from keras.models import Sequential\n",
        "from keras.layers import Dense\n",
        "from keras.optimizers import Adam"
      ],
      "execution_count": 1,
      "outputs": [
        {
          "output_type": "stream",
          "text": [
            "Using TensorFlow backend.\n"
          ],
          "name": "stderr"
        }
      ]
    },
    {
      "metadata": {
        "id": "2KKwaGoaU8Wa",
        "colab_type": "text"
      },
      "cell_type": "markdown",
      "source": [
        "**Loading the dataset into the environment:**"
      ]
    },
    {
      "metadata": {
        "id": "n-ePM0iDHnIL",
        "colab_type": "code",
        "outputId": "39376e18-c2f0-4f0e-ab52-e91cd4db83a8",
        "colab": {
          "resources": {
            "http://localhost:8080/nbextensions/google.colab/files.js": {
              "data": "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",
              "ok": true,
              "headers": [
                [
                  "content-type",
                  "application/javascript"
                ]
              ],
              "status": 200,
              "status_text": "OK"
            }
          },
          "base_uri": "https://localhost:8080/",
          "height": 76
        }
      },
      "cell_type": "code",
      "source": [
        "from google.colab import files\n",
        "\n",
        "uploaded = files.upload()\n",
        "\n",
        "# Data can be downloaded at http://ufldl.stanford.edu/housenumbers/"
      ],
      "execution_count": 3,
      "outputs": [
        {
          "output_type": "display_data",
          "data": {
            "text/html": [
              "\n",
              "     <input type=\"file\" id=\"files-c73c06b9-7804-4b50-a7b2-1ec9cab7353c\" name=\"files[]\" multiple disabled />\n",
              "     <output id=\"result-c73c06b9-7804-4b50-a7b2-1ec9cab7353c\">\n",
              "      Upload widget is only available when the cell has been executed in the\n",
              "      current browser session. Please rerun this cell to enable.\n",
              "      </output>\n",
              "      <script src=\"/nbextensions/google.colab/files.js\"></script> "
            ],
            "text/plain": [
              "<IPython.core.display.HTML object>"
            ]
          },
          "metadata": {
            "tags": []
          }
        },
        {
          "output_type": "stream",
          "text": [
            "Saving train_32x32.mat to train_32x32.mat\n"
          ],
          "name": "stdout"
        }
      ]
    },
    {
      "metadata": {
        "id": "wDbMxlyzVDF3",
        "colab_type": "text"
      },
      "cell_type": "markdown",
      "source": [
        "**Extracting the data we need:**"
      ]
    },
    {
      "metadata": {
        "id": "BjX3E2OhD_lG",
        "colab_type": "code",
        "colab": {}
      },
      "cell_type": "code",
      "source": [
        "mat = scipy.io.loadmat('train_32x32.mat')\n",
        "\n",
        "mat = mat['X']\n",
        "b, h, d, n = mat.shape"
      ],
      "execution_count": 0,
      "outputs": []
    },
    {
      "metadata": {
        "id": "nwxZCNVRVG_v",
        "colab_type": "text"
      },
      "cell_type": "markdown",
      "source": [
        "**Preprocessing the data:**"
      ]
    },
    {
      "metadata": {
        "id": "U4ZS43rKF2DL",
        "colab_type": "code",
        "colab": {}
      },
      "cell_type": "code",
      "source": [
        "# Grayscale\n",
        "img_gray = np.zeros(shape = (n, b * h))\n",
        "\n",
        "def rgb2gray(rgb):\n",
        "  return np.dot(rgb[..., :3], [0.299, 0.587, 0.114])\n",
        "\n",
        "for i in range(n):\n",
        "  # Convert to grayscale\n",
        "  img = rgb2gray(mat[:, :, :, i])\n",
        "  img = img.reshape(1, 1024)\n",
        "  img_gray[i, :] = img\n",
        "\n",
        "# Normalize\n",
        "X_train = img_gray / 255."
      ],
      "execution_count": 0,
      "outputs": []
    },
    {
      "metadata": {
        "id": "85LkEuwJVLM9",
        "colab_type": "text"
      },
      "cell_type": "markdown",
      "source": [
        "**Defining the autoencoder network architecture:**"
      ]
    },
    {
      "metadata": {
        "id": "q9PuJJFVMHPy",
        "colab_type": "code",
        "colab": {
          "base_uri": "https://localhost:8080/",
          "height": 91
        },
        "outputId": "d55631b2-d022-41d0-ad51-9042a8c658f4"
      },
      "cell_type": "code",
      "source": [
        "img_size = X_train.shape[1]\n",
        "\n",
        "model = Sequential()\n",
        "model.add(Dense(256, input_dim = img_size, activation = 'relu'))\n",
        "model.add(Dense(128, activation = 'relu'))\n",
        "model.add(Dense(64, activation = 'relu'))\n",
        "model.add(Dense(32, activation = 'relu'))\n",
        "\n",
        "model.add(Dense(64, activation = 'relu'))\n",
        "model.add(Dense(128, activation = 'relu'))\n",
        "model.add(Dense(256, activation = 'relu'))\n",
        "model.add(Dense(img_size, activation = 'sigmoid'))\n",
        "\n",
        "opt = Adam()\n",
        "model.compile(loss = 'binary_crossentropy', optimizer = opt)"
      ],
      "execution_count": 7,
      "outputs": [
        {
          "output_type": "stream",
          "text": [
            "WARNING:tensorflow:From /usr/local/lib/python3.6/dist-packages/tensorflow/python/framework/op_def_library.py:263: colocate_with (from tensorflow.python.framework.ops) is deprecated and will be removed in a future version.\n",
            "Instructions for updating:\n",
            "Colocations handled automatically by placer.\n"
          ],
          "name": "stdout"
        }
      ]
    },
    {
      "metadata": {
        "id": "b_7NUqM8VT9i",
        "colab_type": "text"
      },
      "cell_type": "markdown",
      "source": [
        "**Training the autoencoder:**"
      ]
    },
    {
      "metadata": {
        "id": "NW0ntYNeO1Ib",
        "colab_type": "code",
        "colab": {
          "base_uri": "https://localhost:8080/",
          "height": 3700
        },
        "outputId": "24441ded-3189-4072-dcaf-5819842dc6b0"
      },
      "cell_type": "code",
      "source": [
        "n_epochs = 100\n",
        "batch_size = 512\n",
        "\n",
        "model.fit(X_train, X_train, \n",
        "          epochs = n_epochs, \n",
        "          batch_size = batch_size,\n",
        "          shuffle = True,\n",
        "          validation_split = 0.2)"
      ],
      "execution_count": 8,
      "outputs": [
        {
          "output_type": "stream",
          "text": [
            "WARNING:tensorflow:From /usr/local/lib/python3.6/dist-packages/tensorflow/python/ops/math_ops.py:3066: to_int32 (from tensorflow.python.ops.math_ops) is deprecated and will be removed in a future version.\n",
            "Instructions for updating:\n",
            "Use tf.cast instead.\n",
            "Train on 58605 samples, validate on 14652 samples\n",
            "Epoch 1/100\n",
            "58605/58605 [==============================] - 5s 87us/step - loss: 0.6597 - val_loss: 0.6345\n",
            "Epoch 2/100\n",
            "58605/58605 [==============================] - 2s 37us/step - loss: 0.6295 - val_loss: 0.6258\n",
            "Epoch 3/100\n",
            "58605/58605 [==============================] - 2s 37us/step - loss: 0.6262 - val_loss: 0.6256\n",
            "Epoch 4/100\n",
            "58605/58605 [==============================] - 2s 37us/step - loss: 0.6254 - val_loss: 0.6240\n",
            "Epoch 5/100\n",
            "58605/58605 [==============================] - 2s 38us/step - loss: 0.6243 - val_loss: 0.6235\n",
            "Epoch 6/100\n",
            "58605/58605 [==============================] - 2s 37us/step - loss: 0.6232 - val_loss: 0.6225\n",
            "Epoch 7/100\n",
            "58605/58605 [==============================] - 2s 38us/step - loss: 0.6225 - val_loss: 0.6225\n",
            "Epoch 8/100\n",
            "58605/58605 [==============================] - 2s 38us/step - loss: 0.6215 - val_loss: 0.6209\n",
            "Epoch 9/100\n",
            "58605/58605 [==============================] - 2s 38us/step - loss: 0.6207 - val_loss: 0.6226\n",
            "Epoch 10/100\n",
            "58605/58605 [==============================] - 2s 38us/step - loss: 0.6204 - val_loss: 0.6188\n",
            "Epoch 11/100\n",
            "58605/58605 [==============================] - 2s 38us/step - loss: 0.6191 - val_loss: 0.6185\n",
            "Epoch 12/100\n",
            "58605/58605 [==============================] - 2s 38us/step - loss: 0.6190 - val_loss: 0.6186\n",
            "Epoch 13/100\n",
            "58605/58605 [==============================] - 2s 39us/step - loss: 0.6187 - val_loss: 0.6185\n",
            "Epoch 14/100\n",
            "58605/58605 [==============================] - 2s 38us/step - loss: 0.6182 - val_loss: 0.6178\n",
            "Epoch 15/100\n",
            "58605/58605 [==============================] - 2s 38us/step - loss: 0.6181 - val_loss: 0.6178\n",
            "Epoch 16/100\n",
            "58605/58605 [==============================] - 2s 37us/step - loss: 0.6180 - val_loss: 0.6175\n",
            "Epoch 17/100\n",
            "58605/58605 [==============================] - 2s 38us/step - loss: 0.6179 - val_loss: 0.6174\n",
            "Epoch 18/100\n",
            "58605/58605 [==============================] - 2s 38us/step - loss: 0.6179 - val_loss: 0.6175\n",
            "Epoch 19/100\n",
            "58605/58605 [==============================] - 2s 37us/step - loss: 0.6175 - val_loss: 0.6173\n",
            "Epoch 20/100\n",
            "58605/58605 [==============================] - 2s 38us/step - loss: 0.6173 - val_loss: 0.6170\n",
            "Epoch 21/100\n",
            "58605/58605 [==============================] - 2s 37us/step - loss: 0.6171 - val_loss: 0.6166\n",
            "Epoch 22/100\n",
            "58605/58605 [==============================] - 2s 37us/step - loss: 0.6169 - val_loss: 0.6162\n",
            "Epoch 23/100\n",
            "58605/58605 [==============================] - 2s 38us/step - loss: 0.6166 - val_loss: 0.6162\n",
            "Epoch 24/100\n",
            "58605/58605 [==============================] - 2s 37us/step - loss: 0.6165 - val_loss: 0.6160\n",
            "Epoch 25/100\n",
            "58605/58605 [==============================] - 2s 37us/step - loss: 0.6165 - val_loss: 0.6161\n",
            "Epoch 26/100\n",
            "58605/58605 [==============================] - 2s 37us/step - loss: 0.6164 - val_loss: 0.6165\n",
            "Epoch 27/100\n",
            "58605/58605 [==============================] - 2s 39us/step - loss: 0.6164 - val_loss: 0.6165\n",
            "Epoch 28/100\n",
            "58605/58605 [==============================] - 2s 37us/step - loss: 0.6163 - val_loss: 0.6159\n",
            "Epoch 29/100\n",
            "58605/58605 [==============================] - 2s 38us/step - loss: 0.6160 - val_loss: 0.6155\n",
            "Epoch 30/100\n",
            "58605/58605 [==============================] - 2s 38us/step - loss: 0.6159 - val_loss: 0.6154\n",
            "Epoch 31/100\n",
            "58605/58605 [==============================] - 2s 38us/step - loss: 0.6158 - val_loss: 0.6156\n",
            "Epoch 32/100\n",
            "58605/58605 [==============================] - 2s 37us/step - loss: 0.6157 - val_loss: 0.6153\n",
            "Epoch 33/100\n",
            "58605/58605 [==============================] - 2s 37us/step - loss: 0.6155 - val_loss: 0.6149\n",
            "Epoch 34/100\n",
            "58605/58605 [==============================] - 2s 38us/step - loss: 0.6154 - val_loss: 0.6150\n",
            "Epoch 35/100\n",
            "58605/58605 [==============================] - 2s 37us/step - loss: 0.6153 - val_loss: 0.6155\n",
            "Epoch 36/100\n",
            "58605/58605 [==============================] - 2s 39us/step - loss: 0.6153 - val_loss: 0.6148\n",
            "Epoch 37/100\n",
            "58605/58605 [==============================] - 2s 39us/step - loss: 0.6151 - val_loss: 0.6147\n",
            "Epoch 38/100\n",
            "58605/58605 [==============================] - 2s 38us/step - loss: 0.6150 - val_loss: 0.6151\n",
            "Epoch 39/100\n",
            "58605/58605 [==============================] - 2s 38us/step - loss: 0.6149 - val_loss: 0.6146\n",
            "Epoch 40/100\n",
            "58605/58605 [==============================] - 2s 39us/step - loss: 0.6149 - val_loss: 0.6146\n",
            "Epoch 41/100\n",
            "58605/58605 [==============================] - 2s 40us/step - loss: 0.6146 - val_loss: 0.6142\n",
            "Epoch 42/100\n",
            "58605/58605 [==============================] - 2s 38us/step - loss: 0.6145 - val_loss: 0.6141\n",
            "Epoch 43/100\n",
            "58605/58605 [==============================] - 2s 39us/step - loss: 0.6144 - val_loss: 0.6140\n",
            "Epoch 44/100\n",
            "58605/58605 [==============================] - 2s 38us/step - loss: 0.6144 - val_loss: 0.6141\n",
            "Epoch 45/100\n",
            "58605/58605 [==============================] - 2s 39us/step - loss: 0.6144 - val_loss: 0.6140\n",
            "Epoch 46/100\n",
            "58605/58605 [==============================] - 2s 38us/step - loss: 0.6143 - val_loss: 0.6139\n",
            "Epoch 47/100\n",
            "58605/58605 [==============================] - 2s 38us/step - loss: 0.6143 - val_loss: 0.6140\n",
            "Epoch 48/100\n",
            "58605/58605 [==============================] - 2s 39us/step - loss: 0.6143 - val_loss: 0.6140\n",
            "Epoch 49/100\n",
            "58605/58605 [==============================] - 2s 38us/step - loss: 0.6143 - val_loss: 0.6144\n",
            "Epoch 50/100\n",
            "58605/58605 [==============================] - 2s 38us/step - loss: 0.6142 - val_loss: 0.6137\n",
            "Epoch 51/100\n",
            "58605/58605 [==============================] - 2s 38us/step - loss: 0.6140 - val_loss: 0.6137\n",
            "Epoch 52/100\n",
            "58605/58605 [==============================] - 2s 39us/step - loss: 0.6140 - val_loss: 0.6135\n",
            "Epoch 53/100\n",
            "58605/58605 [==============================] - 2s 39us/step - loss: 0.6139 - val_loss: 0.6136\n",
            "Epoch 54/100\n",
            "58605/58605 [==============================] - 2s 39us/step - loss: 0.6138 - val_loss: 0.6133\n",
            "Epoch 55/100\n",
            "58605/58605 [==============================] - 2s 38us/step - loss: 0.6136 - val_loss: 0.6133\n",
            "Epoch 56/100\n",
            "58605/58605 [==============================] - 2s 38us/step - loss: 0.6136 - val_loss: 0.6133\n",
            "Epoch 57/100\n",
            "58605/58605 [==============================] - 2s 38us/step - loss: 0.6136 - val_loss: 0.6134\n",
            "Epoch 58/100\n",
            "58605/58605 [==============================] - 2s 38us/step - loss: 0.6135 - val_loss: 0.6131\n",
            "Epoch 59/100\n",
            "58605/58605 [==============================] - 2s 38us/step - loss: 0.6135 - val_loss: 0.6132\n",
            "Epoch 60/100\n",
            "58605/58605 [==============================] - 2s 39us/step - loss: 0.6135 - val_loss: 0.6132\n",
            "Epoch 61/100\n",
            "58605/58605 [==============================] - 2s 40us/step - loss: 0.6135 - val_loss: 0.6131\n",
            "Epoch 62/100\n",
            "58605/58605 [==============================] - 2s 38us/step - loss: 0.6134 - val_loss: 0.6132\n",
            "Epoch 63/100\n",
            "58605/58605 [==============================] - 2s 39us/step - loss: 0.6135 - val_loss: 0.6131\n",
            "Epoch 64/100\n",
            "58605/58605 [==============================] - 2s 39us/step - loss: 0.6134 - val_loss: 0.6131\n",
            "Epoch 65/100\n",
            "58605/58605 [==============================] - 2s 40us/step - loss: 0.6134 - val_loss: 0.6130\n",
            "Epoch 66/100\n",
            "58605/58605 [==============================] - 2s 40us/step - loss: 0.6134 - val_loss: 0.6131\n",
            "Epoch 67/100\n",
            "58605/58605 [==============================] - 2s 39us/step - loss: 0.6135 - val_loss: 0.6130\n",
            "Epoch 68/100\n",
            "58605/58605 [==============================] - 2s 40us/step - loss: 0.6134 - val_loss: 0.6129\n",
            "Epoch 69/100\n",
            "58605/58605 [==============================] - 2s 40us/step - loss: 0.6132 - val_loss: 0.6130\n",
            "Epoch 70/100\n",
            "58605/58605 [==============================] - 2s 38us/step - loss: 0.6131 - val_loss: 0.6130\n",
            "Epoch 71/100\n",
            "58605/58605 [==============================] - 2s 38us/step - loss: 0.6131 - val_loss: 0.6128\n",
            "Epoch 72/100\n",
            "58605/58605 [==============================] - 2s 39us/step - loss: 0.6131 - val_loss: 0.6127\n",
            "Epoch 73/100\n",
            "58605/58605 [==============================] - 2s 38us/step - loss: 0.6130 - val_loss: 0.6128\n",
            "Epoch 74/100\n",
            "58605/58605 [==============================] - 2s 39us/step - loss: 0.6130 - val_loss: 0.6129\n",
            "Epoch 75/100\n",
            "58605/58605 [==============================] - 2s 39us/step - loss: 0.6131 - val_loss: 0.6128\n",
            "Epoch 76/100\n",
            "58605/58605 [==============================] - 2s 39us/step - loss: 0.6130 - val_loss: 0.6127\n",
            "Epoch 77/100\n",
            "58605/58605 [==============================] - 2s 39us/step - loss: 0.6130 - val_loss: 0.6125\n",
            "Epoch 78/100\n",
            "58605/58605 [==============================] - 2s 39us/step - loss: 0.6129 - val_loss: 0.6126\n",
            "Epoch 79/100\n",
            "58605/58605 [==============================] - 2s 39us/step - loss: 0.6128 - val_loss: 0.6126\n",
            "Epoch 80/100\n",
            "58605/58605 [==============================] - 2s 38us/step - loss: 0.6127 - val_loss: 0.6124\n",
            "Epoch 81/100\n",
            "58605/58605 [==============================] - 2s 39us/step - loss: 0.6127 - val_loss: 0.6130\n",
            "Epoch 82/100\n",
            "58605/58605 [==============================] - 2s 39us/step - loss: 0.6128 - val_loss: 0.6124\n",
            "Epoch 83/100\n",
            "58605/58605 [==============================] - 2s 39us/step - loss: 0.6127 - val_loss: 0.6123\n",
            "Epoch 84/100\n",
            "58605/58605 [==============================] - 2s 39us/step - loss: 0.6127 - val_loss: 0.6126\n",
            "Epoch 85/100\n",
            "58605/58605 [==============================] - 2s 39us/step - loss: 0.6127 - val_loss: 0.6124\n",
            "Epoch 86/100\n",
            "58605/58605 [==============================] - 2s 39us/step - loss: 0.6127 - val_loss: 0.6124\n",
            "Epoch 87/100\n",
            "58605/58605 [==============================] - 2s 38us/step - loss: 0.6126 - val_loss: 0.6126\n",
            "Epoch 88/100\n",
            "58605/58605 [==============================] - 2s 39us/step - loss: 0.6127 - val_loss: 0.6124\n",
            "Epoch 89/100\n",
            "58605/58605 [==============================] - 2s 39us/step - loss: 0.6126 - val_loss: 0.6124\n",
            "Epoch 90/100\n",
            "58605/58605 [==============================] - 2s 39us/step - loss: 0.6127 - val_loss: 0.6123\n",
            "Epoch 91/100\n",
            "58605/58605 [==============================] - 2s 39us/step - loss: 0.6126 - val_loss: 0.6123\n",
            "Epoch 92/100\n",
            "58605/58605 [==============================] - 2s 39us/step - loss: 0.6126 - val_loss: 0.6124\n",
            "Epoch 93/100\n",
            "58605/58605 [==============================] - 2s 39us/step - loss: 0.6127 - val_loss: 0.6123\n",
            "Epoch 94/100\n",
            "58605/58605 [==============================] - 2s 38us/step - loss: 0.6126 - val_loss: 0.6125\n",
            "Epoch 95/100\n",
            "58605/58605 [==============================] - 2s 39us/step - loss: 0.6126 - val_loss: 0.6123\n",
            "Epoch 96/100\n",
            "58605/58605 [==============================] - 2s 39us/step - loss: 0.6126 - val_loss: 0.6123\n",
            "Epoch 97/100\n",
            "58605/58605 [==============================] - 2s 39us/step - loss: 0.6126 - val_loss: 0.6123\n",
            "Epoch 98/100\n",
            "58605/58605 [==============================] - 2s 40us/step - loss: 0.6126 - val_loss: 0.6124\n",
            "Epoch 99/100\n",
            "58605/58605 [==============================] - 2s 40us/step - loss: 0.6126 - val_loss: 0.6125\n",
            "Epoch 100/100\n",
            "58605/58605 [==============================] - 2s 39us/step - loss: 0.6126 - val_loss: 0.6123\n"
          ],
          "name": "stdout"
        },
        {
          "output_type": "execute_result",
          "data": {
            "text/plain": [
              "<keras.callbacks.History at 0x7f25fee2ea20>"
            ]
          },
          "metadata": {
            "tags": []
          },
          "execution_count": 8
        }
      ]
    },
    {
      "metadata": {
        "id": "fJLqHUtXVbPb",
        "colab_type": "text"
      },
      "cell_type": "markdown",
      "source": [
        "**Predicting on the training set:**"
      ]
    },
    {
      "metadata": {
        "id": "fsazFdbAP4ec",
        "colab_type": "code",
        "colab": {}
      },
      "cell_type": "code",
      "source": [
        "pred = model.predict(X_train)"
      ],
      "execution_count": 0,
      "outputs": []
    },
    {
      "metadata": {
        "id": "c5X2GnbxVi-_",
        "colab_type": "text"
      },
      "cell_type": "markdown",
      "source": [
        "**Plotting some of the original images and their decoded versions:**"
      ]
    },
    {
      "metadata": {
        "id": "girhzsIUQ6N6",
        "colab_type": "code",
        "colab": {
          "base_uri": "https://localhost:8080/",
          "height": 342
        },
        "outputId": "39920014-4260-4c10-adc3-863333aa7182"
      },
      "cell_type": "code",
      "source": [
        "n = 5\n",
        "\n",
        "plt.figure(figsize = (15, 5))\n",
        "for i in range(n):\n",
        "  \n",
        "  # Plot original\n",
        "  ax = plt.subplot(2, n, i + 1)\n",
        "  plt.imshow(img_gray[i].reshape(32, 32), cmap = 'gray')\n",
        "  \n",
        "  ax = plt.subplot(2, n, i + 1 + n)\n",
        "  plt.imshow(pred[i].reshape(32, 32), cmap = 'gray')\n",
        "  \n",
        "plt.show()"
      ],
      "execution_count": 10,
      "outputs": [
        {
          "output_type": "display_data",
          "data": {
            "image/png": "[encoded data removed]",
            "text/plain": [
              "<Figure size 1080x360 with 10 Axes>"
            ]
          },
          "metadata": {
            "tags": []
          }
        }
      ]
    }
  ]
}