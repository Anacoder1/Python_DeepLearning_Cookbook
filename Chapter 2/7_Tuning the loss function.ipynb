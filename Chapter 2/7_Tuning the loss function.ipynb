{
  "nbformat": 4,
  "nbformat_minor": 0,
  "metadata": {
    "colab": {
      "name": "7_Tuning the loss function.ipynb",
      "version": "0.3.2",
      "provenance": [],
      "collapsed_sections": []
    },
    "kernelspec": {
      "name": "python3",
      "display_name": "Python 3"
    },
    "accelerator": "GPU"
  },
  "cells": [
    {
      "metadata": {
        "id": "IDHbtY31zvZO",
        "colab_type": "text"
      },
      "cell_type": "markdown",
      "source": [
        "**Importing the libraries:**"
      ]
    },
    {
      "metadata": {
        "id": "eOpqqvh8mgim",
        "colab_type": "code",
        "colab": {}
      },
      "cell_type": "code",
      "source": [
        "import numpy as np\n",
        "from matplotlib import pyplot as plt\n",
        "\n",
        "from sklearn.metrics import confusion_matrix\n",
        "\n",
        "from keras.datasets import mnist\n",
        "from keras.models import Sequential\n",
        "from keras.layers import Dense, Dropout\n",
        "from keras.optimizers import Adam\n",
        "from keras.callbacks import EarlyStopping"
      ],
      "execution_count": 0,
      "outputs": []
    },
    {
      "metadata": {
        "id": "BVhlMEcIzyUk",
        "colab_type": "text"
      },
      "cell_type": "markdown",
      "source": [
        "**Creating training and test data from main dataset:**"
      ]
    },
    {
      "metadata": {
        "id": "OsjDcmEMrI5S",
        "colab_type": "code",
        "colab": {
          "base_uri": "https://localhost:8080/",
          "height": 53
        },
        "outputId": "4d04e845-9dd7-46aa-f2e3-1e956ce72460"
      },
      "cell_type": "code",
      "source": [
        "(X_train, y_train), (X_test, y_test) = mnist.load_data()\n",
        "\n",
        "# Extract all 9s and 100 examples of 4s\n",
        "y_train_9 = y_train[y_train == 9]\n",
        "y_train_4 = y_train[y_train == 4][:100]\n",
        "X_train_9 = X_train[y_train == 9]\n",
        "X_train_4 = X_train[y_train == 4][:100]\n",
        "X_train = np.concatenate((X_train_9, X_train_4), axis = 0)\n",
        "y_train = np.concatenate((y_train_9, y_train_4), axis = 0)\n",
        "\n",
        "y_test_9 = y_test[y_test == 9]\n",
        "y_test_4 = y_test[y_test == 4]\n",
        "X_test_9 = X_test[y_test == 9]\n",
        "X_test_4 = X_test[y_test == 4]\n",
        "X_test = np.concatenate((X_test_9, X_test_4), axis = 0)\n",
        "y_test = np.concatenate((y_test_9, y_test_4), axis = 0)"
      ],
      "execution_count": 3,
      "outputs": [
        {
          "output_type": "stream",
          "text": [
            "Downloading data from https://s3.amazonaws.com/img-datasets/mnist.npz\n",
            "11493376/11490434 [==============================] - 0s 0us/step\n"
          ],
          "name": "stdout"
        }
      ]
    },
    {
      "metadata": {
        "id": "Z7ZIobodz4iW",
        "colab_type": "text"
      },
      "cell_type": "markdown",
      "source": [
        "**Normalizing the training and testing data:**"
      ]
    },
    {
      "metadata": {
        "id": "c_uA0guAtn2b",
        "colab_type": "code",
        "colab": {}
      },
      "cell_type": "code",
      "source": [
        "X_train = X_train.astype('float32') / 255.\n",
        "X_test = X_test.astype('float32') / 255\n",
        "\n",
        "X_train = X_train.reshape(len(X_train), np.prod(X_train.shape[1:]))\n",
        "X_test = X_test.reshape(len(X_test), np.prod(X_test.shape[1:]))"
      ],
      "execution_count": 0,
      "outputs": []
    },
    {
      "metadata": {
        "id": "8pN54EVCz99C",
        "colab_type": "text"
      },
      "cell_type": "markdown",
      "source": [
        "**Viewing the testing data dimensions:**"
      ]
    },
    {
      "metadata": {
        "id": "8iWfOVChvG0G",
        "colab_type": "code",
        "colab": {
          "base_uri": "https://localhost:8080/",
          "height": 35
        },
        "outputId": "9dfae67c-ccca-44a6-d7cd-87de7b8086c5"
      },
      "cell_type": "code",
      "source": [
        "X_test.shape"
      ],
      "execution_count": 5,
      "outputs": [
        {
          "output_type": "execute_result",
          "data": {
            "text/plain": [
              "(1991, 784)"
            ]
          },
          "metadata": {
            "tags": []
          },
          "execution_count": 5
        }
      ]
    },
    {
      "metadata": {
        "id": "mMnUQkFD0Cju",
        "colab_type": "text"
      },
      "cell_type": "markdown",
      "source": [
        "**Creating binary training and testing labels, and printing unique values of binary training labels:**"
      ]
    },
    {
      "metadata": {
        "id": "QW_4eHR1vI-p",
        "colab_type": "code",
        "colab": {
          "base_uri": "https://localhost:8080/",
          "height": 35
        },
        "outputId": "6073f6f3-0d67-4a0c-b6cd-a16f00bcfd33"
      },
      "cell_type": "code",
      "source": [
        "y_train_binary = y_train == 9\n",
        "y_test_binary = y_test == 9\n",
        "\n",
        "print(np.unique(y_train_binary, return_counts = True))"
      ],
      "execution_count": 6,
      "outputs": [
        {
          "output_type": "stream",
          "text": [
            "(array([False,  True]), array([ 100, 5949]))\n"
          ],
          "name": "stdout"
        }
      ]
    },
    {
      "metadata": {
        "id": "ipKDCOlo0Npf",
        "colab_type": "text"
      },
      "cell_type": "markdown",
      "source": [
        "**Building the model:**"
      ]
    },
    {
      "metadata": {
        "id": "vnby92FtvbQ6",
        "colab_type": "code",
        "colab": {
          "base_uri": "https://localhost:8080/",
          "height": 144
        },
        "outputId": "3ccfe43d-c3b7-4699-b627-165f4ac4de1d"
      },
      "cell_type": "code",
      "source": [
        "model = Sequential()\n",
        "\n",
        "model.add(Dense(512, input_dim = X_train.shape[1], \n",
        "                activation = 'relu'))\n",
        "model.add(Dropout(0.75))\n",
        "model.add(Dense(512, activation = 'relu'))\n",
        "model.add(Dropout(0.75))\n",
        "model.add(Dense(128, activation = 'relu'))\n",
        "model.add(Dropout(0.75))\n",
        "model.add(Dense(128, activation = 'relu'))\n",
        "model.add(Dense(1, activation = 'sigmoid'))\n",
        "\n",
        "opt = Adam()\n",
        "\n",
        "model.compile(loss = 'binary_crossentropy', optimizer = opt,\n",
        "              metrics = ['binary_accuracy'])"
      ],
      "execution_count": 7,
      "outputs": [
        {
          "output_type": "stream",
          "text": [
            "WARNING:tensorflow:From /usr/local/lib/python3.6/dist-packages/tensorflow/python/framework/op_def_library.py:263: colocate_with (from tensorflow.python.framework.ops) is deprecated and will be removed in a future version.\n",
            "Instructions for updating:\n",
            "Colocations handled automatically by placer.\n",
            "WARNING:tensorflow:From /usr/local/lib/python3.6/dist-packages/keras/backend/tensorflow_backend.py:3445: calling dropout (from tensorflow.python.ops.nn_ops) with keep_prob is deprecated and will be removed in a future version.\n",
            "Instructions for updating:\n",
            "Please use `rate` instead of `keep_prob`. Rate should be set to `rate = 1 - keep_prob`.\n"
          ],
          "name": "stdout"
        }
      ]
    },
    {
      "metadata": {
        "id": "wFav1RdV0R8W",
        "colab_type": "text"
      },
      "cell_type": "markdown",
      "source": [
        "**Defining the callback function**"
      ]
    },
    {
      "metadata": {
        "id": "4O7Nr-AUwPO9",
        "colab_type": "code",
        "colab": {}
      },
      "cell_type": "code",
      "source": [
        "callbacks = [EarlyStopping(monitor = 'val_loss', patience = 5)]"
      ],
      "execution_count": 0,
      "outputs": []
    },
    {
      "metadata": {
        "id": "gdjbd9aczXZ8",
        "colab_type": "text"
      },
      "cell_type": "markdown",
      "source": [
        "**Define the loss weights per class:**"
      ]
    },
    {
      "metadata": {
        "id": "GepXU8E_wXTo",
        "colab_type": "code",
        "colab": {}
      },
      "cell_type": "code",
      "source": [
        "class_weight_equal = {False: 1., True: 1}\n",
        "class_weight_imbalanced = {False: 100, True: 1}"
      ],
      "execution_count": 0,
      "outputs": []
    },
    {
      "metadata": {
        "id": "4FuVJ4w_zaN-",
        "colab_type": "text"
      },
      "cell_type": "markdown",
      "source": [
        "**Train the model with equal weights for both classes:**"
      ]
    },
    {
      "metadata": {
        "id": "o0H5Z8-qxDV-",
        "colab_type": "code",
        "colab": {
          "base_uri": "https://localhost:8080/",
          "height": 108
        },
        "outputId": "5d9309d6-f59a-40f1-a5af-0bd0b3f5abed"
      },
      "cell_type": "code",
      "source": [
        "n_epochs = 1000\n",
        "batch_size = 512\n",
        "validation_split = 0.01\n",
        "\n",
        "model.fit(X_train, y_train_binary, epochs = n_epochs,\n",
        "          batch_size = batch_size, shuffle = True,\n",
        "          validation_split = validation_split,\n",
        "          class_weight = class_weight_equal,\n",
        "          callbacks = callbacks,\n",
        "          verbose = 0)"
      ],
      "execution_count": 10,
      "outputs": [
        {
          "output_type": "stream",
          "text": [
            "WARNING:tensorflow:From /usr/local/lib/python3.6/dist-packages/tensorflow/python/ops/math_ops.py:3066: to_int32 (from tensorflow.python.ops.math_ops) is deprecated and will be removed in a future version.\n",
            "Instructions for updating:\n",
            "Use tf.cast instead.\n"
          ],
          "name": "stdout"
        },
        {
          "output_type": "execute_result",
          "data": {
            "text/plain": [
              "<keras.callbacks.History at 0x7fa3ade29a20>"
            ]
          },
          "metadata": {
            "tags": []
          },
          "execution_count": 10
        }
      ]
    },
    {
      "metadata": {
        "id": "PJr34hDhzhmz",
        "colab_type": "text"
      },
      "cell_type": "markdown",
      "source": [
        "**Test on the test set and output the confusion matrix:**"
      ]
    },
    {
      "metadata": {
        "id": "QMD5UUVLxkIS",
        "colab_type": "code",
        "colab": {
          "base_uri": "https://localhost:8080/",
          "height": 53
        },
        "outputId": "0d4f6bac-cb5b-4426-ca05-2a37e6cfca1d"
      },
      "cell_type": "code",
      "source": [
        "preds_equal = model.predict(X_test)\n",
        "\n",
        "confusion_matrix(y_test_binary, np.round(preds_equal),\n",
        "                 labels = [True, False])"
      ],
      "execution_count": 11,
      "outputs": [
        {
          "output_type": "execute_result",
          "data": {
            "text/plain": [
              "array([[1009,    0],\n",
              "       [ 982,    0]])"
            ]
          },
          "metadata": {
            "tags": []
          },
          "execution_count": 11
        }
      ]
    },
    {
      "metadata": {
        "id": "egvku3igznSd",
        "colab_type": "text"
      },
      "cell_type": "markdown",
      "source": [
        "**Next, we train with imbalanced weights and test on the test set:**"
      ]
    },
    {
      "metadata": {
        "id": "LxmEnEpXx4qJ",
        "colab_type": "code",
        "colab": {
          "base_uri": "https://localhost:8080/",
          "height": 53
        },
        "outputId": "29872a94-63be-4e45-e81c-a03e712d89a8"
      },
      "cell_type": "code",
      "source": [
        "model.compile(loss = 'binary_crossentropy', \n",
        "              optimizer = 'rmsprop',\n",
        "              metrics = ['binary_accuracy'])\n",
        "\n",
        "model.fit(X_train, y_train_binary, \n",
        "          epochs = n_epochs,\n",
        "          batch_size = batch_size, \n",
        "          shuffle = True,\n",
        "          validation_split = validation_split,\n",
        "          class_weight = class_weight_imbalanced,\n",
        "          callbacks = callbacks,\n",
        "          verbose = 0)\n",
        "\n",
        "preds_imbalanced = model.predict(X_test)\n",
        "\n",
        "confusion_matrix(y_test_binary, np.round(preds_imbalanced),\n",
        "                 labels = [True, False])"
      ],
      "execution_count": 12,
      "outputs": [
        {
          "output_type": "execute_result",
          "data": {
            "text/plain": [
              "array([[1009,    0],\n",
              "       [ 482,  500]])"
            ]
          },
          "metadata": {
            "tags": []
          },
          "execution_count": 12
        }
      ]
    }
  ]
}