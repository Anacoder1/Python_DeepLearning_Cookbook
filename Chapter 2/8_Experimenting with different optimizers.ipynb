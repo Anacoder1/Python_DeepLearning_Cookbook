{
  "nbformat": 4,
  "nbformat_minor": 0,
  "metadata": {
    "colab": {
      "name": "8_Experimenting with different optimizers.ipynb",
      "version": "0.3.2",
      "provenance": [],
      "collapsed_sections": []
    },
    "kernelspec": {
      "name": "python3",
      "display_name": "Python 3"
    },
    "accelerator": "GPU"
  },
  "cells": [
    {
      "metadata": {
        "id": "VGHce1g9Amrq",
        "colab_type": "text"
      },
      "cell_type": "markdown",
      "source": [
        "**Load the libraries:**"
      ]
    },
    {
      "metadata": {
        "id": "rKx53ozS2J-F",
        "colab_type": "code",
        "colab": {
          "base_uri": "https://localhost:8080/",
          "height": 35
        },
        "outputId": "2a4b19a5-8403-4079-ca0e-3e74c0b63850"
      },
      "cell_type": "code",
      "source": [
        "import numpy as np\n",
        "import pandas as pd\n",
        "\n",
        "from sklearn.model_selection import train_test_split\n",
        "\n",
        "from keras.models import Sequential\n",
        "from keras.layers import Dense, Dropout\n",
        "from keras.callbacks import EarlyStopping, ModelCheckpoint\n",
        "from keras.optimizers import SGD, Adadelta, Adam, RMSprop, Adagrad, Nadam, Adamax\n",
        "\n",
        "SEED = 2017"
      ],
      "execution_count": 1,
      "outputs": [
        {
          "output_type": "stream",
          "text": [
            "Using TensorFlow backend.\n"
          ],
          "name": "stderr"
        }
      ]
    },
    {
      "metadata": {
        "id": "Lg92SZ2uAqQa",
        "colab_type": "text"
      },
      "cell_type": "markdown",
      "source": [
        "**Import the dataset and extract the target variable:**"
      ]
    },
    {
      "metadata": {
        "id": "ctM-w4173-wc",
        "colab_type": "code",
        "colab": {}
      },
      "cell_type": "code",
      "source": [
        "data = pd.read_csv('https://archive.ics.uci.edu/ml/machine-learning-databases/wine-quality/winequality-red.csv',\n",
        "                   sep = ';')\n",
        "\n",
        "y = data['quality']\n",
        "X = data.drop(['quality'], axis = 1)"
      ],
      "execution_count": 0,
      "outputs": []
    },
    {
      "metadata": {
        "id": "ml0-HD61Auzt",
        "colab_type": "text"
      },
      "cell_type": "markdown",
      "source": [
        "**Split the dataset for training, validation and testing:**"
      ]
    },
    {
      "metadata": {
        "id": "trUOHBgU4V9P",
        "colab_type": "code",
        "colab": {}
      },
      "cell_type": "code",
      "source": [
        "X_train, X_test, y_train, y_test = train_test_split(X, y, \n",
        "                                                    test_size = 0.2,\n",
        "                                                    random_state = SEED)\n",
        "\n",
        "X_train, X_val, y_train, y_val = train_test_split(X_train, y_train,\n",
        "                                                  test_size = 0.2,\n",
        "                                                  random_state = SEED)"
      ],
      "execution_count": 0,
      "outputs": []
    },
    {
      "metadata": {
        "id": "rGS__L90A2Ub",
        "colab_type": "text"
      },
      "cell_type": "markdown",
      "source": [
        "**Define a function that creates the model:**"
      ]
    },
    {
      "metadata": {
        "id": "lUjvEm-Y48fH",
        "colab_type": "code",
        "colab": {}
      },
      "cell_type": "code",
      "source": [
        "def create_model(opt):\n",
        "  model = Sequential()\n",
        "  model.add(Dense(100, input_dim = X_train.shape[1],\n",
        "                  activation = 'relu'))\n",
        "  model.add(Dense(50, activation = 'relu'))\n",
        "  model.add(Dense(25, activation = 'relu'))\n",
        "  model.add(Dense(10, activation = 'relu'))\n",
        "  model.add(Dense(1, activation = 'linear'))\n",
        "  return model"
      ],
      "execution_count": 0,
      "outputs": []
    },
    {
      "metadata": {
        "id": "AQf0fCKeA79F",
        "colab_type": "text"
      },
      "cell_type": "markdown",
      "source": [
        "**Create a function that defines callbacks we will be using during training:**"
      ]
    },
    {
      "metadata": {
        "id": "v_J1sftE5cdI",
        "colab_type": "code",
        "colab": {}
      },
      "cell_type": "code",
      "source": [
        "def create_callbacks(opt):\n",
        "  callbacks = [\n",
        "      EarlyStopping(monitor = 'val_acc', patience = 200,\n",
        "                    verbose = 2),\n",
        "      ModelCheckpoint('optimizers_best_' + opt + '.h5',\n",
        "                      monitor = 'val_acc',\n",
        "                      save_best_only = True,\n",
        "                      verbose = 0)\n",
        "  ]\n",
        "  return callbacks"
      ],
      "execution_count": 0,
      "outputs": []
    },
    {
      "metadata": {
        "id": "c5KheFvmBqIC",
        "colab_type": "text"
      },
      "cell_type": "markdown",
      "source": [
        "**Create a dict of the optimizers we want to try:**"
      ]
    },
    {
      "metadata": {
        "id": "_Lg8xWfU6dqg",
        "colab_type": "code",
        "colab": {
          "base_uri": "https://localhost:8080/",
          "height": 91
        },
        "outputId": "c5e2f1ab-883c-4bfa-ab93-2cc3d01c4a81"
      },
      "cell_type": "code",
      "source": [
        "opts = dict({\n",
        "    'sgd': SGD(),\n",
        "    'sgd-0001': SGD(lr = 0.0001, decay = 0.00001),\n",
        "    'adam': Adam(),\n",
        "    'adadelta': Adadelta(),\n",
        "    'rmsprop': RMSprop(),\n",
        "    'rmsprop-0001': RMSprop(lr = 0.0001),\n",
        "    'nadam': Nadam(),\n",
        "    'adamax': Adamax()\n",
        "})"
      ],
      "execution_count": 7,
      "outputs": [
        {
          "output_type": "stream",
          "text": [
            "WARNING:tensorflow:From /usr/local/lib/python3.6/dist-packages/tensorflow/python/framework/op_def_library.py:263: colocate_with (from tensorflow.python.framework.ops) is deprecated and will be removed in a future version.\n",
            "Instructions for updating:\n",
            "Colocations handled automatically by placer.\n"
          ],
          "name": "stdout"
        }
      ]
    },
    {
      "metadata": {
        "id": "k90QFbX1BvBQ",
        "colab_type": "text"
      },
      "cell_type": "markdown",
      "source": [
        "**Train our networks and store results:**"
      ]
    },
    {
      "metadata": {
        "id": "BfhPiVuT8LcJ",
        "colab_type": "code",
        "colab": {
          "base_uri": "https://localhost:8080/",
          "height": 160
        },
        "outputId": "a2e798ca-9ad1-45d9-c3b6-a57b2dc820a9"
      },
      "cell_type": "code",
      "source": [
        "batch_size = 128\n",
        "n_epochs = 1000\n",
        "\n",
        "results = []\n",
        "\n",
        "# Loop through the optimizers\n",
        "for opt in opts:\n",
        "  model = create_model(opt)\n",
        "  callbacks = create_callbacks(opt)\n",
        "  model.compile(loss = 'mse', \n",
        "                optimizer = opts[opt],\n",
        "                metrics = ['accuracy'])\n",
        "  hist = model.fit(X_train.values, y_train, \n",
        "                   batch_size = batch_size,\n",
        "                   epochs = n_epochs,\n",
        "                   validation_data = (X_val.values, y_val),\n",
        "                   verbose = 0,\n",
        "                   callbacks = callbacks)\n",
        "  \n",
        "  best_epoch = np.argmax(hist.history['val_acc'])\n",
        "  best_acc = hist.history['val_acc'][best_epoch]\n",
        "  best_model = create_model(opt)\n",
        "  \n",
        "  # Load the model weights with the highest validation accuracy\n",
        "  best_model.load_weights('optimizers_best_' + opt + '.h5')\n",
        "  best_model.compile(loss = 'mse',\n",
        "                     optimizer = opts[opt],\n",
        "                     metrics = ['accuracy'])\n",
        "  score = best_model.evaluate(X_test.values, y_test, verbose = 0)\n",
        "  results.append([opt, best_epoch, best_acc, score[1]])"
      ],
      "execution_count": 9,
      "outputs": [
        {
          "output_type": "stream",
          "text": [
            "Epoch 00201: early stopping\n",
            "Epoch 00414: early stopping\n",
            "Epoch 00625: early stopping\n",
            "Epoch 00373: early stopping\n",
            "Epoch 00413: early stopping\n",
            "Epoch 00230: early stopping\n",
            "Epoch 00269: early stopping\n",
            "Epoch 00424: early stopping\n"
          ],
          "name": "stdout"
        }
      ]
    },
    {
      "metadata": {
        "id": "D3FAE0X7B5uD",
        "colab_type": "text"
      },
      "cell_type": "markdown",
      "source": [
        "**Compare the results:**"
      ]
    },
    {
      "metadata": {
        "id": "DqDTl_g9-N69",
        "colab_type": "code",
        "colab": {
          "base_uri": "https://localhost:8080/",
          "height": 300
        },
        "outputId": "073c60ad-c678-4865-93c1-15fbcc92d972"
      },
      "cell_type": "code",
      "source": [
        "res = pd.DataFrame(results)\n",
        "\n",
        "res.columns = ['optimizer', 'epochs', 'val_accuracy', 'test_accuracy']\n",
        "res"
      ],
      "execution_count": 10,
      "outputs": [
        {
          "output_type": "execute_result",
          "data": {
            "text/html": [
              "<div>\n",
              "<style scoped>\n",
              "    .dataframe tbody tr th:only-of-type {\n",
              "        vertical-align: middle;\n",
              "    }\n",
              "\n",
              "    .dataframe tbody tr th {\n",
              "        vertical-align: top;\n",
              "    }\n",
              "\n",
              "    .dataframe thead th {\n",
              "        text-align: right;\n",
              "    }\n",
              "</style>\n",
              "<table border=\"1\" class=\"dataframe\">\n",
              "  <thead>\n",
              "    <tr style=\"text-align: right;\">\n",
              "      <th></th>\n",
              "      <th>optimizer</th>\n",
              "      <th>epochs</th>\n",
              "      <th>val_accuracy</th>\n",
              "      <th>test_accuracy</th>\n",
              "    </tr>\n",
              "  </thead>\n",
              "  <tbody>\n",
              "    <tr>\n",
              "      <th>0</th>\n",
              "      <td>sgd</td>\n",
              "      <td>0</td>\n",
              "      <td>0.000000</td>\n",
              "      <td>0.000000</td>\n",
              "    </tr>\n",
              "    <tr>\n",
              "      <th>1</th>\n",
              "      <td>sgd-0001</td>\n",
              "      <td>213</td>\n",
              "      <td>0.562500</td>\n",
              "      <td>0.606250</td>\n",
              "    </tr>\n",
              "    <tr>\n",
              "      <th>2</th>\n",
              "      <td>adam</td>\n",
              "      <td>424</td>\n",
              "      <td>0.566406</td>\n",
              "      <td>0.621875</td>\n",
              "    </tr>\n",
              "    <tr>\n",
              "      <th>3</th>\n",
              "      <td>adadelta</td>\n",
              "      <td>172</td>\n",
              "      <td>0.566406</td>\n",
              "      <td>0.546875</td>\n",
              "    </tr>\n",
              "    <tr>\n",
              "      <th>4</th>\n",
              "      <td>rmsprop</td>\n",
              "      <td>212</td>\n",
              "      <td>0.582031</td>\n",
              "      <td>0.581250</td>\n",
              "    </tr>\n",
              "    <tr>\n",
              "      <th>5</th>\n",
              "      <td>rmsprop-0001</td>\n",
              "      <td>29</td>\n",
              "      <td>0.558594</td>\n",
              "      <td>0.571875</td>\n",
              "    </tr>\n",
              "    <tr>\n",
              "      <th>6</th>\n",
              "      <td>nadam</td>\n",
              "      <td>68</td>\n",
              "      <td>0.578125</td>\n",
              "      <td>0.581250</td>\n",
              "    </tr>\n",
              "    <tr>\n",
              "      <th>7</th>\n",
              "      <td>adamax</td>\n",
              "      <td>223</td>\n",
              "      <td>0.593750</td>\n",
              "      <td>0.581250</td>\n",
              "    </tr>\n",
              "  </tbody>\n",
              "</table>\n",
              "</div>"
            ],
            "text/plain": [
              "      optimizer  epochs  val_accuracy  test_accuracy\n",
              "0           sgd       0      0.000000       0.000000\n",
              "1      sgd-0001     213      0.562500       0.606250\n",
              "2          adam     424      0.566406       0.621875\n",
              "3      adadelta     172      0.566406       0.546875\n",
              "4       rmsprop     212      0.582031       0.581250\n",
              "5  rmsprop-0001      29      0.558594       0.571875\n",
              "6         nadam      68      0.578125       0.581250\n",
              "7        adamax     223      0.593750       0.581250"
            ]
          },
          "metadata": {
            "tags": []
          },
          "execution_count": 10
        }
      ]
    }
  ]
}