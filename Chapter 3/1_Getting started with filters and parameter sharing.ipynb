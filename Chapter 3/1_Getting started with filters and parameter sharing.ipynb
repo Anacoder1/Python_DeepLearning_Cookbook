{
  "nbformat": 4,
  "nbformat_minor": 0,
  "metadata": {
    "colab": {
      "name": "1_Getting started with filters and parameter sharing.ipynb",
      "version": "0.3.2",
      "provenance": [],
      "collapsed_sections": []
    },
    "kernelspec": {
      "name": "python3",
      "display_name": "Python 3"
    },
    "accelerator": "GPU"
  },
  "cells": [
    {
      "metadata": {
        "id": "s0YAJ1oztQkK",
        "colab_type": "text"
      },
      "cell_type": "markdown",
      "source": [
        "**Importing the necessary libraries:**"
      ]
    },
    {
      "metadata": {
        "id": "0jt_O4zQixlb",
        "colab_type": "code",
        "colab": {
          "base_uri": "https://localhost:8080/",
          "height": 35
        },
        "outputId": "fce96cdd-abfd-4f37-aa83-c16a51261a66"
      },
      "cell_type": "code",
      "source": [
        "import numpy as np\n",
        "from matplotlib import pyplot as plt\n",
        "\n",
        "from keras.utils.np_utils import to_categorical\n",
        "from keras.models import Sequential\n",
        "from keras.layers.core import Dense, Dropout, Flatten\n",
        "from keras.layers import Conv2D\n",
        "from keras.callbacks import EarlyStopping\n",
        "from keras.datasets import mnist"
      ],
      "execution_count": 1,
      "outputs": [
        {
          "output_type": "stream",
          "text": [
            "Using TensorFlow backend.\n"
          ],
          "name": "stderr"
        }
      ]
    },
    {
      "metadata": {
        "id": "jryB_MUjtUtm",
        "colab_type": "text"
      },
      "cell_type": "markdown",
      "source": [
        "**Loading the mnist dataset:**"
      ]
    },
    {
      "metadata": {
        "id": "O6SgY4s5sbQ3",
        "colab_type": "code",
        "colab": {
          "base_uri": "https://localhost:8080/",
          "height": 53
        },
        "outputId": "d83df0d1-db31-4588-86a6-ec98a9549c1c"
      },
      "cell_type": "code",
      "source": [
        "(X_train, y_train), (X_test, y_test) = mnist.load_data()"
      ],
      "execution_count": 2,
      "outputs": [
        {
          "output_type": "stream",
          "text": [
            "Downloading data from https://s3.amazonaws.com/img-datasets/mnist.npz\n",
            "11493376/11490434 [==============================] - 9s 1us/step\n"
          ],
          "name": "stdout"
        }
      ]
    },
    {
      "metadata": {
        "id": "9NkoP-FvtYbh",
        "colab_type": "text"
      },
      "cell_type": "markdown",
      "source": [
        "**Reshaping the training data to represent one - channel image input:**"
      ]
    },
    {
      "metadata": {
        "id": "E5sysKFLsn0F",
        "colab_type": "code",
        "colab": {}
      },
      "cell_type": "code",
      "source": [
        "img_rows, img_cols = X_train[0].shape[0], X_train[0].shape[1]\n",
        "\n",
        "X_train = X_train.reshape(X_train.shape[0], img_rows, img_cols, 1)\n",
        "\n",
        "X_test = X_test.reshape(X_test.shape[0], img_rows, img_cols, 1)\n",
        "\n",
        "input_shape = (img_rows, img_cols, 1)"
      ],
      "execution_count": 0,
      "outputs": []
    },
    {
      "metadata": {
        "id": "rWwPzafAtfv0",
        "colab_type": "text"
      },
      "cell_type": "markdown",
      "source": [
        "**Normalizing the input data:**"
      ]
    },
    {
      "metadata": {
        "id": "uP7QTd8as1xx",
        "colab_type": "code",
        "colab": {}
      },
      "cell_type": "code",
      "source": [
        "X_train = X_train.astype('float32') / 255.\n",
        "\n",
        "X_test = X_test.astype('float32') / 255."
      ],
      "execution_count": 0,
      "outputs": []
    },
    {
      "metadata": {
        "id": "JZL9irVGti1V",
        "colab_type": "text"
      },
      "cell_type": "markdown",
      "source": [
        "**One - hot encoding the labels:**"
      ]
    },
    {
      "metadata": {
        "id": "liJa1RjQvTHU",
        "colab_type": "code",
        "colab": {}
      },
      "cell_type": "code",
      "source": [
        "n_classes = len(set(y_train))\n",
        "\n",
        "y_train = to_categorical(y_train, n_classes)\n",
        "y_test = to_categorical(y_test, n_classes)"
      ],
      "execution_count": 0,
      "outputs": []
    },
    {
      "metadata": {
        "id": "P4HHRSW8tsWk",
        "colab_type": "text"
      },
      "cell_type": "markdown",
      "source": [
        "**Defining the CNN architecture:**"
      ]
    },
    {
      "metadata": {
        "id": "Wj0DAFe5vrVw",
        "colab_type": "code",
        "colab": {
          "base_uri": "https://localhost:8080/",
          "height": 144
        },
        "outputId": "4c1bafe0-5026-4c3a-eb27-fdee6435235c"
      },
      "cell_type": "code",
      "source": [
        "model = Sequential()\n",
        "\n",
        "model.add(Conv2D(64, kernel_size = (3, 3), activation = 'relu',\n",
        "                 input_shape = input_shape))\n",
        "model.add(Conv2D(128, kernel_size = (3, 3), activation = 'relu'))\n",
        "model.add(Conv2D(256, kernel_size = (3, 3), activation = 'relu'))\n",
        "model.add(Dropout(0.5))\n",
        "model.add(Flatten())\n",
        "model.add(Dense(128, activation = 'relu'))\n",
        "model.add(Dropout(0.5))\n",
        "model.add(Dense(n_classes, activation = 'softmax'))\n",
        "\n",
        "model.compile(loss = 'categorical_crossentropy',\n",
        "              optimizer = 'adam',\n",
        "              metrics = ['accuracy'])"
      ],
      "execution_count": 6,
      "outputs": [
        {
          "output_type": "stream",
          "text": [
            "WARNING:tensorflow:From /usr/local/lib/python3.6/dist-packages/tensorflow/python/framework/op_def_library.py:263: colocate_with (from tensorflow.python.framework.ops) is deprecated and will be removed in a future version.\n",
            "Instructions for updating:\n",
            "Colocations handled automatically by placer.\n",
            "WARNING:tensorflow:From /usr/local/lib/python3.6/dist-packages/keras/backend/tensorflow_backend.py:3445: calling dropout (from tensorflow.python.ops.nn_ops) with keep_prob is deprecated and will be removed in a future version.\n",
            "Instructions for updating:\n",
            "Please use `rate` instead of `keep_prob`. Rate should be set to `rate = 1 - keep_prob`.\n"
          ],
          "name": "stdout"
        }
      ]
    },
    {
      "metadata": {
        "id": "IsQo9RUpt0gA",
        "colab_type": "text"
      },
      "cell_type": "markdown",
      "source": [
        "**Setting the network hyperparameters:**"
      ]
    },
    {
      "metadata": {
        "id": "UtYTD_6C1fz5",
        "colab_type": "code",
        "colab": {}
      },
      "cell_type": "code",
      "source": [
        "callbacks = [EarlyStopping(monitor = 'val_acc', patience = 5)]"
      ],
      "execution_count": 0,
      "outputs": []
    },
    {
      "metadata": {
        "id": "inCu6hIut4LN",
        "colab_type": "text"
      },
      "cell_type": "markdown",
      "source": [
        "**Training the model:**"
      ]
    },
    {
      "metadata": {
        "id": "fqBNKrRpfioH",
        "colab_type": "code",
        "colab": {
          "base_uri": "https://localhost:8080/",
          "height": 912
        },
        "outputId": "24a6286f-8e4a-461e-c6d5-b06b751184c9"
      },
      "cell_type": "code",
      "source": [
        "n_epochs = 200\n",
        "batch_size = 128\n",
        "\n",
        "model.fit(X_train, y_train, \n",
        "          batch_size = batch_size,\n",
        "          epochs = n_epochs,\n",
        "          verbose = 1,\n",
        "          validation_split = 0.2,\n",
        "          callbacks = callbacks)"
      ],
      "execution_count": 8,
      "outputs": [
        {
          "output_type": "stream",
          "text": [
            "WARNING:tensorflow:From /usr/local/lib/python3.6/dist-packages/tensorflow/python/ops/math_ops.py:3066: to_int32 (from tensorflow.python.ops.math_ops) is deprecated and will be removed in a future version.\n",
            "Instructions for updating:\n",
            "Use tf.cast instead.\n",
            "Train on 48000 samples, validate on 12000 samples\n",
            "Epoch 1/200\n",
            "48000/48000 [==============================] - 46s 948us/step - loss: 0.1986 - acc: 0.9404 - val_loss: 0.0540 - val_acc: 0.9832\n",
            "Epoch 2/200\n",
            "48000/48000 [==============================] - 40s 832us/step - loss: 0.0699 - acc: 0.9794 - val_loss: 0.0439 - val_acc: 0.9880\n",
            "Epoch 3/200\n",
            "48000/48000 [==============================] - 40s 832us/step - loss: 0.0502 - acc: 0.9847 - val_loss: 0.0412 - val_acc: 0.9890\n",
            "Epoch 4/200\n",
            "48000/48000 [==============================] - 40s 831us/step - loss: 0.0406 - acc: 0.9874 - val_loss: 0.0363 - val_acc: 0.9902\n",
            "Epoch 5/200\n",
            "48000/48000 [==============================] - 40s 829us/step - loss: 0.0327 - acc: 0.9901 - val_loss: 0.0344 - val_acc: 0.9912\n",
            "Epoch 6/200\n",
            "48000/48000 [==============================] - 40s 829us/step - loss: 0.0260 - acc: 0.9914 - val_loss: 0.0436 - val_acc: 0.9892\n",
            "Epoch 7/200\n",
            "48000/48000 [==============================] - 40s 828us/step - loss: 0.0250 - acc: 0.9920 - val_loss: 0.0390 - val_acc: 0.9902\n",
            "Epoch 8/200\n",
            "48000/48000 [==============================] - 40s 830us/step - loss: 0.0203 - acc: 0.9933 - val_loss: 0.0351 - val_acc: 0.9914\n",
            "Epoch 9/200\n",
            "48000/48000 [==============================] - 40s 828us/step - loss: 0.0202 - acc: 0.9932 - val_loss: 0.0423 - val_acc: 0.9909\n",
            "Epoch 10/200\n",
            "48000/48000 [==============================] - 40s 825us/step - loss: 0.0177 - acc: 0.9942 - val_loss: 0.0399 - val_acc: 0.9916\n",
            "Epoch 11/200\n",
            "48000/48000 [==============================] - 40s 825us/step - loss: 0.0140 - acc: 0.9956 - val_loss: 0.0439 - val_acc: 0.9916\n",
            "Epoch 12/200\n",
            "48000/48000 [==============================] - 40s 823us/step - loss: 0.0154 - acc: 0.9951 - val_loss: 0.0469 - val_acc: 0.9913\n",
            "Epoch 13/200\n",
            "48000/48000 [==============================] - 40s 824us/step - loss: 0.0131 - acc: 0.9960 - val_loss: 0.0493 - val_acc: 0.9907\n",
            "Epoch 14/200\n",
            "48000/48000 [==============================] - 40s 826us/step - loss: 0.0123 - acc: 0.9962 - val_loss: 0.0460 - val_acc: 0.9904\n",
            "Epoch 15/200\n",
            "48000/48000 [==============================] - 40s 825us/step - loss: 0.0120 - acc: 0.9961 - val_loss: 0.0435 - val_acc: 0.9921\n",
            "Epoch 16/200\n",
            "48000/48000 [==============================] - 40s 825us/step - loss: 0.0129 - acc: 0.9960 - val_loss: 0.0368 - val_acc: 0.9917\n",
            "Epoch 17/200\n",
            "48000/48000 [==============================] - 40s 828us/step - loss: 0.0110 - acc: 0.9965 - val_loss: 0.0406 - val_acc: 0.9925\n",
            "Epoch 18/200\n",
            "48000/48000 [==============================] - 40s 831us/step - loss: 0.0105 - acc: 0.9967 - val_loss: 0.0530 - val_acc: 0.9906\n",
            "Epoch 19/200\n",
            "48000/48000 [==============================] - 40s 828us/step - loss: 0.0119 - acc: 0.9963 - val_loss: 0.0404 - val_acc: 0.9918\n",
            "Epoch 20/200\n",
            "48000/48000 [==============================] - 40s 828us/step - loss: 0.0095 - acc: 0.9969 - val_loss: 0.0453 - val_acc: 0.9920\n",
            "Epoch 21/200\n",
            "48000/48000 [==============================] - 40s 826us/step - loss: 0.0104 - acc: 0.9967 - val_loss: 0.0477 - val_acc: 0.9912\n",
            "Epoch 22/200\n",
            "48000/48000 [==============================] - 40s 827us/step - loss: 0.0084 - acc: 0.9972 - val_loss: 0.0396 - val_acc: 0.9921\n"
          ],
          "name": "stdout"
        },
        {
          "output_type": "execute_result",
          "data": {
            "text/plain": [
              "<keras.callbacks.History at 0x7fad19f91da0>"
            ]
          },
          "metadata": {
            "tags": []
          },
          "execution_count": 8
        }
      ]
    },
    {
      "metadata": {
        "id": "eo6kW2JzuAha",
        "colab_type": "text"
      },
      "cell_type": "markdown",
      "source": [
        "**Showing the results on the test set:**"
      ]
    },
    {
      "metadata": {
        "id": "5fNV0kh8gdhm",
        "colab_type": "code",
        "colab": {
          "base_uri": "https://localhost:8080/",
          "height": 204
        },
        "outputId": "eb26c161-9b4b-43b5-a5c6-63f0bd3c0dc7"
      },
      "cell_type": "code",
      "source": [
        "score = model.evaluate(X_test, y_test, verbose = 0)\n",
        "\n",
        "print('Test loss: ', score[0])\n",
        "print('Test accuracy: ', score[1])\n",
        "\n",
        "# Extract predictions\n",
        "preds = model.predict(X_test)\n",
        "\n",
        "n_examples = 10\n",
        "plt.figure(figsize = (15, 15))\n",
        "for i in range(n_examples):\n",
        "  ax = plt.subplot(2, n_examples, i + 1)\n",
        "  plt.imshow(X_test[i, :, :, 0], cmap = 'gray')\n",
        "  plt.title(\"Label: {}\\nPredicted: {}\".format(np.argmax(y_test[i]),\n",
        "                                              np.argmax(preds[i])))\n",
        "  plt.axis('off')\n",
        "\n",
        "plt.show()\n",
        "\n",
        "# 10 examples of the truth labels, predicted labels, and input image"
      ],
      "execution_count": 11,
      "outputs": [
        {
          "output_type": "stream",
          "text": [
            "Test loss:  0.028865059850092255\n",
            "Test accuracy:  0.9931\n"
          ],
          "name": "stdout"
        },
        {
          "output_type": "display_data",
          "data": {
            "image/png": "[encoded data removed]",
            "text/plain": [
              "<Figure size 1080x1080 with 10 Axes>"
            ]
          },
          "metadata": {
            "tags": []
          }
        }
      ]
    },
    {
      "metadata": {
        "id": "JDKV0ksJuRTs",
        "colab_type": "text"
      },
      "cell_type": "markdown",
      "source": [
        "**Plotting the misclassified images and their labels:**"
      ]
    },
    {
      "metadata": {
        "id": "ryzfN127qkGo",
        "colab_type": "code",
        "colab": {
          "base_uri": "https://localhost:8080/",
          "height": 168
        },
        "outputId": "e9bef42a-87b6-4af5-8d71-91620219f432"
      },
      "cell_type": "code",
      "source": [
        "plt.figure(figsize = (15, 15))\n",
        "\n",
        "j = 1\n",
        "for i in range(len(y_test)):\n",
        "  if(j > 10):\n",
        "    break\n",
        "  label = np.argmax(y_test[i])\n",
        "  pred = np.argmax(preds[i])\n",
        "  if label != pred:\n",
        "    ax = plt.subplot(2, n_examples, j)\n",
        "    plt.imshow(X_test[i, :, :, 0], cmap = 'gray')\n",
        "    plt.title(\"Label: {}\\nPredicted: {}\".format(label, pred))\n",
        "    plt.axis('off')\n",
        "    j += 1\n",
        "plt.show()\n",
        "\n",
        "# 10 examples of misclassified images"
      ],
      "execution_count": 12,
      "outputs": [
        {
          "output_type": "display_data",
          "data": {
            "image/png": "[encoded data removed]",
            "text/plain": [
              "<Figure size 1080x1080 with 10 Axes>"
            ]
          },
          "metadata": {
            "tags": []
          }
        }
      ]
    },
    {
      "metadata": {
        "id": "BjoVQKo-udkJ",
        "colab_type": "code",
        "colab": {}
      },
      "cell_type": "code",
      "source": [
        ""
      ],
      "execution_count": 0,
      "outputs": []
    }
  ]
}