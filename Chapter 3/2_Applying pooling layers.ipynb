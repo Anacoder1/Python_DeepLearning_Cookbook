{
  "nbformat": 4,
  "nbformat_minor": 0,
  "metadata": {
    "colab": {
      "name": "2_Applying pooling layers.ipynb",
      "version": "0.3.2",
      "provenance": [],
      "collapsed_sections": []
    },
    "kernelspec": {
      "name": "python3",
      "display_name": "Python 3"
    },
    "accelerator": "GPU"
  },
  "cells": [
    {
      "metadata": {
        "id": "_Iknien23YZr",
        "colab_type": "text"
      },
      "cell_type": "markdown",
      "source": [
        "**Importing the libraries:**"
      ]
    },
    {
      "metadata": {
        "id": "kbWaJQ-zv8c_",
        "colab_type": "code",
        "colab": {
          "base_uri": "https://localhost:8080/",
          "height": 35
        },
        "outputId": "8a97ca00-893a-4faf-bce1-87e31ef49c5d"
      },
      "cell_type": "code",
      "source": [
        "import numpy as np\n",
        "from matplotlib import pyplot as plt\n",
        "\n",
        "from keras.utils import np_utils\n",
        "from keras.models import Sequential\n",
        "from keras.layers.core import Dense, Dropout, Flatten\n",
        "from keras.callbacks import EarlyStopping, ModelCheckpoint\n",
        "from keras.layers import Conv2D, MaxPooling2D\n",
        "from keras.optimizers import Adam\n",
        "from keras.datasets import mnist"
      ],
      "execution_count": 1,
      "outputs": [
        {
          "output_type": "stream",
          "text": [
            "Using TensorFlow backend.\n"
          ],
          "name": "stderr"
        }
      ]
    },
    {
      "metadata": {
        "id": "cw_arJoB3b5k",
        "colab_type": "text"
      },
      "cell_type": "markdown",
      "source": [
        "**Loading the mnist dataset:**"
      ]
    },
    {
      "metadata": {
        "id": "G7iYglisqdYS",
        "colab_type": "code",
        "colab": {}
      },
      "cell_type": "code",
      "source": [
        "(X_train, y_train), (X_test, y_test) = mnist.load_data()"
      ],
      "execution_count": 0,
      "outputs": []
    },
    {
      "metadata": {
        "id": "YkbvC6qI3eEz",
        "colab_type": "text"
      },
      "cell_type": "markdown",
      "source": [
        "**Reshaping the training data to represent grayscaled image input:**"
      ]
    },
    {
      "metadata": {
        "id": "dm7CUpBaq4ZH",
        "colab_type": "code",
        "colab": {}
      },
      "cell_type": "code",
      "source": [
        "img_rows, img_cols = X_train[0].shape[0], X_train[0].shape[1]\n",
        "\n",
        "X_train = X_train.reshape(X_train.shape[0], img_rows, img_cols, 1)\n",
        "\n",
        "X_test = X_test.reshape(X_test.shape[0], img_rows, img_cols, 1)\n",
        "\n",
        "input_shape = (img_rows, img_cols, 1)"
      ],
      "execution_count": 0,
      "outputs": []
    },
    {
      "metadata": {
        "id": "ZNQ7qaQw3k7C",
        "colab_type": "text"
      },
      "cell_type": "markdown",
      "source": [
        "**Normalizing the input data:**"
      ]
    },
    {
      "metadata": {
        "id": "vw3hEQ6GrZDY",
        "colab_type": "code",
        "colab": {}
      },
      "cell_type": "code",
      "source": [
        "X_train = X_train.astype('float32') /255.\n",
        "X_test = X_test.astype('float32') / 255."
      ],
      "execution_count": 0,
      "outputs": []
    },
    {
      "metadata": {
        "id": "wAgZUOYY3ni3",
        "colab_type": "text"
      },
      "cell_type": "markdown",
      "source": [
        "**One - hot encoding the labels:**"
      ]
    },
    {
      "metadata": {
        "id": "vNClq-dIrhC2",
        "colab_type": "code",
        "colab": {}
      },
      "cell_type": "code",
      "source": [
        "n_classes = len(set(y_train))\n",
        "\n",
        "y_train = np_utils.to_categorical(y_train, n_classes)\n",
        "y_test = np_utils.to_categorical(y_test, n_classes)"
      ],
      "execution_count": 0,
      "outputs": []
    },
    {
      "metadata": {
        "id": "pUnmDy-I35my",
        "colab_type": "text"
      },
      "cell_type": "markdown",
      "source": [
        "**Defining the CNN architecture and outputting the network architecture:**"
      ]
    },
    {
      "metadata": {
        "id": "te8R5dnar6_g",
        "colab_type": "code",
        "colab": {
          "base_uri": "https://localhost:8080/",
          "height": 662
        },
        "outputId": "383ec094-5576-4bf9-f505-63da3d7e8152"
      },
      "cell_type": "code",
      "source": [
        "model = Sequential()\n",
        "\n",
        "model.add(Conv2D(64, kernel_size = (3, 3), activation = 'relu',\n",
        "                 input_shape = input_shape))\n",
        "model.add(MaxPooling2D(pool_size = (2, 2)))\n",
        "\n",
        "model.add(Conv2D(128, kernel_size = (3, 3), activation = 'relu',\n",
        "                 padding = 'same'))\n",
        "model.add(MaxPooling2D(pool_size = (2, 2)))\n",
        "\n",
        "model.add(Conv2D(256, kernel_size = (3, 3), activation = 'relu',\n",
        "                 padding = 'same'))\n",
        "model.add(MaxPooling2D(pool_size = (2, 2)))\n",
        "\n",
        "model.add(Dropout(0.5))\n",
        "model.add(Flatten())\n",
        "model.add(Dense(128, activation = 'relu'))\n",
        "model.add(Dropout(0.5))\n",
        "model.add(Dense(n_classes, activation = 'softmax'))\n",
        "\n",
        "model.compile(loss = ['categorical_crossentropy'],\n",
        "              optimizer = 'adam',\n",
        "              metrics = ['accuracy'])\n",
        "\n",
        "model.summary()"
      ],
      "execution_count": 6,
      "outputs": [
        {
          "output_type": "stream",
          "text": [
            "WARNING:tensorflow:From /usr/local/lib/python3.6/dist-packages/tensorflow/python/framework/op_def_library.py:263: colocate_with (from tensorflow.python.framework.ops) is deprecated and will be removed in a future version.\n",
            "Instructions for updating:\n",
            "Colocations handled automatically by placer.\n",
            "WARNING:tensorflow:From /usr/local/lib/python3.6/dist-packages/keras/backend/tensorflow_backend.py:3445: calling dropout (from tensorflow.python.ops.nn_ops) with keep_prob is deprecated and will be removed in a future version.\n",
            "Instructions for updating:\n",
            "Please use `rate` instead of `keep_prob`. Rate should be set to `rate = 1 - keep_prob`.\n",
            "_________________________________________________________________\n",
            "Layer (type)                 Output Shape              Param #   \n",
            "=================================================================\n",
            "conv2d_1 (Conv2D)            (None, 26, 26, 64)        640       \n",
            "_________________________________________________________________\n",
            "max_pooling2d_1 (MaxPooling2 (None, 13, 13, 64)        0         \n",
            "_________________________________________________________________\n",
            "conv2d_2 (Conv2D)            (None, 13, 13, 128)       73856     \n",
            "_________________________________________________________________\n",
            "max_pooling2d_2 (MaxPooling2 (None, 6, 6, 128)         0         \n",
            "_________________________________________________________________\n",
            "conv2d_3 (Conv2D)            (None, 6, 6, 256)         295168    \n",
            "_________________________________________________________________\n",
            "max_pooling2d_3 (MaxPooling2 (None, 3, 3, 256)         0         \n",
            "_________________________________________________________________\n",
            "dropout_1 (Dropout)          (None, 3, 3, 256)         0         \n",
            "_________________________________________________________________\n",
            "flatten_1 (Flatten)          (None, 2304)              0         \n",
            "_________________________________________________________________\n",
            "dense_1 (Dense)              (None, 128)               295040    \n",
            "_________________________________________________________________\n",
            "dropout_2 (Dropout)          (None, 128)               0         \n",
            "_________________________________________________________________\n",
            "dense_2 (Dense)              (None, 10)                1290      \n",
            "=================================================================\n",
            "Total params: 665,994\n",
            "Trainable params: 665,994\n",
            "Non-trainable params: 0\n",
            "_________________________________________________________________\n"
          ],
          "name": "stdout"
        }
      ]
    },
    {
      "metadata": {
        "id": "xTgbt-Q_4hDS",
        "colab_type": "text"
      },
      "cell_type": "markdown",
      "source": [
        "**Defining the callback function:**"
      ]
    },
    {
      "metadata": {
        "id": "lkDjCRnDt6Z8",
        "colab_type": "code",
        "colab": {}
      },
      "cell_type": "code",
      "source": [
        "callbacks = [EarlyStopping(monitor = 'val_acc', patience = 5)]"
      ],
      "execution_count": 0,
      "outputs": []
    },
    {
      "metadata": {
        "id": "B8B1GCMr4ktL",
        "colab_type": "text"
      },
      "cell_type": "markdown",
      "source": [
        "**Setting the network hyperparameters and training the model:**"
      ]
    },
    {
      "metadata": {
        "id": "CWCWN4Tyu6Uw",
        "colab_type": "code",
        "colab": {
          "base_uri": "https://localhost:8080/",
          "height": 1234
        },
        "outputId": "ce57b668-1f4f-4fea-d0ae-a5ec48092e9c"
      },
      "cell_type": "code",
      "source": [
        "n_epochs = 200\n",
        "batch_size = 128\n",
        "\n",
        "model.fit(X_train, y_train,\n",
        "          batch_size = batch_size,\n",
        "          epochs = n_epochs,\n",
        "          verbose = 1,\n",
        "          validation_split = 0.2,\n",
        "          callbacks = callbacks)"
      ],
      "execution_count": 8,
      "outputs": [
        {
          "output_type": "stream",
          "text": [
            "WARNING:tensorflow:From /usr/local/lib/python3.6/dist-packages/tensorflow/python/ops/math_ops.py:3066: to_int32 (from tensorflow.python.ops.math_ops) is deprecated and will be removed in a future version.\n",
            "Instructions for updating:\n",
            "Use tf.cast instead.\n",
            "Train on 48000 samples, validate on 12000 samples\n",
            "Epoch 1/200\n",
            "48000/48000 [==============================] - 11s 223us/step - loss: 0.3162 - acc: 0.8999 - val_loss: 0.0505 - val_acc: 0.9866\n",
            "Epoch 2/200\n",
            "48000/48000 [==============================] - 9s 183us/step - loss: 0.0864 - acc: 0.9739 - val_loss: 0.0457 - val_acc: 0.9870\n",
            "Epoch 3/200\n",
            "48000/48000 [==============================] - 9s 183us/step - loss: 0.0632 - acc: 0.9818 - val_loss: 0.0431 - val_acc: 0.9874\n",
            "Epoch 4/200\n",
            "48000/48000 [==============================] - 9s 182us/step - loss: 0.0520 - acc: 0.9844 - val_loss: 0.0312 - val_acc: 0.9912\n",
            "Epoch 5/200\n",
            "48000/48000 [==============================] - 9s 182us/step - loss: 0.0428 - acc: 0.9866 - val_loss: 0.0296 - val_acc: 0.9917\n",
            "Epoch 6/200\n",
            "48000/48000 [==============================] - 9s 183us/step - loss: 0.0353 - acc: 0.9892 - val_loss: 0.0267 - val_acc: 0.9931\n",
            "Epoch 7/200\n",
            "48000/48000 [==============================] - 9s 182us/step - loss: 0.0331 - acc: 0.9898 - val_loss: 0.0269 - val_acc: 0.9921\n",
            "Epoch 8/200\n",
            "48000/48000 [==============================] - 9s 182us/step - loss: 0.0293 - acc: 0.9909 - val_loss: 0.0260 - val_acc: 0.9933\n",
            "Epoch 9/200\n",
            "48000/48000 [==============================] - 9s 183us/step - loss: 0.0251 - acc: 0.9922 - val_loss: 0.0245 - val_acc: 0.9932\n",
            "Epoch 10/200\n",
            "48000/48000 [==============================] - 9s 183us/step - loss: 0.0216 - acc: 0.9928 - val_loss: 0.0255 - val_acc: 0.9932\n",
            "Epoch 11/200\n",
            "48000/48000 [==============================] - 9s 182us/step - loss: 0.0215 - acc: 0.9932 - val_loss: 0.0271 - val_acc: 0.9929\n",
            "Epoch 12/200\n",
            "48000/48000 [==============================] - 9s 183us/step - loss: 0.0200 - acc: 0.9936 - val_loss: 0.0257 - val_acc: 0.9937\n",
            "Epoch 13/200\n",
            "48000/48000 [==============================] - 9s 182us/step - loss: 0.0182 - acc: 0.9946 - val_loss: 0.0291 - val_acc: 0.9929\n",
            "Epoch 14/200\n",
            "48000/48000 [==============================] - 9s 182us/step - loss: 0.0163 - acc: 0.9950 - val_loss: 0.0283 - val_acc: 0.9933\n",
            "Epoch 15/200\n",
            "48000/48000 [==============================] - 9s 183us/step - loss: 0.0160 - acc: 0.9949 - val_loss: 0.0259 - val_acc: 0.9935\n",
            "Epoch 16/200\n",
            "48000/48000 [==============================] - 9s 181us/step - loss: 0.0168 - acc: 0.9944 - val_loss: 0.0248 - val_acc: 0.9934\n",
            "Epoch 17/200\n",
            "48000/48000 [==============================] - 9s 182us/step - loss: 0.0120 - acc: 0.9960 - val_loss: 0.0261 - val_acc: 0.9939\n",
            "Epoch 18/200\n",
            "48000/48000 [==============================] - 9s 182us/step - loss: 0.0130 - acc: 0.9961 - val_loss: 0.0301 - val_acc: 0.9927\n",
            "Epoch 19/200\n",
            "48000/48000 [==============================] - 9s 182us/step - loss: 0.0128 - acc: 0.9961 - val_loss: 0.0266 - val_acc: 0.9935\n",
            "Epoch 20/200\n",
            "48000/48000 [==============================] - 9s 182us/step - loss: 0.0108 - acc: 0.9966 - val_loss: 0.0284 - val_acc: 0.9930\n",
            "Epoch 21/200\n",
            "48000/48000 [==============================] - 9s 182us/step - loss: 0.0116 - acc: 0.9961 - val_loss: 0.0274 - val_acc: 0.9940\n",
            "Epoch 22/200\n",
            "48000/48000 [==============================] - 9s 182us/step - loss: 0.0126 - acc: 0.9961 - val_loss: 0.0323 - val_acc: 0.9935\n",
            "Epoch 23/200\n",
            "48000/48000 [==============================] - 9s 182us/step - loss: 0.0102 - acc: 0.9968 - val_loss: 0.0296 - val_acc: 0.9937\n",
            "Epoch 24/200\n",
            "48000/48000 [==============================] - 9s 182us/step - loss: 0.0091 - acc: 0.9972 - val_loss: 0.0315 - val_acc: 0.9933\n",
            "Epoch 25/200\n",
            "48000/48000 [==============================] - 9s 182us/step - loss: 0.0105 - acc: 0.9966 - val_loss: 0.0290 - val_acc: 0.9937\n",
            "Epoch 26/200\n",
            "48000/48000 [==============================] - 9s 183us/step - loss: 0.0097 - acc: 0.9970 - val_loss: 0.0288 - val_acc: 0.9944\n",
            "Epoch 27/200\n",
            "48000/48000 [==============================] - 9s 182us/step - loss: 0.0096 - acc: 0.9968 - val_loss: 0.0317 - val_acc: 0.9930\n",
            "Epoch 28/200\n",
            "48000/48000 [==============================] - 9s 183us/step - loss: 0.0079 - acc: 0.9972 - val_loss: 0.0328 - val_acc: 0.9936\n",
            "Epoch 29/200\n",
            "48000/48000 [==============================] - 9s 183us/step - loss: 0.0089 - acc: 0.9971 - val_loss: 0.0327 - val_acc: 0.9926\n",
            "Epoch 30/200\n",
            "48000/48000 [==============================] - 9s 182us/step - loss: 0.0069 - acc: 0.9980 - val_loss: 0.0274 - val_acc: 0.9940\n",
            "Epoch 31/200\n",
            "48000/48000 [==============================] - 9s 182us/step - loss: 0.0081 - acc: 0.9973 - val_loss: 0.0307 - val_acc: 0.9937\n"
          ],
          "name": "stdout"
        },
        {
          "output_type": "execute_result",
          "data": {
            "text/plain": [
              "<keras.callbacks.History at 0x7fe81e415668>"
            ]
          },
          "metadata": {
            "tags": []
          },
          "execution_count": 8
        }
      ]
    },
    {
      "metadata": {
        "id": "yfmHcGzK4sbC",
        "colab_type": "text"
      },
      "cell_type": "markdown",
      "source": [
        "**Showing the results on the test set:**"
      ]
    },
    {
      "metadata": {
        "id": "xFIf7DIDwbrT",
        "colab_type": "code",
        "colab": {
          "base_uri": "https://localhost:8080/",
          "height": 53
        },
        "outputId": "4a6b2fe5-05a6-4156-fb03-e872934c6380"
      },
      "cell_type": "code",
      "source": [
        "score = model.evaluate(X_test, y_test, verbose = 0)\n",
        "\n",
        "print('Test loss: ', score[0])\n",
        "print('Test accuracy: ', score[1])"
      ],
      "execution_count": 9,
      "outputs": [
        {
          "output_type": "stream",
          "text": [
            "Test loss:  0.02365884894795197\n",
            "Test accuracy:  0.995\n"
          ],
          "name": "stdout"
        }
      ]
    }
  ]
}