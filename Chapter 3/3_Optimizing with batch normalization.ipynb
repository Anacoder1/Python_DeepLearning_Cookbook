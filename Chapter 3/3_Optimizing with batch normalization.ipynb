{
  "nbformat": 4,
  "nbformat_minor": 0,
  "metadata": {
    "colab": {
      "name": "3_Optimizing with batch normalization.ipynb",
      "version": "0.3.2",
      "provenance": [],
      "collapsed_sections": []
    },
    "kernelspec": {
      "name": "python3",
      "display_name": "Python 3"
    },
    "accelerator": "GPU"
  },
  "cells": [
    {
      "metadata": {
        "id": "PZkYO-sHpJy0",
        "colab_type": "text"
      },
      "cell_type": "markdown",
      "source": [
        "**Importing the libraries:**"
      ]
    },
    {
      "metadata": {
        "id": "AMXOADxUC1d9",
        "colab_type": "code",
        "colab": {
          "base_uri": "https://localhost:8080/",
          "height": 35
        },
        "outputId": "cb70c975-de8a-4eac-92ff-010a7ec13c04"
      },
      "cell_type": "code",
      "source": [
        "import numpy as np\n",
        "from matplotlib import pyplot as plt\n",
        "\n",
        "from keras.utils.np_utils import to_categorical\n",
        "from keras.models import Sequential\n",
        "from keras.layers.core import Dense, Dropout, Activation, Flatten\n",
        "from keras.layers import Conv2D, MaxPooling2D\n",
        "from keras.callbacks import EarlyStopping\n",
        "from keras.layers.normalization import BatchNormalization\n",
        "from keras.datasets import cifar10"
      ],
      "execution_count": 1,
      "outputs": [
        {
          "output_type": "stream",
          "text": [
            "Using TensorFlow backend.\n"
          ],
          "name": "stderr"
        }
      ]
    },
    {
      "metadata": {
        "id": "_9d_-74QpSM2",
        "colab_type": "text"
      },
      "cell_type": "markdown",
      "source": [
        "**Load the cifar10 dataset:**"
      ]
    },
    {
      "metadata": {
        "id": "M0FPprawHxVF",
        "colab_type": "code",
        "colab": {}
      },
      "cell_type": "code",
      "source": [
        "(X_train, y_train), (X_val, y_val) = cifar10.load_data()"
      ],
      "execution_count": 0,
      "outputs": []
    },
    {
      "metadata": {
        "id": "kP1R9mYHpWYr",
        "colab_type": "text"
      },
      "cell_type": "markdown",
      "source": [
        "**Normalize the input data:**"
      ]
    },
    {
      "metadata": {
        "id": "imzrBpC5H6mS",
        "colab_type": "code",
        "colab": {}
      },
      "cell_type": "code",
      "source": [
        "X_train = X_train.astype('float32') / 255.\n",
        "X_val = X_val.astype('float32') / 255."
      ],
      "execution_count": 0,
      "outputs": []
    },
    {
      "metadata": {
        "id": "tCt23uYIpcLF",
        "colab_type": "text"
      },
      "cell_type": "markdown",
      "source": [
        "**One - hot encode the labels:**"
      ]
    },
    {
      "metadata": {
        "id": "wN4e9Ip6ITDf",
        "colab_type": "code",
        "colab": {}
      },
      "cell_type": "code",
      "source": [
        "n_classes = 10\n",
        "\n",
        "y_train = to_categorical(y_train, n_classes)\n",
        "y_val = to_categorical(y_val, n_classes)\n",
        "\n",
        "input_shape = X_train[0].shape"
      ],
      "execution_count": 0,
      "outputs": []
    },
    {
      "metadata": {
        "id": "KOvVynT0pi1u",
        "colab_type": "text"
      },
      "cell_type": "markdown",
      "source": [
        "**Define the CNN architecture and output the network architecture:**"
      ]
    },
    {
      "metadata": {
        "id": "_dlcy9fRIoIl",
        "colab_type": "code",
        "colab": {
          "base_uri": "https://localhost:8080/",
          "height": 1091
        },
        "outputId": "b5ded09b-87d2-41d1-bd53-20afacbb1c8e"
      },
      "cell_type": "code",
      "source": [
        "model = Sequential()\n",
        "\n",
        "model.add(Conv2D(32, kernel_size = (3, 3), \n",
        "                 input_shape = input_shape,\n",
        "                 padding = 'same'))\n",
        "model.add(Activation('relu'))\n",
        "model.add(Conv2D(32, kernel_size = (3, 3), padding = 'same'))\n",
        "model.add(Activation('relu'))\n",
        "model.add(MaxPooling2D(pool_size = (2, 2), padding = 'same'))\n",
        "\n",
        "model.add(Dropout(0.25))\n",
        "\n",
        "model.add(Conv2D(64, kernel_size = (3, 3), padding = 'same'))\n",
        "model.add(Activation('relu'))\n",
        "model.add(Conv2D(64, kernel_size = (3, 3), padding = 'same'))\n",
        "model.add(Activation('relu'))\n",
        "model.add(MaxPooling2D(pool_size = (2, 2), padding = 'same'))\n",
        "\n",
        "model.add(Dropout(0.25))\n",
        "\n",
        "model.add(Conv2D(128, kernel_size = (3, 3), padding = 'same'))\n",
        "model.add(Activation('relu'))\n",
        "model.add(Conv2D(128, kernel_size = (3, 3), padding = 'same'))\n",
        "model.add(Activation('relu'))\n",
        "model.add(MaxPooling2D(pool_size = (2, 2), padding = 'same'))\n",
        "\n",
        "model.add(Dropout(0.25))\n",
        "\n",
        "model.add(Flatten())\n",
        "model.add(Dense(512, activation = 'relu'))\n",
        "model.add(Dropout(0.5))\n",
        "model.add(Dense(128, activation = 'relu'))\n",
        "model.add(Dense(n_classes, activation = 'softmax'))\n",
        "\n",
        "model.compile(loss = 'categorical_crossentropy',\n",
        "              optimizer = 'adam',\n",
        "              metrics = ['accuracy'])\n",
        "\n",
        "model.summary()"
      ],
      "execution_count": 5,
      "outputs": [
        {
          "output_type": "stream",
          "text": [
            "WARNING:tensorflow:From /usr/local/lib/python3.6/dist-packages/tensorflow/python/framework/op_def_library.py:263: colocate_with (from tensorflow.python.framework.ops) is deprecated and will be removed in a future version.\n",
            "Instructions for updating:\n",
            "Colocations handled automatically by placer.\n",
            "WARNING:tensorflow:From /usr/local/lib/python3.6/dist-packages/keras/backend/tensorflow_backend.py:3445: calling dropout (from tensorflow.python.ops.nn_ops) with keep_prob is deprecated and will be removed in a future version.\n",
            "Instructions for updating:\n",
            "Please use `rate` instead of `keep_prob`. Rate should be set to `rate = 1 - keep_prob`.\n",
            "_________________________________________________________________\n",
            "Layer (type)                 Output Shape              Param #   \n",
            "=================================================================\n",
            "conv2d_1 (Conv2D)            (None, 32, 32, 32)        896       \n",
            "_________________________________________________________________\n",
            "activation_1 (Activation)    (None, 32, 32, 32)        0         \n",
            "_________________________________________________________________\n",
            "conv2d_2 (Conv2D)            (None, 32, 32, 32)        9248      \n",
            "_________________________________________________________________\n",
            "activation_2 (Activation)    (None, 32, 32, 32)        0         \n",
            "_________________________________________________________________\n",
            "max_pooling2d_1 (MaxPooling2 (None, 16, 16, 32)        0         \n",
            "_________________________________________________________________\n",
            "dropout_1 (Dropout)          (None, 16, 16, 32)        0         \n",
            "_________________________________________________________________\n",
            "conv2d_3 (Conv2D)            (None, 16, 16, 64)        18496     \n",
            "_________________________________________________________________\n",
            "activation_3 (Activation)    (None, 16, 16, 64)        0         \n",
            "_________________________________________________________________\n",
            "conv2d_4 (Conv2D)            (None, 16, 16, 64)        36928     \n",
            "_________________________________________________________________\n",
            "activation_4 (Activation)    (None, 16, 16, 64)        0         \n",
            "_________________________________________________________________\n",
            "max_pooling2d_2 (MaxPooling2 (None, 8, 8, 64)          0         \n",
            "_________________________________________________________________\n",
            "dropout_2 (Dropout)          (None, 8, 8, 64)          0         \n",
            "_________________________________________________________________\n",
            "conv2d_5 (Conv2D)            (None, 8, 8, 128)         73856     \n",
            "_________________________________________________________________\n",
            "activation_5 (Activation)    (None, 8, 8, 128)         0         \n",
            "_________________________________________________________________\n",
            "conv2d_6 (Conv2D)            (None, 8, 8, 128)         147584    \n",
            "_________________________________________________________________\n",
            "activation_6 (Activation)    (None, 8, 8, 128)         0         \n",
            "_________________________________________________________________\n",
            "max_pooling2d_3 (MaxPooling2 (None, 4, 4, 128)         0         \n",
            "_________________________________________________________________\n",
            "dropout_3 (Dropout)          (None, 4, 4, 128)         0         \n",
            "_________________________________________________________________\n",
            "flatten_1 (Flatten)          (None, 2048)              0         \n",
            "_________________________________________________________________\n",
            "dense_1 (Dense)              (None, 512)               1049088   \n",
            "_________________________________________________________________\n",
            "dropout_4 (Dropout)          (None, 512)               0         \n",
            "_________________________________________________________________\n",
            "dense_2 (Dense)              (None, 128)               65664     \n",
            "_________________________________________________________________\n",
            "dense_3 (Dense)              (None, 10)                1290      \n",
            "=================================================================\n",
            "Total params: 1,403,050\n",
            "Trainable params: 1,403,050\n",
            "Non-trainable params: 0\n",
            "_________________________________________________________________\n"
          ],
          "name": "stdout"
        }
      ]
    },
    {
      "metadata": {
        "id": "SUzjHvtCp1lb",
        "colab_type": "text"
      },
      "cell_type": "markdown",
      "source": [
        "**Define a callback to prevent overfitting:**"
      ]
    },
    {
      "metadata": {
        "id": "CaXMzq7NLYVO",
        "colab_type": "code",
        "colab": {}
      },
      "cell_type": "code",
      "source": [
        "callbacks = [EarlyStopping(monitor = 'val_acc', patience = 5,\n",
        "                           verbose = 1)]"
      ],
      "execution_count": 0,
      "outputs": []
    },
    {
      "metadata": {
        "id": "BzfxxDq7p4wK",
        "colab_type": "text"
      },
      "cell_type": "markdown",
      "source": [
        "**Set the network hyperparameters and train the first model:**"
      ]
    },
    {
      "metadata": {
        "id": "kaFNYbezMB5o",
        "colab_type": "code",
        "colab": {
          "base_uri": "https://localhost:8080/",
          "height": 1949
        },
        "outputId": "004c6e58-5280-44ed-f21d-bf7338fe5577"
      },
      "cell_type": "code",
      "source": [
        "n_epochs = 300\n",
        "batch_size = 256\n",
        "\n",
        "history = model.fit(X_train, y_train,\n",
        "                    batch_size = batch_size,\n",
        "                    epochs = n_epochs,\n",
        "                    verbose = 1,\n",
        "                    validation_data = (X_val, y_val),\n",
        "                    callbacks = callbacks)"
      ],
      "execution_count": 7,
      "outputs": [
        {
          "output_type": "stream",
          "text": [
            "WARNING:tensorflow:From /usr/local/lib/python3.6/dist-packages/tensorflow/python/ops/math_ops.py:3066: to_int32 (from tensorflow.python.ops.math_ops) is deprecated and will be removed in a future version.\n",
            "Instructions for updating:\n",
            "Use tf.cast instead.\n",
            "Train on 50000 samples, validate on 10000 samples\n",
            "Epoch 1/300\n",
            "50000/50000 [==============================] - 15s 301us/step - loss: 1.9022 - acc: 0.2820 - val_loss: 1.5597 - val_acc: 0.4212\n",
            "Epoch 2/300\n",
            "50000/50000 [==============================] - 13s 250us/step - loss: 1.4508 - acc: 0.4642 - val_loss: 1.2310 - val_acc: 0.5522\n",
            "Epoch 3/300\n",
            "50000/50000 [==============================] - 12s 249us/step - loss: 1.2139 - acc: 0.5601 - val_loss: 1.0509 - val_acc: 0.6268\n",
            "Epoch 4/300\n",
            "50000/50000 [==============================] - 13s 251us/step - loss: 1.0562 - acc: 0.6232 - val_loss: 0.9081 - val_acc: 0.6745\n",
            "Epoch 5/300\n",
            "50000/50000 [==============================] - 13s 250us/step - loss: 0.9583 - acc: 0.6613 - val_loss: 0.9512 - val_acc: 0.6570\n",
            "Epoch 6/300\n",
            "50000/50000 [==============================] - 13s 250us/step - loss: 0.8787 - acc: 0.6891 - val_loss: 0.7736 - val_acc: 0.7250\n",
            "Epoch 7/300\n",
            "50000/50000 [==============================] - 12s 250us/step - loss: 0.8112 - acc: 0.7143 - val_loss: 0.7564 - val_acc: 0.7322\n",
            "Epoch 8/300\n",
            "50000/50000 [==============================] - 13s 251us/step - loss: 0.7633 - acc: 0.7309 - val_loss: 0.7284 - val_acc: 0.7493\n",
            "Epoch 9/300\n",
            "50000/50000 [==============================] - 13s 250us/step - loss: 0.7111 - acc: 0.7512 - val_loss: 0.6765 - val_acc: 0.7669\n",
            "Epoch 10/300\n",
            "50000/50000 [==============================] - 13s 250us/step - loss: 0.6794 - acc: 0.7609 - val_loss: 0.6871 - val_acc: 0.7633\n",
            "Epoch 11/300\n",
            "50000/50000 [==============================] - 13s 250us/step - loss: 0.6501 - acc: 0.7744 - val_loss: 0.6374 - val_acc: 0.7777\n",
            "Epoch 12/300\n",
            "50000/50000 [==============================] - 12s 250us/step - loss: 0.6198 - acc: 0.7820 - val_loss: 0.6128 - val_acc: 0.7893\n",
            "Epoch 13/300\n",
            "50000/50000 [==============================] - 13s 251us/step - loss: 0.5965 - acc: 0.7905 - val_loss: 0.6083 - val_acc: 0.7922\n",
            "Epoch 14/300\n",
            "50000/50000 [==============================] - 12s 250us/step - loss: 0.5584 - acc: 0.8042 - val_loss: 0.6396 - val_acc: 0.7855\n",
            "Epoch 15/300\n",
            "50000/50000 [==============================] - 13s 251us/step - loss: 0.5412 - acc: 0.8097 - val_loss: 0.5983 - val_acc: 0.7982\n",
            "Epoch 16/300\n",
            "50000/50000 [==============================] - 12s 250us/step - loss: 0.5229 - acc: 0.8161 - val_loss: 0.5751 - val_acc: 0.8075\n",
            "Epoch 17/300\n",
            "50000/50000 [==============================] - 13s 251us/step - loss: 0.5123 - acc: 0.8208 - val_loss: 0.5818 - val_acc: 0.7985\n",
            "Epoch 18/300\n",
            "50000/50000 [==============================] - 12s 250us/step - loss: 0.5038 - acc: 0.8244 - val_loss: 0.6005 - val_acc: 0.7998\n",
            "Epoch 19/300\n",
            "50000/50000 [==============================] - 13s 250us/step - loss: 0.4882 - acc: 0.8272 - val_loss: 0.6061 - val_acc: 0.7965\n",
            "Epoch 20/300\n",
            "50000/50000 [==============================] - 13s 251us/step - loss: 0.4675 - acc: 0.8365 - val_loss: 0.5700 - val_acc: 0.8130\n",
            "Epoch 21/300\n",
            "50000/50000 [==============================] - 13s 250us/step - loss: 0.4551 - acc: 0.8369 - val_loss: 0.5670 - val_acc: 0.8099\n",
            "Epoch 22/300\n",
            "50000/50000 [==============================] - 13s 250us/step - loss: 0.4498 - acc: 0.8416 - val_loss: 0.5652 - val_acc: 0.8137\n",
            "Epoch 23/300\n",
            "50000/50000 [==============================] - 12s 249us/step - loss: 0.4321 - acc: 0.8474 - val_loss: 0.5699 - val_acc: 0.8114\n",
            "Epoch 24/300\n",
            "50000/50000 [==============================] - 12s 250us/step - loss: 0.4258 - acc: 0.8492 - val_loss: 0.5655 - val_acc: 0.8140\n",
            "Epoch 25/300\n",
            "50000/50000 [==============================] - 13s 251us/step - loss: 0.4123 - acc: 0.8532 - val_loss: 0.5616 - val_acc: 0.8136\n",
            "Epoch 26/300\n",
            "50000/50000 [==============================] - 13s 251us/step - loss: 0.3960 - acc: 0.8617 - val_loss: 0.5544 - val_acc: 0.8215\n",
            "Epoch 27/300\n",
            "50000/50000 [==============================] - 12s 250us/step - loss: 0.3929 - acc: 0.8603 - val_loss: 0.5594 - val_acc: 0.8160\n",
            "Epoch 28/300\n",
            "50000/50000 [==============================] - 12s 249us/step - loss: 0.3797 - acc: 0.8660 - val_loss: 0.5526 - val_acc: 0.8217\n",
            "Epoch 29/300\n",
            "50000/50000 [==============================] - 13s 251us/step - loss: 0.3757 - acc: 0.8648 - val_loss: 0.5833 - val_acc: 0.8178\n",
            "Epoch 30/300\n",
            "50000/50000 [==============================] - 13s 251us/step - loss: 0.3649 - acc: 0.8694 - val_loss: 0.5608 - val_acc: 0.8217\n",
            "Epoch 31/300\n",
            "50000/50000 [==============================] - 13s 250us/step - loss: 0.3558 - acc: 0.8744 - val_loss: 0.5533 - val_acc: 0.8253\n",
            "Epoch 32/300\n",
            "50000/50000 [==============================] - 13s 250us/step - loss: 0.3500 - acc: 0.8751 - val_loss: 0.5552 - val_acc: 0.8245\n",
            "Epoch 33/300\n",
            "50000/50000 [==============================] - 13s 250us/step - loss: 0.3496 - acc: 0.8751 - val_loss: 0.5850 - val_acc: 0.8194\n",
            "Epoch 34/300\n",
            "50000/50000 [==============================] - 13s 251us/step - loss: 0.3391 - acc: 0.8796 - val_loss: 0.5815 - val_acc: 0.8169\n",
            "Epoch 35/300\n",
            "50000/50000 [==============================] - 12s 250us/step - loss: 0.3359 - acc: 0.8806 - val_loss: 0.5626 - val_acc: 0.8202\n",
            "Epoch 36/300\n",
            "50000/50000 [==============================] - 13s 251us/step - loss: 0.3240 - acc: 0.8849 - val_loss: 0.5516 - val_acc: 0.8258\n",
            "Epoch 37/300\n",
            "50000/50000 [==============================] - 13s 250us/step - loss: 0.3223 - acc: 0.8855 - val_loss: 0.5787 - val_acc: 0.8214\n",
            "Epoch 38/300\n",
            "50000/50000 [==============================] - 12s 250us/step - loss: 0.3209 - acc: 0.8864 - val_loss: 0.5498 - val_acc: 0.8260\n",
            "Epoch 39/300\n",
            "50000/50000 [==============================] - 13s 250us/step - loss: 0.3150 - acc: 0.8884 - val_loss: 0.5682 - val_acc: 0.8265\n",
            "Epoch 40/300\n",
            "50000/50000 [==============================] - 12s 250us/step - loss: 0.3162 - acc: 0.8884 - val_loss: 0.5451 - val_acc: 0.8281\n",
            "Epoch 41/300\n",
            "50000/50000 [==============================] - 13s 251us/step - loss: 0.3035 - acc: 0.8909 - val_loss: 0.5481 - val_acc: 0.8255\n",
            "Epoch 42/300\n",
            "50000/50000 [==============================] - 13s 250us/step - loss: 0.2986 - acc: 0.8918 - val_loss: 0.5729 - val_acc: 0.8272\n",
            "Epoch 43/300\n",
            "50000/50000 [==============================] - 13s 251us/step - loss: 0.2943 - acc: 0.8953 - val_loss: 0.5522 - val_acc: 0.8274\n",
            "Epoch 44/300\n",
            "50000/50000 [==============================] - 13s 250us/step - loss: 0.2894 - acc: 0.8980 - val_loss: 0.5633 - val_acc: 0.8318\n",
            "Epoch 45/300\n",
            "50000/50000 [==============================] - 12s 250us/step - loss: 0.2858 - acc: 0.9002 - val_loss: 0.5612 - val_acc: 0.8316\n",
            "Epoch 46/300\n",
            "50000/50000 [==============================] - 13s 250us/step - loss: 0.2880 - acc: 0.8982 - val_loss: 0.5536 - val_acc: 0.8319\n",
            "Epoch 47/300\n",
            "50000/50000 [==============================] - 12s 250us/step - loss: 0.2755 - acc: 0.9030 - val_loss: 0.5530 - val_acc: 0.8291\n",
            "Epoch 48/300\n",
            "50000/50000 [==============================] - 12s 250us/step - loss: 0.2738 - acc: 0.9018 - val_loss: 0.5685 - val_acc: 0.8314\n",
            "Epoch 49/300\n",
            "50000/50000 [==============================] - 13s 251us/step - loss: 0.2687 - acc: 0.9056 - val_loss: 0.5558 - val_acc: 0.8316\n",
            "Epoch 50/300\n",
            "50000/50000 [==============================] - 12s 250us/step - loss: 0.2624 - acc: 0.9070 - val_loss: 0.5615 - val_acc: 0.8315\n",
            "Epoch 51/300\n",
            "50000/50000 [==============================] - 13s 251us/step - loss: 0.2649 - acc: 0.9061 - val_loss: 0.5579 - val_acc: 0.8313\n",
            "Epoch 00051: early stopping\n"
          ],
          "name": "stdout"
        }
      ]
    },
    {
      "metadata": {
        "id": "HiHSLh2mp-fk",
        "colab_type": "text"
      },
      "cell_type": "markdown",
      "source": [
        "**Now, let's add batch normalization to our network architecture:**"
      ]
    },
    {
      "metadata": {
        "id": "Bl0Gup1dMpMm",
        "colab_type": "code",
        "colab": {
          "base_uri": "https://localhost:8080/",
          "height": 1214
        },
        "outputId": "dac042b8-4f2b-43fd-ad07-416ff82af9ce"
      },
      "cell_type": "code",
      "source": [
        "model_bn = Sequential()\n",
        "\n",
        "model_bn.add(Conv2D(32, kernel_size = (3, 3), \n",
        "                    input_shape = input_shape, padding = 'same'))\n",
        "model_bn.add(Activation('relu'))\n",
        "model_bn.add(BatchNormalization())\n",
        "model_bn.add(Conv2D(32, kernel_size = (3, 3), padding = 'same'))\n",
        "model_bn.add(Activation('relu'))\n",
        "model_bn.add(BatchNormalization())\n",
        "model_bn.add(MaxPooling2D(pool_size = (2, 2), padding = 'same'))\n",
        "\n",
        "model_bn.add(Dropout(0.25))\n",
        "\n",
        "model_bn.add(Conv2D(64, kernel_size = (3, 3), padding = 'same'))\n",
        "model_bn.add(Activation('relu'))\n",
        "model_bn.add(BatchNormalization())\n",
        "model_bn.add(Conv2D(64, kernel_size = (3, 3), padding = 'same'))\n",
        "model_bn.add(Activation('relu'))\n",
        "model_bn.add(BatchNormalization())\n",
        "model_bn.add(MaxPooling2D(pool_size = (2, 2), padding = 'same'))\n",
        "\n",
        "model_bn.add(Dropout(0.25))\n",
        "\n",
        "model_bn.add(Conv2D(128, kernel_size = (3, 3), padding = 'same'))\n",
        "model_bn.add(Activation('relu'))\n",
        "model_bn.add(BatchNormalization())\n",
        "model_bn.add(Conv2D(128, kernel_size = (3, 3), padding = 'same'))\n",
        "model_bn.add(Activation('relu'))\n",
        "model_bn.add(BatchNormalization())\n",
        "model_bn.add(MaxPooling2D(pool_size = (2, 2), padding = 'same'))\n",
        "\n",
        "model_bn.add(Dropout(0.25))\n",
        "\n",
        "model_bn.add(Flatten())\n",
        "model_bn.add(Dense(512, activation = 'relu'))\n",
        "model_bn.add(BatchNormalization())\n",
        "model_bn.add(Dropout(0.5))\n",
        "model_bn.add(Dense(128, activation = 'relu'))\n",
        "model_bn.add(Dense(n_classes, activation = 'softmax'))\n",
        "\n",
        "model_bn.compile(loss = 'categorical_crossentropy',\n",
        "                 optimizer = 'adam',\n",
        "                 metrics = ['accuracy'])\n",
        "\n",
        "model_bn.summary()"
      ],
      "execution_count": 8,
      "outputs": [
        {
          "output_type": "stream",
          "text": [
            "_________________________________________________________________\n",
            "Layer (type)                 Output Shape              Param #   \n",
            "=================================================================\n",
            "conv2d_7 (Conv2D)            (None, 32, 32, 32)        896       \n",
            "_________________________________________________________________\n",
            "activation_7 (Activation)    (None, 32, 32, 32)        0         \n",
            "_________________________________________________________________\n",
            "batch_normalization_1 (Batch (None, 32, 32, 32)        128       \n",
            "_________________________________________________________________\n",
            "conv2d_8 (Conv2D)            (None, 32, 32, 32)        9248      \n",
            "_________________________________________________________________\n",
            "activation_8 (Activation)    (None, 32, 32, 32)        0         \n",
            "_________________________________________________________________\n",
            "batch_normalization_2 (Batch (None, 32, 32, 32)        128       \n",
            "_________________________________________________________________\n",
            "max_pooling2d_4 (MaxPooling2 (None, 16, 16, 32)        0         \n",
            "_________________________________________________________________\n",
            "dropout_5 (Dropout)          (None, 16, 16, 32)        0         \n",
            "_________________________________________________________________\n",
            "conv2d_9 (Conv2D)            (None, 16, 16, 64)        18496     \n",
            "_________________________________________________________________\n",
            "activation_9 (Activation)    (None, 16, 16, 64)        0         \n",
            "_________________________________________________________________\n",
            "batch_normalization_3 (Batch (None, 16, 16, 64)        256       \n",
            "_________________________________________________________________\n",
            "conv2d_10 (Conv2D)           (None, 16, 16, 64)        36928     \n",
            "_________________________________________________________________\n",
            "activation_10 (Activation)   (None, 16, 16, 64)        0         \n",
            "_________________________________________________________________\n",
            "batch_normalization_4 (Batch (None, 16, 16, 64)        256       \n",
            "_________________________________________________________________\n",
            "max_pooling2d_5 (MaxPooling2 (None, 8, 8, 64)          0         \n",
            "_________________________________________________________________\n",
            "dropout_6 (Dropout)          (None, 8, 8, 64)          0         \n",
            "_________________________________________________________________\n",
            "conv2d_11 (Conv2D)           (None, 8, 8, 128)         73856     \n",
            "_________________________________________________________________\n",
            "activation_11 (Activation)   (None, 8, 8, 128)         0         \n",
            "_________________________________________________________________\n",
            "batch_normalization_5 (Batch (None, 8, 8, 128)         512       \n",
            "_________________________________________________________________\n",
            "conv2d_12 (Conv2D)           (None, 8, 8, 128)         147584    \n",
            "_________________________________________________________________\n",
            "activation_12 (Activation)   (None, 8, 8, 128)         0         \n",
            "_________________________________________________________________\n",
            "batch_normalization_6 (Batch (None, 8, 8, 128)         512       \n",
            "_________________________________________________________________\n",
            "max_pooling2d_6 (MaxPooling2 (None, 4, 4, 128)         0         \n",
            "_________________________________________________________________\n",
            "dropout_7 (Dropout)          (None, 4, 4, 128)         0         \n",
            "_________________________________________________________________\n",
            "flatten_2 (Flatten)          (None, 2048)              0         \n",
            "_________________________________________________________________\n",
            "dense_4 (Dense)              (None, 512)               1049088   \n",
            "_________________________________________________________________\n",
            "batch_normalization_7 (Batch (None, 512)               2048      \n",
            "_________________________________________________________________\n",
            "dropout_8 (Dropout)          (None, 512)               0         \n",
            "_________________________________________________________________\n",
            "dense_5 (Dense)              (None, 128)               65664     \n",
            "_________________________________________________________________\n",
            "dense_6 (Dense)              (None, 10)                1290      \n",
            "=================================================================\n",
            "Total params: 1,406,890\n",
            "Trainable params: 1,404,970\n",
            "Non-trainable params: 1,920\n",
            "_________________________________________________________________\n"
          ],
          "name": "stdout"
        }
      ]
    },
    {
      "metadata": {
        "id": "6lb5nHvqqLQF",
        "colab_type": "text"
      },
      "cell_type": "markdown",
      "source": [
        "**Train the model which includes batch normalization:**"
      ]
    },
    {
      "metadata": {
        "id": "6OIkJFaYcajJ",
        "colab_type": "code",
        "colab": {
          "base_uri": "https://localhost:8080/",
          "height": 1574
        },
        "outputId": "e3480d14-52cc-4b03-b221-58a11cc0e712"
      },
      "cell_type": "code",
      "source": [
        "history_bn = model_bn.fit(X_train, y_train,\n",
        "                          batch_size = batch_size,\n",
        "                          epochs = n_epochs,\n",
        "                          verbose = 1,\n",
        "                          validation_data = (X_val, y_val),\n",
        "                          callbacks = callbacks)"
      ],
      "execution_count": 9,
      "outputs": [
        {
          "output_type": "stream",
          "text": [
            "Train on 50000 samples, validate on 10000 samples\n",
            "Epoch 1/300\n",
            "50000/50000 [==============================] - 19s 386us/step - loss: 1.6223 - acc: 0.4366 - val_loss: 2.2351 - val_acc: 0.3623\n",
            "Epoch 2/300\n",
            "50000/50000 [==============================] - 17s 349us/step - loss: 1.1149 - acc: 0.6005 - val_loss: 1.0877 - val_acc: 0.6362\n",
            "Epoch 3/300\n",
            "50000/50000 [==============================] - 17s 349us/step - loss: 0.9129 - acc: 0.6754 - val_loss: 0.9672 - val_acc: 0.6621\n",
            "Epoch 4/300\n",
            "50000/50000 [==============================] - 17s 349us/step - loss: 0.7920 - acc: 0.7177 - val_loss: 0.7556 - val_acc: 0.7405\n",
            "Epoch 5/300\n",
            "50000/50000 [==============================] - 17s 347us/step - loss: 0.7122 - acc: 0.7472 - val_loss: 0.7313 - val_acc: 0.7466\n",
            "Epoch 6/300\n",
            "50000/50000 [==============================] - 17s 348us/step - loss: 0.6508 - acc: 0.7706 - val_loss: 0.7036 - val_acc: 0.7527\n",
            "Epoch 7/300\n",
            "50000/50000 [==============================] - 17s 348us/step - loss: 0.6022 - acc: 0.7857 - val_loss: 0.6710 - val_acc: 0.7760\n",
            "Epoch 8/300\n",
            "50000/50000 [==============================] - 17s 350us/step - loss: 0.5560 - acc: 0.8035 - val_loss: 0.6728 - val_acc: 0.7787\n",
            "Epoch 9/300\n",
            "50000/50000 [==============================] - 17s 349us/step - loss: 0.5160 - acc: 0.8190 - val_loss: 0.6204 - val_acc: 0.7918\n",
            "Epoch 10/300\n",
            "50000/50000 [==============================] - 17s 349us/step - loss: 0.4758 - acc: 0.8321 - val_loss: 0.5540 - val_acc: 0.8117\n",
            "Epoch 11/300\n",
            "50000/50000 [==============================] - 17s 350us/step - loss: 0.4473 - acc: 0.8421 - val_loss: 0.5886 - val_acc: 0.8028\n",
            "Epoch 12/300\n",
            "50000/50000 [==============================] - 18s 350us/step - loss: 0.4214 - acc: 0.8510 - val_loss: 0.5334 - val_acc: 0.8249\n",
            "Epoch 13/300\n",
            "50000/50000 [==============================] - 17s 348us/step - loss: 0.4005 - acc: 0.8587 - val_loss: 0.5841 - val_acc: 0.8071\n",
            "Epoch 14/300\n",
            "50000/50000 [==============================] - 17s 348us/step - loss: 0.3686 - acc: 0.8708 - val_loss: 0.5543 - val_acc: 0.8159\n",
            "Epoch 15/300\n",
            "50000/50000 [==============================] - 17s 348us/step - loss: 0.3555 - acc: 0.8723 - val_loss: 0.5584 - val_acc: 0.8203\n",
            "Epoch 16/300\n",
            "50000/50000 [==============================] - 17s 347us/step - loss: 0.3319 - acc: 0.8813 - val_loss: 0.5337 - val_acc: 0.8265\n",
            "Epoch 17/300\n",
            "50000/50000 [==============================] - 17s 349us/step - loss: 0.3179 - acc: 0.8859 - val_loss: 0.5407 - val_acc: 0.8271\n",
            "Epoch 18/300\n",
            "50000/50000 [==============================] - 17s 346us/step - loss: 0.3045 - acc: 0.8901 - val_loss: 0.5605 - val_acc: 0.8251\n",
            "Epoch 19/300\n",
            "50000/50000 [==============================] - 17s 347us/step - loss: 0.2940 - acc: 0.8965 - val_loss: 0.5310 - val_acc: 0.8333\n",
            "Epoch 20/300\n",
            "50000/50000 [==============================] - 17s 349us/step - loss: 0.2746 - acc: 0.9025 - val_loss: 0.5317 - val_acc: 0.8338\n",
            "Epoch 21/300\n",
            "50000/50000 [==============================] - 17s 349us/step - loss: 0.2581 - acc: 0.9062 - val_loss: 0.5089 - val_acc: 0.8448\n",
            "Epoch 22/300\n",
            "50000/50000 [==============================] - 17s 349us/step - loss: 0.2487 - acc: 0.9109 - val_loss: 0.5736 - val_acc: 0.8280\n",
            "Epoch 23/300\n",
            "50000/50000 [==============================] - 17s 348us/step - loss: 0.2388 - acc: 0.9151 - val_loss: 0.5428 - val_acc: 0.8452\n",
            "Epoch 24/300\n",
            "50000/50000 [==============================] - 17s 347us/step - loss: 0.2357 - acc: 0.9150 - val_loss: 0.5553 - val_acc: 0.8301\n",
            "Epoch 25/300\n",
            "50000/50000 [==============================] - 18s 351us/step - loss: 0.2197 - acc: 0.9211 - val_loss: 0.5176 - val_acc: 0.8504\n",
            "Epoch 26/300\n",
            "50000/50000 [==============================] - 17s 350us/step - loss: 0.2100 - acc: 0.9249 - val_loss: 0.5885 - val_acc: 0.8323\n",
            "Epoch 27/300\n",
            "50000/50000 [==============================] - 17s 349us/step - loss: 0.2083 - acc: 0.9257 - val_loss: 0.5282 - val_acc: 0.8453\n",
            "Epoch 28/300\n",
            "50000/50000 [==============================] - 17s 350us/step - loss: 0.1990 - acc: 0.9289 - val_loss: 0.5656 - val_acc: 0.8439\n",
            "Epoch 29/300\n",
            "50000/50000 [==============================] - 17s 349us/step - loss: 0.1912 - acc: 0.9311 - val_loss: 0.6217 - val_acc: 0.8315\n",
            "Epoch 30/300\n",
            "50000/50000 [==============================] - 17s 348us/step - loss: 0.1923 - acc: 0.9317 - val_loss: 0.5245 - val_acc: 0.8515\n",
            "Epoch 31/300\n",
            "50000/50000 [==============================] - 17s 348us/step - loss: 0.1789 - acc: 0.9352 - val_loss: 0.6220 - val_acc: 0.8282\n",
            "Epoch 32/300\n",
            "50000/50000 [==============================] - 17s 348us/step - loss: 0.1777 - acc: 0.9367 - val_loss: 0.5967 - val_acc: 0.8333\n",
            "Epoch 33/300\n",
            "50000/50000 [==============================] - 18s 350us/step - loss: 0.1728 - acc: 0.9385 - val_loss: 0.5633 - val_acc: 0.8448\n",
            "Epoch 34/300\n",
            "50000/50000 [==============================] - 17s 349us/step - loss: 0.1629 - acc: 0.9418 - val_loss: 0.5560 - val_acc: 0.8488\n",
            "Epoch 35/300\n",
            "50000/50000 [==============================] - 17s 349us/step - loss: 0.1603 - acc: 0.9421 - val_loss: 0.5289 - val_acc: 0.8577\n",
            "Epoch 36/300\n",
            "50000/50000 [==============================] - 17s 347us/step - loss: 0.1544 - acc: 0.9438 - val_loss: 0.5638 - val_acc: 0.8497\n",
            "Epoch 37/300\n",
            "50000/50000 [==============================] - 17s 349us/step - loss: 0.1536 - acc: 0.9451 - val_loss: 0.5357 - val_acc: 0.8580\n",
            "Epoch 38/300\n",
            "50000/50000 [==============================] - 17s 350us/step - loss: 0.1484 - acc: 0.9469 - val_loss: 0.5461 - val_acc: 0.8558\n",
            "Epoch 39/300\n",
            "50000/50000 [==============================] - 17s 348us/step - loss: 0.1443 - acc: 0.9470 - val_loss: 0.5613 - val_acc: 0.8530\n",
            "Epoch 40/300\n",
            "50000/50000 [==============================] - 17s 350us/step - loss: 0.1362 - acc: 0.9516 - val_loss: 0.5808 - val_acc: 0.8483\n",
            "Epoch 41/300\n",
            "50000/50000 [==============================] - 18s 351us/step - loss: 0.1358 - acc: 0.9515 - val_loss: 0.5822 - val_acc: 0.8501\n",
            "Epoch 42/300\n",
            "50000/50000 [==============================] - 17s 348us/step - loss: 0.1372 - acc: 0.9519 - val_loss: 0.5561 - val_acc: 0.8481\n",
            "Epoch 00042: early stopping\n"
          ],
          "name": "stdout"
        }
      ]
    },
    {
      "metadata": {
        "id": "BzehK-sRqisG",
        "colab_type": "text"
      },
      "cell_type": "markdown",
      "source": [
        "**Let's plot the validation accuracy of both models to compare the performance:**"
      ]
    },
    {
      "metadata": {
        "id": "i4dAFi9YdGhM",
        "colab_type": "code",
        "colab": {
          "base_uri": "https://localhost:8080/",
          "height": 376
        },
        "outputId": "60003286-8fc0-4eba-f96c-5fc132a183f9"
      },
      "cell_type": "code",
      "source": [
        "val_acc = history.history['val_acc']\n",
        "val_acc_bn = history_bn.history['val_acc']\n",
        "\n",
        "plt.plot(range(len(val_acc)), val_acc, label = 'CNN model')\n",
        "plt.plot(range(len(val_acc_bn)), val_acc_bn, label = 'CNN model with BN')\n",
        "plt.title('Validation accuracy on Cifar10 dataset')\n",
        "plt.xlabel('epochs')\n",
        "plt.ylabel('accuracy')\n",
        "plt.legend()\n",
        "plt.show()"
      ],
      "execution_count": 10,
      "outputs": [
        {
          "output_type": "display_data",
          "data": {
            "image/png": "[encoded data removed]",
            "text/plain": [
              "<Figure size 576x396 with 1 Axes>"
            ]
          },
          "metadata": {
            "tags": []
          }
        }
      ]
    },
    {
      "metadata": {
        "id": "PMQmokSuqpWr",
        "colab_type": "text"
      },
      "cell_type": "markdown",
      "source": [
        "**Printing some statistics involving the models:**"
      ]
    },
    {
      "metadata": {
        "id": "fEMBE-Bajd_L",
        "colab_type": "code",
        "colab": {
          "base_uri": "https://localhost:8080/",
          "height": 88
        },
        "outputId": "87537aec-e7f1-41e7-abd7-0272483b5e08"
      },
      "cell_type": "code",
      "source": [
        "print(\"Maximum accuracy of CNN model with BN: \", max(val_acc_bn))\n",
        "print(\"Maximum accuracy of CNN model: \", max(val_acc))\n",
        "\n",
        "print(\"Number of epochs in CNN model with BN: \", len(val_acc_bn))\n",
        "print(\"Number of epochs in CNN model: \", len(val_acc))"
      ],
      "execution_count": 11,
      "outputs": [
        {
          "output_type": "stream",
          "text": [
            "Maximum accuracy of CNN model with BN:  0.858\n",
            "Maximum accuracy of CNN model:  0.8319\n",
            "Number of epochs in CNN model with BN:  42\n",
            "Number of epochs in CNN model:  51\n"
          ],
          "name": "stdout"
        }
      ]
    }
  ]
}