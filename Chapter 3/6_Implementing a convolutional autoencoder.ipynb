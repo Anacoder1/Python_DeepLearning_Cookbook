{
  "nbformat": 4,
  "nbformat_minor": 0,
  "metadata": {
    "colab": {
      "name": "5_Implementing a convolutional autoencoder.ipynb",
      "version": "0.3.2",
      "provenance": [],
      "collapsed_sections": []
    },
    "kernelspec": {
      "name": "python3",
      "display_name": "Python 3"
    },
    "accelerator": "GPU"
  },
  "cells": [
    {
      "metadata": {
        "id": "6B8PoZ1QkOaM",
        "colab_type": "text"
      },
      "cell_type": "markdown",
      "source": [
        "**Importing the libraries:**"
      ]
    },
    {
      "metadata": {
        "id": "yXzXWNx97TpG",
        "colab_type": "code",
        "colab": {
          "base_uri": "https://localhost:8080/",
          "height": 35
        },
        "outputId": "123a614d-ec09-45a1-8832-9caaa007fe44"
      },
      "cell_type": "code",
      "source": [
        "import numpy as np\n",
        "import scipy.io\n",
        "from matplotlib import pyplot as plt\n",
        "\n",
        "from keras.utils import np_utils\n",
        "from keras.models import Sequential, Input, Model\n",
        "from keras.layers.core import Dense, Dropout, Activation, Reshape, Flatten, Lambda\n",
        "from keras.layers import Conv2D, MaxPooling2D, UpSampling2D\n",
        "from keras.callbacks import EarlyStopping"
      ],
      "execution_count": 2,
      "outputs": [
        {
          "output_type": "stream",
          "text": [
            "Using TensorFlow backend.\n"
          ],
          "name": "stderr"
        }
      ]
    },
    {
      "metadata": {
        "id": "vsiRdDjQkRg7",
        "colab_type": "text"
      },
      "cell_type": "markdown",
      "source": [
        "**Uploading the Street View House Number dataset:**"
      ]
    },
    {
      "metadata": {
        "id": "pqPhNLbT-pAj",
        "colab_type": "code",
        "colab": {
          "resources": {
            "http://localhost:8080/nbextensions/google.colab/files.js": {
              "data": "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",
              "ok": true,
              "headers": [
                [
                  "content-type",
                  "application/javascript"
                ]
              ],
              "status": 200,
              "status_text": "OK"
            }
          },
          "base_uri": "https://localhost:8080/",
          "height": 76
        },
        "outputId": "e9a55094-0538-41c9-bba1-129503cd337e"
      },
      "cell_type": "code",
      "source": [
        "from google.colab import files\n",
        "\n",
        "uploaded = files.upload()"
      ],
      "execution_count": 3,
      "outputs": [
        {
          "output_type": "display_data",
          "data": {
            "text/html": [
              "\n",
              "     <input type=\"file\" id=\"files-bd98ed6e-b0ac-4df2-a155-b36cd7bc1e86\" name=\"files[]\" multiple disabled />\n",
              "     <output id=\"result-bd98ed6e-b0ac-4df2-a155-b36cd7bc1e86\">\n",
              "      Upload widget is only available when the cell has been executed in the\n",
              "      current browser session. Please rerun this cell to enable.\n",
              "      </output>\n",
              "      <script src=\"/nbextensions/google.colab/files.js\"></script> "
            ],
            "text/plain": [
              "<IPython.core.display.HTML object>"
            ]
          },
          "metadata": {
            "tags": []
          }
        },
        {
          "output_type": "stream",
          "text": [
            "Saving train_32x32.mat to train_32x32.mat\n"
          ],
          "name": "stdout"
        }
      ]
    },
    {
      "metadata": {
        "id": "sNBRotahkV-6",
        "colab_type": "text"
      },
      "cell_type": "markdown",
      "source": [
        "**Loading the dataset and viewing it:**"
      ]
    },
    {
      "metadata": {
        "id": "WP-JAm-zAEfS",
        "colab_type": "code",
        "colab": {}
      },
      "cell_type": "code",
      "source": [
        "mat = scipy.io.loadmat('train_32x32.mat')\n",
        "\n",
        "mat = mat['X']\n",
        "b, h, d, n = mat.shape"
      ],
      "execution_count": 0,
      "outputs": []
    },
    {
      "metadata": {
        "id": "N9n1D6HPOnrA",
        "colab_type": "code",
        "colab": {
          "base_uri": "https://localhost:8080/",
          "height": 2929
        },
        "outputId": "29e83958-d05f-4c31-9f2e-6951af1a7b1c"
      },
      "cell_type": "code",
      "source": [
        "mat"
      ],
      "execution_count": 5,
      "outputs": [
        {
          "output_type": "execute_result",
          "data": {
            "text/plain": [
              "array([[[[ 33,  84,  19, ...,  92, 190, 216],\n",
              "         [ 30,  76,  54, ...,  78, 188, 217],\n",
              "         [ 38,  59, 110, ..., 101, 191, 212]],\n",
              "\n",
              "        [[ 15,  86,  20, ...,  94, 205, 221],\n",
              "         [ 23,  73,  52, ...,  82, 203, 222],\n",
              "         [ 19,  66, 111, ..., 105, 206, 217]],\n",
              "\n",
              "        [[ 15,  77,  25, ..., 114, 220, 226],\n",
              "         [ 17,  78,  57, ..., 101, 218, 227],\n",
              "         [ 19,  56, 116, ..., 125, 220, 221]],\n",
              "\n",
              "        ...,\n",
              "\n",
              "        [[ 72,  90,  65, ..., 200, 229, 200],\n",
              "         [ 65,  78, 144, ..., 201, 231, 199],\n",
              "         [ 56,  69, 223, ..., 203, 224, 191]],\n",
              "\n",
              "        [[ 82,  88,  78, ..., 192, 229, 193],\n",
              "         [ 77,  77, 148, ..., 193, 229, 188],\n",
              "         [ 57,  67, 218, ..., 195, 224, 182]],\n",
              "\n",
              "        [[ 89,  88,  98, ..., 190, 229, 197],\n",
              "         [ 79,  78, 158, ..., 191, 228, 189],\n",
              "         [ 59,  66, 220, ..., 193, 223, 186]]],\n",
              "\n",
              "\n",
              "       [[[ 28,  85,  21, ...,  92, 183, 204],\n",
              "         [ 39,  77,  53, ...,  78, 182, 205],\n",
              "         [ 35,  61, 110, ..., 103, 186, 202]],\n",
              "\n",
              "        [[ 14,  83,  19, ...,  93, 200, 210],\n",
              "         [ 25,  73,  52, ...,  80, 199, 211],\n",
              "         [ 22,  64, 106, ..., 106, 201, 208]],\n",
              "\n",
              "        [[ 14,  74,  25, ..., 111, 218, 220],\n",
              "         [ 20,  69,  56, ...,  98, 217, 221],\n",
              "         [ 17,  59, 111, ..., 124, 218, 217]],\n",
              "\n",
              "        ...,\n",
              "\n",
              "        [[ 40,  89,  63, ..., 181, 227, 201],\n",
              "         [ 39,  82, 137, ..., 180, 228, 199],\n",
              "         [ 50,  64, 208, ..., 184, 223, 193]],\n",
              "\n",
              "        [[ 67,  88,  91, ..., 177, 227, 195],\n",
              "         [ 58,  79, 153, ..., 176, 226, 191],\n",
              "         [ 52,  70, 214, ..., 180, 222, 186]],\n",
              "\n",
              "        [[ 83,  88, 130, ..., 183, 228, 196],\n",
              "         [ 78,  81, 180, ..., 182, 224, 190],\n",
              "         [ 60,  67, 229, ..., 187, 221, 186]]],\n",
              "\n",
              "\n",
              "       [[[ 40,  83,  21, ...,  99, 171, 198],\n",
              "         [ 41,  76,  53, ...,  84, 170, 198],\n",
              "         [ 38,  60, 110, ..., 112, 175, 197]],\n",
              "\n",
              "        [[ 18,  78,  20, ...,  94, 189, 202],\n",
              "         [ 21,  77,  51, ...,  81, 189, 202],\n",
              "         [ 26,  58, 106, ..., 110, 193, 201]],\n",
              "\n",
              "        [[ 16,  61,  22, ..., 107, 213, 212],\n",
              "         [ 17,  50,  52, ...,  94, 213, 211],\n",
              "         [ 23,  54, 106, ..., 123, 215, 210]],\n",
              "\n",
              "        ...,\n",
              "\n",
              "        [[ 23,  90,  79, ..., 167, 231, 203],\n",
              "         [ 29,  85, 147, ..., 166, 230, 200],\n",
              "         [ 45,  63, 210, ..., 171, 226, 196]],\n",
              "\n",
              "        [[ 35,  88, 125, ..., 172, 229, 198],\n",
              "         [ 42,  83, 181, ..., 171, 226, 194],\n",
              "         [ 44,  66, 230, ..., 176, 223, 191]],\n",
              "\n",
              "        [[ 72,  85, 178, ..., 185, 227, 195],\n",
              "         [ 69,  82, 218, ..., 184, 223, 190],\n",
              "         [ 53,  70, 254, ..., 189, 220, 187]]],\n",
              "\n",
              "\n",
              "       ...,\n",
              "\n",
              "\n",
              "       [[[ 86, 100,  88, ...,  99, 187, 233],\n",
              "         [ 81,  98, 162, ...,  94, 185, 226],\n",
              "         [ 75,  72, 237, ..., 110, 186, 228]],\n",
              "\n",
              "        [[ 87,  98,  89, ...,  96, 204, 230],\n",
              "         [ 82,  94, 163, ...,  91, 202, 224],\n",
              "         [ 71,  76, 238, ..., 109, 199, 225]],\n",
              "\n",
              "        [[ 82,  95,  84, ..., 108, 217, 228],\n",
              "         [ 79,  93, 156, ..., 103, 217, 223],\n",
              "         [ 65,  73, 230, ..., 124, 210, 221]],\n",
              "\n",
              "        ...,\n",
              "\n",
              "        [[104, 104,  62, ..., 210, 204, 198],\n",
              "         [104, 104, 142, ..., 207, 200, 196],\n",
              "         [ 87,  86, 227, ..., 204, 195, 190]],\n",
              "\n",
              "        [[104, 102,  67, ..., 206, 196, 184],\n",
              "         [105, 102, 144, ..., 202, 193, 183],\n",
              "         [ 81,  87, 226, ..., 200, 189, 177]],\n",
              "\n",
              "        [[103, 100,  74, ..., 203, 196, 189],\n",
              "         [105, 101, 145, ..., 197, 193, 187],\n",
              "         [ 78,  78, 225, ..., 199, 189, 182]]],\n",
              "\n",
              "\n",
              "       [[[ 84, 103,  88, ...,  94, 186, 231],\n",
              "         [ 86, 104, 164, ...,  91, 184, 226],\n",
              "         [ 64,  79, 240, ..., 103, 185, 228]],\n",
              "\n",
              "        [[ 86, 106,  87, ...,  94, 198, 229],\n",
              "         [ 79, 104, 160, ...,  91, 197, 224],\n",
              "         [ 72,  79, 237, ..., 104, 194, 225]],\n",
              "\n",
              "        [[ 82, 103,  88, ..., 110, 211, 227],\n",
              "         [ 76, 103, 159, ..., 107, 211, 223],\n",
              "         [ 72,  87, 237, ..., 121, 204, 222]],\n",
              "\n",
              "        ...,\n",
              "\n",
              "        [[110, 103,  60, ..., 219, 222, 195],\n",
              "         [103, 104, 141, ..., 218, 216, 194],\n",
              "         [ 84,  86, 230, ..., 215, 212, 186]],\n",
              "\n",
              "        [[106, 103,  61, ..., 218, 214, 181],\n",
              "         [105, 103, 141, ..., 215, 209, 181],\n",
              "         [ 85,  87, 228, ..., 212, 205, 173]],\n",
              "\n",
              "        [[106, 105,  65, ..., 212, 208, 186],\n",
              "         [104,  99, 143, ..., 209, 205, 183],\n",
              "         [ 86,  81, 226, ..., 209, 200, 177]]],\n",
              "\n",
              "\n",
              "       [[[ 85, 103,  84, ...,  88, 190, 230],\n",
              "         [ 88, 106, 160, ...,  87, 188, 226],\n",
              "         [ 68,  82, 238, ...,  94, 190, 227]],\n",
              "\n",
              "        [[ 89, 103,  81, ...,  85, 199, 230],\n",
              "         [ 82, 105, 154, ...,  84, 197, 226],\n",
              "         [ 72,  87, 233, ...,  93, 194, 227]],\n",
              "\n",
              "        [[ 85, 104,  87, ..., 105, 208, 229],\n",
              "         [ 79, 106, 158, ..., 103, 208, 225],\n",
              "         [ 67,  91, 238, ..., 114, 201, 226]],\n",
              "\n",
              "        ...,\n",
              "\n",
              "        [[111, 113,  63, ..., 217, 232, 190],\n",
              "         [104, 103, 144, ..., 217, 227, 190],\n",
              "         [ 87,  88, 235, ..., 214, 223, 181]],\n",
              "\n",
              "        [[109, 104,  62, ..., 221, 226, 178],\n",
              "         [105, 104, 143, ..., 220, 221, 177],\n",
              "         [ 86,  88, 232, ..., 219, 216, 169]],\n",
              "\n",
              "        [[103, 103,  63, ..., 218, 218, 181],\n",
              "         [106,  98, 145, ..., 217, 213, 178],\n",
              "         [ 79,  80, 231, ..., 218, 209, 171]]]], dtype=uint8)"
            ]
          },
          "metadata": {
            "tags": []
          },
          "execution_count": 5
        }
      ]
    },
    {
      "metadata": {
        "id": "raCNC_4ekaLV",
        "colab_type": "text"
      },
      "cell_type": "markdown",
      "source": [
        "**Converting all RGB images to greyscale and normalizing the images:**"
      ]
    },
    {
      "metadata": {
        "id": "cAbKbQL6OuZl",
        "colab_type": "code",
        "colab": {}
      },
      "cell_type": "code",
      "source": [
        "# Convert all RGB - images to greyscale\n",
        "img_gray = np.zeros(shape = (n, b, h, 1))\n",
        "\n",
        "def rgb2gray(rgb):\n",
        "  return np.dot(rgb[..., :3], [0.299, 0.587, 0.114])\n",
        "\n",
        "for i in range(n):\n",
        "  # Convert to greyscale\n",
        "  img = rgb2gray(mat[:, :, :, i])\n",
        "  img = img.reshape(1, 32, 32, 1)\n",
        "  img_gray[i, :] = img\n",
        "  \n",
        "# Normalize input\n",
        "img_gray = img_gray / 255."
      ],
      "execution_count": 0,
      "outputs": []
    },
    {
      "metadata": {
        "id": "evl0hr0rkfrG",
        "colab_type": "text"
      },
      "cell_type": "markdown",
      "source": [
        "**Building the autoencoder:**"
      ]
    },
    {
      "metadata": {
        "id": "T_ZPWbgnQ8Gz",
        "colab_type": "code",
        "colab": {
          "base_uri": "https://localhost:8080/",
          "height": 716
        },
        "outputId": "b5cfecc8-fc39-403b-eccf-b5188a141835"
      },
      "cell_type": "code",
      "source": [
        "img_size = Input(shape = (b, h, 1))\n",
        "\n",
        "x = Conv2D(16, (3, 3), activation = 'relu', padding = 'same')(img_size)\n",
        "x = MaxPooling2D((2, 2), padding = 'same')(x)\n",
        "x = Conv2D(8, (3, 3), activation = 'relu', padding = 'same')(x)\n",
        "x = MaxPooling2D((2, 2), padding = 'same')(x)\n",
        "x = Conv2D(8, (3, 3), activation = 'relu', padding = 'same')(x)\n",
        "encoded = MaxPooling2D((2, 2), padding = 'same')(x)\n",
        "\n",
        "x = Conv2D(8, (3, 3), activation = 'relu', padding = 'same')(encoded)\n",
        "x = UpSampling2D((2, 2))(x)\n",
        "x = Conv2D(8, (3, 3), activation = 'relu', padding = 'same')(x)\n",
        "x = UpSampling2D((2, 2))(x)\n",
        "x = Conv2D(16, (3, 3), activation = 'relu', padding = 'same')(x)\n",
        "x = UpSampling2D((2, 2))(x)\n",
        "decoded = Conv2D(1, (3, 3), activation = 'sigmoid', padding = 'same')(x)\n",
        "\n",
        "autoencoder = Model(img_size, decoded)\n",
        "\n",
        "autoencoder.compile(loss = 'binary_crossentropy',\n",
        "                    optimizer = 'rmsprop',\n",
        "                    metrics = ['binary_accuracy'])\n",
        "\n",
        "# Output summary of network\n",
        "autoencoder.summary()"
      ],
      "execution_count": 7,
      "outputs": [
        {
          "output_type": "stream",
          "text": [
            "WARNING:tensorflow:From /usr/local/lib/python3.6/dist-packages/tensorflow/python/framework/op_def_library.py:263: colocate_with (from tensorflow.python.framework.ops) is deprecated and will be removed in a future version.\n",
            "Instructions for updating:\n",
            "Colocations handled automatically by placer.\n",
            "_________________________________________________________________\n",
            "Layer (type)                 Output Shape              Param #   \n",
            "=================================================================\n",
            "input_1 (InputLayer)         (None, 32, 32, 1)         0         \n",
            "_________________________________________________________________\n",
            "conv2d_1 (Conv2D)            (None, 32, 32, 16)        160       \n",
            "_________________________________________________________________\n",
            "max_pooling2d_1 (MaxPooling2 (None, 16, 16, 16)        0         \n",
            "_________________________________________________________________\n",
            "conv2d_2 (Conv2D)            (None, 16, 16, 8)         1160      \n",
            "_________________________________________________________________\n",
            "max_pooling2d_2 (MaxPooling2 (None, 8, 8, 8)           0         \n",
            "_________________________________________________________________\n",
            "conv2d_3 (Conv2D)            (None, 8, 8, 8)           584       \n",
            "_________________________________________________________________\n",
            "max_pooling2d_3 (MaxPooling2 (None, 4, 4, 8)           0         \n",
            "_________________________________________________________________\n",
            "conv2d_4 (Conv2D)            (None, 4, 4, 8)           584       \n",
            "_________________________________________________________________\n",
            "up_sampling2d_1 (UpSampling2 (None, 8, 8, 8)           0         \n",
            "_________________________________________________________________\n",
            "conv2d_5 (Conv2D)            (None, 8, 8, 8)           584       \n",
            "_________________________________________________________________\n",
            "up_sampling2d_2 (UpSampling2 (None, 16, 16, 8)         0         \n",
            "_________________________________________________________________\n",
            "conv2d_6 (Conv2D)            (None, 16, 16, 16)        1168      \n",
            "_________________________________________________________________\n",
            "up_sampling2d_3 (UpSampling2 (None, 32, 32, 16)        0         \n",
            "_________________________________________________________________\n",
            "conv2d_7 (Conv2D)            (None, 32, 32, 1)         145       \n",
            "=================================================================\n",
            "Total params: 4,385\n",
            "Trainable params: 4,385\n",
            "Non-trainable params: 0\n",
            "_________________________________________________________________\n"
          ],
          "name": "stdout"
        }
      ]
    },
    {
      "metadata": {
        "id": "8Kg3HPv1kkZB",
        "colab_type": "text"
      },
      "cell_type": "markdown",
      "source": [
        "**Defining the callback function:**"
      ]
    },
    {
      "metadata": {
        "id": "FaJuP_h0koHO",
        "colab_type": "text"
      },
      "cell_type": "markdown",
      "source": [
        "**Defining the hyperparameters and training the model:**"
      ]
    },
    {
      "metadata": {
        "id": "31ABBGvwagqo",
        "colab_type": "code",
        "colab": {}
      },
      "cell_type": "code",
      "source": [
        "callbacks = [EarlyStopping(monitor = 'val_loss', patience = 5)]"
      ],
      "execution_count": 0,
      "outputs": []
    },
    {
      "metadata": {
        "id": "Jzyp2LAFcdrY",
        "colab_type": "code",
        "colab": {
          "base_uri": "https://localhost:8080/",
          "height": 787
        },
        "outputId": "c1967744-57f2-40c3-c5d0-569410b15981"
      },
      "cell_type": "code",
      "source": [
        "n_epochs = 1000\n",
        "batch_size = 128\n",
        "\n",
        "autoencoder.fit(img_gray, img_gray,\n",
        "                epochs = n_epochs,\n",
        "                batch_size = batch_size,\n",
        "                shuffle = True,\n",
        "                validation_split = 0.2,\n",
        "                callbacks = callbacks)"
      ],
      "execution_count": 11,
      "outputs": [
        {
          "output_type": "stream",
          "text": [
            "Train on 58605 samples, validate on 14652 samples\n",
            "Epoch 1/1000\n",
            "58605/58605 [==============================] - 9s 160us/step - loss: 0.6390 - binary_accuracy: 2.0456e-04 - val_loss: 0.6272 - val_binary_accuracy: 1.7276e-04\n",
            "Epoch 2/1000\n",
            "58605/58605 [==============================] - 7s 124us/step - loss: 0.6248 - binary_accuracy: 2.2127e-04 - val_loss: 0.6236 - val_binary_accuracy: 1.7302e-04\n",
            "Epoch 3/1000\n",
            "58605/58605 [==============================] - 7s 124us/step - loss: 0.6212 - binary_accuracy: 2.2147e-04 - val_loss: 0.6202 - val_binary_accuracy: 1.7302e-04\n",
            "Epoch 4/1000\n",
            "58605/58605 [==============================] - 7s 123us/step - loss: 0.6192 - binary_accuracy: 2.2176e-04 - val_loss: 0.6189 - val_binary_accuracy: 1.7316e-04\n",
            "Epoch 5/1000\n",
            "58605/58605 [==============================] - 7s 124us/step - loss: 0.6180 - binary_accuracy: 2.2226e-04 - val_loss: 0.6181 - val_binary_accuracy: 1.7309e-04\n",
            "Epoch 6/1000\n",
            "58605/58605 [==============================] - 7s 124us/step - loss: 0.6172 - binary_accuracy: 2.2251e-04 - val_loss: 0.6163 - val_binary_accuracy: 1.7309e-04\n",
            "Epoch 7/1000\n",
            "58605/58605 [==============================] - 7s 125us/step - loss: 0.6166 - binary_accuracy: 2.2251e-04 - val_loss: 0.6156 - val_binary_accuracy: 1.7282e-04\n",
            "Epoch 8/1000\n",
            "58605/58605 [==============================] - 7s 124us/step - loss: 0.6160 - binary_accuracy: 2.2242e-04 - val_loss: 0.6157 - val_binary_accuracy: 1.7289e-04\n",
            "Epoch 9/1000\n",
            "58605/58605 [==============================] - 7s 123us/step - loss: 0.6156 - binary_accuracy: 2.2279e-04 - val_loss: 0.6151 - val_binary_accuracy: 1.7296e-04\n",
            "Epoch 10/1000\n",
            "58605/58605 [==============================] - 7s 123us/step - loss: 0.6152 - binary_accuracy: 2.2287e-04 - val_loss: 0.6149 - val_binary_accuracy: 1.7282e-04\n",
            "Epoch 11/1000\n",
            "58605/58605 [==============================] - 7s 124us/step - loss: 0.6148 - binary_accuracy: 2.2277e-04 - val_loss: 0.6145 - val_binary_accuracy: 1.7302e-04\n",
            "Epoch 12/1000\n",
            "58605/58605 [==============================] - 7s 123us/step - loss: 0.6145 - binary_accuracy: 2.2277e-04 - val_loss: 0.6143 - val_binary_accuracy: 1.7289e-04\n",
            "Epoch 13/1000\n",
            "58605/58605 [==============================] - 7s 122us/step - loss: 0.6142 - binary_accuracy: 2.2279e-04 - val_loss: 0.6137 - val_binary_accuracy: 1.7276e-04\n",
            "Epoch 14/1000\n",
            "58605/58605 [==============================] - 7s 123us/step - loss: 0.6140 - binary_accuracy: 2.2296e-04 - val_loss: 0.6139 - val_binary_accuracy: 1.7289e-04\n",
            "Epoch 15/1000\n",
            "58605/58605 [==============================] - 7s 124us/step - loss: 0.6138 - binary_accuracy: 2.2297e-04 - val_loss: 0.6127 - val_binary_accuracy: 1.7276e-04\n",
            "Epoch 16/1000\n",
            "58605/58605 [==============================] - 7s 124us/step - loss: 0.6136 - binary_accuracy: 2.2302e-04 - val_loss: 0.6129 - val_binary_accuracy: 1.7276e-04\n",
            "Epoch 17/1000\n",
            "58605/58605 [==============================] - 7s 123us/step - loss: 0.6134 - binary_accuracy: 2.2304e-04 - val_loss: 0.6132 - val_binary_accuracy: 1.7276e-04\n",
            "Epoch 18/1000\n",
            "58605/58605 [==============================] - 7s 124us/step - loss: 0.6133 - binary_accuracy: 2.2312e-04 - val_loss: 0.6129 - val_binary_accuracy: 1.7276e-04\n",
            "Epoch 19/1000\n",
            "58605/58605 [==============================] - 7s 123us/step - loss: 0.6131 - binary_accuracy: 2.2291e-04 - val_loss: 0.6138 - val_binary_accuracy: 1.7282e-04\n",
            "Epoch 20/1000\n",
            "58605/58605 [==============================] - 7s 124us/step - loss: 0.6130 - binary_accuracy: 2.2306e-04 - val_loss: 0.6135 - val_binary_accuracy: 1.7276e-04\n"
          ],
          "name": "stdout"
        },
        {
          "output_type": "execute_result",
          "data": {
            "text/plain": [
              "<keras.callbacks.History at 0x7f95cdf5a0f0>"
            ]
          },
          "metadata": {
            "tags": []
          },
          "execution_count": 11
        }
      ]
    },
    {
      "metadata": {
        "id": "qKEXAQedkvfD",
        "colab_type": "text"
      },
      "cell_type": "markdown",
      "source": [
        "**Predicting, using the autoencoder:**"
      ]
    },
    {
      "metadata": {
        "id": "_RvjPEMbc9Dd",
        "colab_type": "code",
        "colab": {}
      },
      "cell_type": "code",
      "source": [
        "pred = autoencoder.predict(img_gray)"
      ],
      "execution_count": 0,
      "outputs": []
    },
    {
      "metadata": {
        "id": "6Q8iB-_Hkysu",
        "colab_type": "text"
      },
      "cell_type": "markdown",
      "source": [
        "**Now, we can output some of the original images and corresponding decoded images:**"
      ]
    },
    {
      "metadata": {
        "id": "ZuviQ3lSebYZ",
        "colab_type": "code",
        "colab": {
          "base_uri": "https://localhost:8080/",
          "height": 342
        },
        "outputId": "99c04aee-2d0b-4514-b81b-eab8337ffa33"
      },
      "cell_type": "code",
      "source": [
        "n = 5\n",
        "\n",
        "plt.figure(figsize = (15, 5))\n",
        "for i in range(n):\n",
        "  rand = np.random.randint(len(img_gray))\n",
        "  ax = plt.subplot(2, n, i + 1)\n",
        "  plt.imshow(img_gray[i].reshape(32, 32), cmap = 'gray')\n",
        "  ax = plt.subplot(2, n, i + 1 + n)\n",
        "  plt.imshow(pred[i].reshape(32, 32), cmap = 'gray')\n",
        "plt.show()"
      ],
      "execution_count": 13,
      "outputs": [
        {
          "output_type": "display_data",
          "data": {
            "image/png": "[encoded data removed]",
            "text/plain": [
              "<Figure size 1080x360 with 10 Axes>"
            ]
          },
          "metadata": {
            "tags": []
          }
        }
      ]
    }
  ]
}