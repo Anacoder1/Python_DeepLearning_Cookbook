{
  "nbformat": 4,
  "nbformat_minor": 0,
  "metadata": {
    "colab": {
      "name": "1_Implementing a simple RNN.ipynb",
      "version": "0.3.2",
      "provenance": [],
      "collapsed_sections": []
    },
    "kernelspec": {
      "name": "python3",
      "display_name": "Python 3"
    },
    "accelerator": "GPU"
  },
  "cells": [
    {
      "metadata": {
        "id": "apSB3FdvyHR2",
        "colab_type": "text"
      },
      "cell_type": "markdown",
      "source": [
        "**In this basic example, we will implement a simple RNN with NumPy:**"
      ]
    },
    {
      "metadata": {
        "id": "cRav85EQgLUW",
        "colab_type": "code",
        "colab": {}
      },
      "cell_type": "code",
      "source": [
        "import numpy as np"
      ],
      "execution_count": 0,
      "outputs": []
    },
    {
      "metadata": {
        "id": "DtGsQIVByNxY",
        "colab_type": "text"
      },
      "cell_type": "markdown",
      "source": [
        "**Let's start with creating the dummy dataset that we will be using:**"
      ]
    },
    {
      "metadata": {
        "id": "DsbvfK_8iJ9R",
        "colab_type": "code",
        "colab": {}
      },
      "cell_type": "code",
      "source": [
        "X = []\n",
        "\n",
        "X.append([1, 0, 0, 0])\n",
        "X.append([0, 1, 0, 0])\n",
        "X.append([0, 0, 1, 0])\n",
        "X.append([0, 0, 0, 1])\n",
        "X.append([0, 0, 0, 1])\n",
        "X.append([1, 0, 0, 0])\n",
        "X.append([0, 1, 0, 0])\n",
        "X.append([0, 0, 1, 0])\n",
        "X.append([0, 0, 0, 1])\n",
        "\n",
        "y = [0.20, 0.30, 0.40, 0.50, 0.05,\n",
        "     0.10, 0.20, 0.30, 0.40]"
      ],
      "execution_count": 0,
      "outputs": []
    },
    {
      "metadata": {
        "id": "xBlS16PxyVy2",
        "colab_type": "text"
      },
      "cell_type": "markdown",
      "source": [
        "**For this regression problem, we'll be using a sigmoid activation function:**"
      ]
    },
    {
      "metadata": {
        "id": "4uIvsd8liyuc",
        "colab_type": "code",
        "colab": {}
      },
      "cell_type": "code",
      "source": [
        "def sigmoid(x):\n",
        "  return 1 / (1 + np.exp(-x))\n",
        "\n",
        "def sigmoid_der(x):\n",
        "  return 1.0 - x ** 2"
      ],
      "execution_count": 0,
      "outputs": []
    },
    {
      "metadata": {
        "id": "_W0hCa2XybtO",
        "colab_type": "text"
      },
      "cell_type": "markdown",
      "source": [
        "**Next, we initialize the layers and weights:**"
      ]
    },
    {
      "metadata": {
        "id": "7_g-v_OSjKtE",
        "colab_type": "code",
        "colab": {}
      },
      "cell_type": "code",
      "source": [
        "layers = []\n",
        "\n",
        "# 4 input variables, 16 hidden units and 1 output variable\n",
        "n_units = (4, 16, 1)\n",
        "n_layers = len(n_units)\n",
        "\n",
        "layers.append(np.ones(n_units[0] + 1 + n_units[1]))\n",
        "\n",
        "for i in range(1, n_layers):\n",
        "  layers.append(np.ones(n_units[i]))\n",
        "  \n",
        "weights = []\n",
        "for i in range(n_layers - 1):\n",
        "  weights.append(np.zeros((layers[i].size, layers[i+1].size)))\n",
        "  \n",
        "weights_delta = [0, ] * len(weights)"
      ],
      "execution_count": 0,
      "outputs": []
    },
    {
      "metadata": {
        "id": "dZA8nlvTyjV_",
        "colab_type": "text"
      },
      "cell_type": "markdown",
      "source": [
        "**We are now ready to define the function for the forward pass:**"
      ]
    },
    {
      "metadata": {
        "id": "qM2NMvjImOQj",
        "colab_type": "code",
        "colab": {}
      },
      "cell_type": "code",
      "source": [
        "def forwards(data):\n",
        "  layers[0][:n_units[0]] = data\n",
        "  layers[0][n_units[0] : -1] = layers[1]\n",
        "  \n",
        "  # Propagate the data forwards\n",
        "  for i in range(1, n_layers):\n",
        "    layers[i][...] = sigmoid(np.dot(layers[i-1], weights[i-1]))\n",
        "    \n",
        "  return layers[-1]"
      ],
      "execution_count": 0,
      "outputs": []
    },
    {
      "metadata": {
        "id": "88a5nq6mynz_",
        "colab_type": "text"
      },
      "cell_type": "markdown",
      "source": [
        "**In the backwards pass, we will determine the errors and update the weights:**"
      ]
    },
    {
      "metadata": {
        "id": "oa6hsPK-nP2L",
        "colab_type": "code",
        "colab": {}
      },
      "cell_type": "code",
      "source": [
        "def backwards(target, learning_rate = 0.1, momentum = 0.1):\n",
        "  deltas = []\n",
        "  error = target - layers[-1]\n",
        "  delta = error * sigmoid_der(layers[-1])\n",
        "  deltas.append(delta)\n",
        "  \n",
        "  # Determine error in hidden layers\n",
        "  for i in range(n_layers - 2, 0, -1):\n",
        "    delta = np.dot(deltas[0], weights[i].T) * sigmoid_der(layers[i])\n",
        "    deltas.insert(0, delta)\n",
        "    \n",
        "  # Update weights\n",
        "  for i in range(len(weights)):\n",
        "    layer = np.atleast_2d(layers[i])\n",
        "    delta = np.atleast_2d(deltas[i])\n",
        "    weights_delta_temp = np.dot(layer.T, delta)\n",
        "    weights[i] += learning_rate * weights_delta_temp + momentum * weights_delta[i]\n",
        "    weights_delta[i] = weights_delta_temp\n",
        "    \n",
        "  return (error ** 2).sum()"
      ],
      "execution_count": 0,
      "outputs": []
    },
    {
      "metadata": {
        "id": "a5tWT8sKywAV",
        "colab_type": "text"
      },
      "cell_type": "markdown",
      "source": [
        "**We are now ready to train our simple RNN:**"
      ]
    },
    {
      "metadata": {
        "id": "LwL3xZ8PrkvO",
        "colab_type": "code",
        "colab": {
          "base_uri": "https://localhost:8080/",
          "height": 196
        },
        "outputId": "b3a52f24-e345-40c4-fcee-3c8b0f6b2430"
      },
      "cell_type": "code",
      "source": [
        "n_epochs = 10000\n",
        "\n",
        "for i in range(n_epochs):\n",
        "  loss = 0\n",
        "  for j in range(len(X)):\n",
        "    forwards(X[j])\n",
        "    backwards(y[j])\n",
        "    loss += (y[j] - forwards(X[j])) ** 2\n",
        "  \n",
        "  if i % 1000 == 0: print('epoch {} - loss: {:04.4f}'.format(i, loss[0]))"
      ],
      "execution_count": 7,
      "outputs": [
        {
          "output_type": "stream",
          "text": [
            "epoch 0 - loss: 0.3116\n",
            "epoch 1000 - loss: 0.1660\n",
            "epoch 2000 - loss: 0.1801\n",
            "epoch 3000 - loss: 0.1877\n",
            "epoch 4000 - loss: 0.1914\n",
            "epoch 5000 - loss: 0.1922\n",
            "epoch 6000 - loss: 0.1920\n",
            "epoch 7000 - loss: 0.1916\n",
            "epoch 8000 - loss: 0.1913\n",
            "epoch 9000 - loss: 0.1912\n"
          ],
          "name": "stdout"
        }
      ]
    },
    {
      "metadata": {
        "id": "E_1djt5By0Bm",
        "colab_type": "text"
      },
      "cell_type": "markdown",
      "source": [
        "**Finally, let's inspect our results**"
      ]
    },
    {
      "metadata": {
        "id": "qIGn_8xCspdG",
        "colab_type": "code",
        "colab": {
          "base_uri": "https://localhost:8080/",
          "height": 178
        },
        "outputId": "082347a7-d2ab-47a5-c186-c14c521fef86"
      },
      "cell_type": "code",
      "source": [
        "for i in range(len(X)):\n",
        "  pred = forwards(X[i])\n",
        "  loss = (y[i] - pred) ** 2\n",
        "  print('X: {}; y: {:04.2f}; pred: {:04.2f}'.format(X[i], y[i], pred[0]))"
      ],
      "execution_count": 8,
      "outputs": [
        {
          "output_type": "stream",
          "text": [
            "X: [1, 0, 0, 0]; y: 0.20; pred: 0.15\n",
            "X: [0, 1, 0, 0]; y: 0.30; pred: 0.39\n",
            "X: [0, 0, 1, 0]; y: 0.40; pred: 0.29\n",
            "X: [0, 0, 0, 1]; y: 0.50; pred: 0.34\n",
            "X: [0, 0, 0, 1]; y: 0.05; pred: 0.30\n",
            "X: [1, 0, 0, 0]; y: 0.10; pred: 0.16\n",
            "X: [0, 1, 0, 0]; y: 0.20; pred: 0.38\n",
            "X: [0, 0, 1, 0]; y: 0.30; pred: 0.30\n",
            "X: [0, 0, 0, 1]; y: 0.40; pred: 0.33\n"
          ],
          "name": "stdout"
        }
      ]
    }
  ]
}